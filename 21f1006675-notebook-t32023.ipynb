{
 "cells": [
  {
   "cell_type": "code",
   "execution_count": 1,
   "id": "c21d5338",
   "metadata": {
    "_cell_guid": "b1076dfc-b9ad-4769-8c92-a6c4dae69d19",
    "_uuid": "8f2839f25d086af736a60e9eeb907d3b93b6e0e5",
    "execution": {
     "iopub.execute_input": "2024-01-09T10:15:12.413907Z",
     "iopub.status.busy": "2024-01-09T10:15:12.413488Z",
     "iopub.status.idle": "2024-01-09T10:15:13.233767Z",
     "shell.execute_reply": "2024-01-09T10:15:13.232654Z"
    },
    "papermill": {
     "duration": 0.8513,
     "end_time": "2024-01-09T10:15:13.236211",
     "exception": false,
     "start_time": "2024-01-09T10:15:12.384911",
     "status": "completed"
    },
    "tags": []
   },
   "outputs": [
    {
     "name": "stdout",
     "output_type": "stream",
     "text": [
      "/kaggle/input/taxi-fare-guru-total-amount-prediction-challenge/sample.csv.csv\n",
      "/kaggle/input/taxi-fare-guru-total-amount-prediction-challenge/train.csv\n",
      "/kaggle/input/taxi-fare-guru-total-amount-prediction-challenge/test.csv\n"
     ]
    }
   ],
   "source": [
    "# This Python 3 environment comes with many helpful analytics libraries installed\n",
    "# It is defined by the kaggle/python Docker image: https://github.com/kaggle/docker-python\n",
    "# For example, here's several helpful packages to load\n",
    "\n",
    "import numpy as np # linear algebra\n",
    "import pandas as pd # data processing, CSV file I/O (e.g. pd.read_csv)\n",
    "\n",
    "# Input data files are available in the read-only \"../input/\" directory\n",
    "# For example, running this (by clicking run or pressing Shift+Enter) will list all files under the input directory\n",
    "\n",
    "import os\n",
    "for dirname, _, filenames in os.walk('/kaggle/input'):\n",
    "    for filename in filenames:\n",
    "        print(os.path.join(dirname, filename))\n",
    "\n",
    "# You can write up to 20GB to the current directory (/kaggle/working/) that gets preserved as output when you create a version using \"Save & Run All\" \n",
    "# You can also write temporary files to /kaggle/temp/, but they won't be saved outside of the current session"
   ]
  },
  {
   "cell_type": "markdown",
   "id": "9d105fc5",
   "metadata": {
    "papermill": {
     "duration": 0.02873,
     "end_time": "2024-01-09T10:15:13.292907",
     "exception": false,
     "start_time": "2024-01-09T10:15:13.264177",
     "status": "completed"
    },
    "tags": []
   },
   "source": [
    "# Imports"
   ]
  },
  {
   "cell_type": "code",
   "execution_count": 2,
   "id": "410ff5e1",
   "metadata": {
    "execution": {
     "iopub.execute_input": "2024-01-09T10:15:13.351282Z",
     "iopub.status.busy": "2024-01-09T10:15:13.350768Z",
     "iopub.status.idle": "2024-01-09T10:15:14.597716Z",
     "shell.execute_reply": "2024-01-09T10:15:14.596701Z"
    },
    "papermill": {
     "duration": 1.279339,
     "end_time": "2024-01-09T10:15:14.600425",
     "exception": false,
     "start_time": "2024-01-09T10:15:13.321086",
     "status": "completed"
    },
    "tags": []
   },
   "outputs": [
    {
     "name": "stderr",
     "output_type": "stream",
     "text": [
      "/opt/conda/lib/python3.10/site-packages/scipy/__init__.py:146: UserWarning: A NumPy version >=1.16.5 and <1.23.0 is required for this version of SciPy (detected version 1.23.5\n",
      "  warnings.warn(f\"A NumPy version >={np_minversion} and <{np_maxversion}\"\n"
     ]
    }
   ],
   "source": [
    "import pandas as pd\n",
    "import numpy as np\n",
    "import matplotlib.pyplot as plt\n",
    "import seaborn as sns"
   ]
  },
  {
   "cell_type": "code",
   "execution_count": 3,
   "id": "704c2456",
   "metadata": {
    "execution": {
     "iopub.execute_input": "2024-01-09T10:15:14.656429Z",
     "iopub.status.busy": "2024-01-09T10:15:14.656010Z",
     "iopub.status.idle": "2024-01-09T10:15:15.589823Z",
     "shell.execute_reply": "2024-01-09T10:15:15.588861Z"
    },
    "papermill": {
     "duration": 0.965171,
     "end_time": "2024-01-09T10:15:15.592375",
     "exception": false,
     "start_time": "2024-01-09T10:15:14.627204",
     "status": "completed"
    },
    "tags": []
   },
   "outputs": [],
   "source": [
    "#SKLEARN IMPORTS\n",
    "from sklearn.impute import SimpleImputer\n",
    "from sklearn.preprocessing import LabelEncoder, StandardScaler\n",
    "from sklearn.model_selection import train_test_split, GridSearchCV\n",
    "from sklearn.preprocessing import OneHotEncoder\n",
    "from sklearn.linear_model import LinearRegression, Lasso, Ridge\n",
    "from sklearn.ensemble import RandomForestRegressor, GradientBoostingRegressor, AdaBoostRegressor \n",
    "from sklearn.svm import SVR\n",
    "from sklearn.neural_network import MLPRegressor\n",
    "from sklearn.metrics import r2_score\n",
    "from scipy.sparse import hstack\n",
    "from sklearn.pipeline import Pipeline, make_pipeline\n",
    "from sklearn.compose import ColumnTransformer\n",
    "from xgboost import XGBRegressor"
   ]
  },
  {
   "cell_type": "markdown",
   "id": "f0797ab5",
   "metadata": {
    "papermill": {
     "duration": 0.085252,
     "end_time": "2024-01-09T10:15:15.705747",
     "exception": false,
     "start_time": "2024-01-09T10:15:15.620495",
     "status": "completed"
    },
    "tags": []
   },
   "source": [
    "# **Loading Data**"
   ]
  },
  {
   "cell_type": "code",
   "execution_count": 4,
   "id": "9315cab5",
   "metadata": {
    "execution": {
     "iopub.execute_input": "2024-01-09T10:15:15.764496Z",
     "iopub.status.busy": "2024-01-09T10:15:15.764014Z",
     "iopub.status.idle": "2024-01-09T10:15:16.565076Z",
     "shell.execute_reply": "2024-01-09T10:15:16.564131Z"
    },
    "papermill": {
     "duration": 0.833213,
     "end_time": "2024-01-09T10:15:16.567599",
     "exception": false,
     "start_time": "2024-01-09T10:15:15.734386",
     "status": "completed"
    },
    "tags": []
   },
   "outputs": [],
   "source": [
    "#LOADING THE DATA\n",
    "taxi_data_path = '/kaggle/input/taxi-fare-guru-total-amount-prediction-challenge/train.csv'\n",
    "taxi_data = pd.read_csv(taxi_data_path)"
   ]
  },
  {
   "cell_type": "markdown",
   "id": "856f3e5c",
   "metadata": {
    "papermill": {
     "duration": 0.028553,
     "end_time": "2024-01-09T10:15:16.625321",
     "exception": false,
     "start_time": "2024-01-09T10:15:16.596768",
     "status": "completed"
    },
    "tags": []
   },
   "source": [
    "# **Data Exploration and Preprocessing**"
   ]
  },
  {
   "cell_type": "markdown",
   "id": "1775c054",
   "metadata": {
    "papermill": {
     "duration": 0.027588,
     "end_time": "2024-01-09T10:15:16.680754",
     "exception": false,
     "start_time": "2024-01-09T10:15:16.653166",
     "status": "completed"
    },
    "tags": []
   },
   "source": [
    "# Exploratory Data Analysis (EDA)"
   ]
  },
  {
   "cell_type": "code",
   "execution_count": 5,
   "id": "7e98359d",
   "metadata": {
    "execution": {
     "iopub.execute_input": "2024-01-09T10:15:16.738859Z",
     "iopub.status.busy": "2024-01-09T10:15:16.738064Z",
     "iopub.status.idle": "2024-01-09T10:15:16.745317Z",
     "shell.execute_reply": "2024-01-09T10:15:16.744365Z"
    },
    "papermill": {
     "duration": 0.039137,
     "end_time": "2024-01-09T10:15:16.747846",
     "exception": false,
     "start_time": "2024-01-09T10:15:16.708709",
     "status": "completed"
    },
    "tags": []
   },
   "outputs": [
    {
     "data": {
      "text/plain": [
       "(175000, 17)"
      ]
     },
     "execution_count": 5,
     "metadata": {},
     "output_type": "execute_result"
    }
   ],
   "source": [
    "#checking shape of data\n",
    "taxi_data.shape"
   ]
  },
  {
   "cell_type": "code",
   "execution_count": 6,
   "id": "02ca537d",
   "metadata": {
    "execution": {
     "iopub.execute_input": "2024-01-09T10:15:16.805814Z",
     "iopub.status.busy": "2024-01-09T10:15:16.805434Z",
     "iopub.status.idle": "2024-01-09T10:15:16.840157Z",
     "shell.execute_reply": "2024-01-09T10:15:16.839024Z"
    },
    "papermill": {
     "duration": 0.066602,
     "end_time": "2024-01-09T10:15:16.842482",
     "exception": false,
     "start_time": "2024-01-09T10:15:16.775880",
     "status": "completed"
    },
    "tags": []
   },
   "outputs": [
    {
     "data": {
      "text/html": [
       "<div>\n",
       "<style scoped>\n",
       "    .dataframe tbody tr th:only-of-type {\n",
       "        vertical-align: middle;\n",
       "    }\n",
       "\n",
       "    .dataframe tbody tr th {\n",
       "        vertical-align: top;\n",
       "    }\n",
       "\n",
       "    .dataframe thead th {\n",
       "        text-align: right;\n",
       "    }\n",
       "</style>\n",
       "<table border=\"1\" class=\"dataframe\">\n",
       "  <thead>\n",
       "    <tr style=\"text-align: right;\">\n",
       "      <th></th>\n",
       "      <th>VendorID</th>\n",
       "      <th>tpep_pickup_datetime</th>\n",
       "      <th>tpep_dropoff_datetime</th>\n",
       "      <th>passenger_count</th>\n",
       "      <th>trip_distance</th>\n",
       "      <th>RatecodeID</th>\n",
       "      <th>store_and_fwd_flag</th>\n",
       "      <th>PULocationID</th>\n",
       "      <th>DOLocationID</th>\n",
       "      <th>payment_type</th>\n",
       "      <th>extra</th>\n",
       "      <th>tip_amount</th>\n",
       "      <th>tolls_amount</th>\n",
       "      <th>improvement_surcharge</th>\n",
       "      <th>total_amount</th>\n",
       "      <th>congestion_surcharge</th>\n",
       "      <th>Airport_fee</th>\n",
       "    </tr>\n",
       "  </thead>\n",
       "  <tbody>\n",
       "    <tr>\n",
       "      <th>0</th>\n",
       "      <td>1</td>\n",
       "      <td>2023-06-28 17:20:21</td>\n",
       "      <td>2023-06-28 16:34:45</td>\n",
       "      <td>1.0</td>\n",
       "      <td>2.14</td>\n",
       "      <td>1.0</td>\n",
       "      <td>N</td>\n",
       "      <td>120</td>\n",
       "      <td>9</td>\n",
       "      <td>Credit Card</td>\n",
       "      <td>2.5</td>\n",
       "      <td>7.165589</td>\n",
       "      <td>0.0</td>\n",
       "      <td>1.0</td>\n",
       "      <td>20.64</td>\n",
       "      <td>2.5</td>\n",
       "      <td>0.0</td>\n",
       "    </tr>\n",
       "    <tr>\n",
       "      <th>1</th>\n",
       "      <td>0</td>\n",
       "      <td>2023-06-29 23:05:01</td>\n",
       "      <td>2023-06-29 22:01:35</td>\n",
       "      <td>1.0</td>\n",
       "      <td>2.70</td>\n",
       "      <td>1.0</td>\n",
       "      <td>N</td>\n",
       "      <td>15</td>\n",
       "      <td>215</td>\n",
       "      <td>Credit Card</td>\n",
       "      <td>3.5</td>\n",
       "      <td>6.067401</td>\n",
       "      <td>0.0</td>\n",
       "      <td>1.0</td>\n",
       "      <td>25.55</td>\n",
       "      <td>2.5</td>\n",
       "      <td>0.0</td>\n",
       "    </tr>\n",
       "    <tr>\n",
       "      <th>2</th>\n",
       "      <td>1</td>\n",
       "      <td>2023-06-30 10:19:31</td>\n",
       "      <td>2023-06-30 11:13:10</td>\n",
       "      <td>1.0</td>\n",
       "      <td>1.15</td>\n",
       "      <td>1.0</td>\n",
       "      <td>N</td>\n",
       "      <td>167</td>\n",
       "      <td>223</td>\n",
       "      <td>Credit Card</td>\n",
       "      <td>0.0</td>\n",
       "      <td>4.111547</td>\n",
       "      <td>0.0</td>\n",
       "      <td>1.0</td>\n",
       "      <td>17.64</td>\n",
       "      <td>2.5</td>\n",
       "      <td>0.0</td>\n",
       "    </tr>\n",
       "    <tr>\n",
       "      <th>3</th>\n",
       "      <td>0</td>\n",
       "      <td>2023-06-29 13:23:09</td>\n",
       "      <td>2023-06-29 14:20:01</td>\n",
       "      <td>1.0</td>\n",
       "      <td>0.40</td>\n",
       "      <td>1.0</td>\n",
       "      <td>N</td>\n",
       "      <td>128</td>\n",
       "      <td>239</td>\n",
       "      <td>Credit Card</td>\n",
       "      <td>2.5</td>\n",
       "      <td>6.411079</td>\n",
       "      <td>0.0</td>\n",
       "      <td>1.0</td>\n",
       "      <td>12.80</td>\n",
       "      <td>2.5</td>\n",
       "      <td>0.0</td>\n",
       "    </tr>\n",
       "    <tr>\n",
       "      <th>4</th>\n",
       "      <td>1</td>\n",
       "      <td>2023-06-29 22:03:32</td>\n",
       "      <td>2023-06-29 22:22:22</td>\n",
       "      <td>3.0</td>\n",
       "      <td>1.10</td>\n",
       "      <td>1.0</td>\n",
       "      <td>N</td>\n",
       "      <td>203</td>\n",
       "      <td>52</td>\n",
       "      <td>Credit Card</td>\n",
       "      <td>1.0</td>\n",
       "      <td>4.769377</td>\n",
       "      <td>0.0</td>\n",
       "      <td>1.0</td>\n",
       "      <td>18.00</td>\n",
       "      <td>2.5</td>\n",
       "      <td>0.0</td>\n",
       "    </tr>\n",
       "  </tbody>\n",
       "</table>\n",
       "</div>"
      ],
      "text/plain": [
       "   VendorID tpep_pickup_datetime tpep_dropoff_datetime  passenger_count  \\\n",
       "0         1  2023-06-28 17:20:21   2023-06-28 16:34:45              1.0   \n",
       "1         0  2023-06-29 23:05:01   2023-06-29 22:01:35              1.0   \n",
       "2         1  2023-06-30 10:19:31   2023-06-30 11:13:10              1.0   \n",
       "3         0  2023-06-29 13:23:09   2023-06-29 14:20:01              1.0   \n",
       "4         1  2023-06-29 22:03:32   2023-06-29 22:22:22              3.0   \n",
       "\n",
       "   trip_distance  RatecodeID store_and_fwd_flag  PULocationID  DOLocationID  \\\n",
       "0           2.14         1.0                  N           120             9   \n",
       "1           2.70         1.0                  N            15           215   \n",
       "2           1.15         1.0                  N           167           223   \n",
       "3           0.40         1.0                  N           128           239   \n",
       "4           1.10         1.0                  N           203            52   \n",
       "\n",
       "  payment_type  extra  tip_amount  tolls_amount  improvement_surcharge  \\\n",
       "0  Credit Card    2.5    7.165589           0.0                    1.0   \n",
       "1  Credit Card    3.5    6.067401           0.0                    1.0   \n",
       "2  Credit Card    0.0    4.111547           0.0                    1.0   \n",
       "3  Credit Card    2.5    6.411079           0.0                    1.0   \n",
       "4  Credit Card    1.0    4.769377           0.0                    1.0   \n",
       "\n",
       "   total_amount  congestion_surcharge  Airport_fee  \n",
       "0         20.64                   2.5          0.0  \n",
       "1         25.55                   2.5          0.0  \n",
       "2         17.64                   2.5          0.0  \n",
       "3         12.80                   2.5          0.0  \n",
       "4         18.00                   2.5          0.0  "
      ]
     },
     "execution_count": 6,
     "metadata": {},
     "output_type": "execute_result"
    }
   ],
   "source": [
    "#EXAMINING THE DATA\n",
    "taxi_data.head()"
   ]
  },
  {
   "cell_type": "markdown",
   "id": "63dcd6a2",
   "metadata": {
    "papermill": {
     "duration": 0.026879,
     "end_time": "2024-01-09T10:15:16.898465",
     "exception": false,
     "start_time": "2024-01-09T10:15:16.871586",
     "status": "completed"
    },
    "tags": []
   },
   "source": [
    "* In the first and second row pickup time and dropoff time is not correct. \n",
    "    eg. Pickup time(17:20) is given after dropoff time(16:34) on 28-06-23."
   ]
  },
  {
   "cell_type": "code",
   "execution_count": 7,
   "id": "b9a785a9",
   "metadata": {
    "execution": {
     "iopub.execute_input": "2024-01-09T10:15:16.954466Z",
     "iopub.status.busy": "2024-01-09T10:15:16.954097Z",
     "iopub.status.idle": "2024-01-09T10:15:17.056141Z",
     "shell.execute_reply": "2024-01-09T10:15:17.055016Z"
    },
    "papermill": {
     "duration": 0.132423,
     "end_time": "2024-01-09T10:15:17.058635",
     "exception": false,
     "start_time": "2024-01-09T10:15:16.926212",
     "status": "completed"
    },
    "tags": []
   },
   "outputs": [
    {
     "name": "stdout",
     "output_type": "stream",
     "text": [
      "<class 'pandas.core.frame.DataFrame'>\n",
      "RangeIndex: 175000 entries, 0 to 174999\n",
      "Data columns (total 17 columns):\n",
      " #   Column                 Non-Null Count   Dtype  \n",
      "---  ------                 --------------   -----  \n",
      " 0   VendorID               175000 non-null  int64  \n",
      " 1   tpep_pickup_datetime   175000 non-null  object \n",
      " 2   tpep_dropoff_datetime  175000 non-null  object \n",
      " 3   passenger_count        168923 non-null  float64\n",
      " 4   trip_distance          175000 non-null  float64\n",
      " 5   RatecodeID             168923 non-null  float64\n",
      " 6   store_and_fwd_flag     168923 non-null  object \n",
      " 7   PULocationID           175000 non-null  int64  \n",
      " 8   DOLocationID           175000 non-null  int64  \n",
      " 9   payment_type           175000 non-null  object \n",
      " 10  extra                  175000 non-null  float64\n",
      " 11  tip_amount             175000 non-null  float64\n",
      " 12  tolls_amount           175000 non-null  float64\n",
      " 13  improvement_surcharge  175000 non-null  float64\n",
      " 14  total_amount           175000 non-null  float64\n",
      " 15  congestion_surcharge   168923 non-null  float64\n",
      " 16  Airport_fee            168923 non-null  float64\n",
      "dtypes: float64(10), int64(3), object(4)\n",
      "memory usage: 22.7+ MB\n"
     ]
    }
   ],
   "source": [
    "#checking the taxi_data\n",
    "taxi_data.info()"
   ]
  },
  {
   "cell_type": "code",
   "execution_count": 8,
   "id": "f253cb84",
   "metadata": {
    "execution": {
     "iopub.execute_input": "2024-01-09T10:15:17.118149Z",
     "iopub.status.busy": "2024-01-09T10:15:17.117757Z",
     "iopub.status.idle": "2024-01-09T10:15:17.254788Z",
     "shell.execute_reply": "2024-01-09T10:15:17.253530Z"
    },
    "papermill": {
     "duration": 0.169932,
     "end_time": "2024-01-09T10:15:17.257284",
     "exception": false,
     "start_time": "2024-01-09T10:15:17.087352",
     "status": "completed"
    },
    "tags": []
   },
   "outputs": [
    {
     "data": {
      "text/html": [
       "<div>\n",
       "<style scoped>\n",
       "    .dataframe tbody tr th:only-of-type {\n",
       "        vertical-align: middle;\n",
       "    }\n",
       "\n",
       "    .dataframe tbody tr th {\n",
       "        vertical-align: top;\n",
       "    }\n",
       "\n",
       "    .dataframe thead th {\n",
       "        text-align: right;\n",
       "    }\n",
       "</style>\n",
       "<table border=\"1\" class=\"dataframe\">\n",
       "  <thead>\n",
       "    <tr style=\"text-align: right;\">\n",
       "      <th></th>\n",
       "      <th>VendorID</th>\n",
       "      <th>passenger_count</th>\n",
       "      <th>trip_distance</th>\n",
       "      <th>RatecodeID</th>\n",
       "      <th>PULocationID</th>\n",
       "      <th>DOLocationID</th>\n",
       "      <th>extra</th>\n",
       "      <th>tip_amount</th>\n",
       "      <th>tolls_amount</th>\n",
       "      <th>improvement_surcharge</th>\n",
       "      <th>total_amount</th>\n",
       "      <th>congestion_surcharge</th>\n",
       "      <th>Airport_fee</th>\n",
       "    </tr>\n",
       "  </thead>\n",
       "  <tbody>\n",
       "    <tr>\n",
       "      <th>count</th>\n",
       "      <td>175000.000000</td>\n",
       "      <td>168923.000000</td>\n",
       "      <td>175000.000000</td>\n",
       "      <td>168923.000000</td>\n",
       "      <td>175000.000000</td>\n",
       "      <td>175000.000000</td>\n",
       "      <td>175000.000000</td>\n",
       "      <td>175000.000000</td>\n",
       "      <td>175000.000000</td>\n",
       "      <td>175000.000000</td>\n",
       "      <td>175000.000000</td>\n",
       "      <td>168923.000000</td>\n",
       "      <td>168923.000000</td>\n",
       "    </tr>\n",
       "    <tr>\n",
       "      <th>mean</th>\n",
       "      <td>0.728377</td>\n",
       "      <td>1.357678</td>\n",
       "      <td>5.145930</td>\n",
       "      <td>1.518307</td>\n",
       "      <td>132.710349</td>\n",
       "      <td>132.701429</td>\n",
       "      <td>1.932143</td>\n",
       "      <td>6.127497</td>\n",
       "      <td>0.646816</td>\n",
       "      <td>0.979689</td>\n",
       "      <td>29.633901</td>\n",
       "      <td>2.246971</td>\n",
       "      <td>0.158825</td>\n",
       "    </tr>\n",
       "    <tr>\n",
       "      <th>std</th>\n",
       "      <td>0.445606</td>\n",
       "      <td>0.891283</td>\n",
       "      <td>394.971052</td>\n",
       "      <td>6.514678</td>\n",
       "      <td>76.148799</td>\n",
       "      <td>76.192493</td>\n",
       "      <td>1.948497</td>\n",
       "      <td>4.610834</td>\n",
       "      <td>2.328274</td>\n",
       "      <td>0.198775</td>\n",
       "      <td>25.425206</td>\n",
       "      <td>0.819216</td>\n",
       "      <td>0.511968</td>\n",
       "    </tr>\n",
       "    <tr>\n",
       "      <th>min</th>\n",
       "      <td>0.000000</td>\n",
       "      <td>0.000000</td>\n",
       "      <td>0.000000</td>\n",
       "      <td>1.000000</td>\n",
       "      <td>1.000000</td>\n",
       "      <td>1.000000</td>\n",
       "      <td>-7.500000</td>\n",
       "      <td>0.000079</td>\n",
       "      <td>-29.300000</td>\n",
       "      <td>-1.000000</td>\n",
       "      <td>-576.750000</td>\n",
       "      <td>-2.500000</td>\n",
       "      <td>-1.750000</td>\n",
       "    </tr>\n",
       "    <tr>\n",
       "      <th>25%</th>\n",
       "      <td>0.000000</td>\n",
       "      <td>1.000000</td>\n",
       "      <td>1.080000</td>\n",
       "      <td>1.000000</td>\n",
       "      <td>67.000000</td>\n",
       "      <td>67.000000</td>\n",
       "      <td>0.000000</td>\n",
       "      <td>3.473321</td>\n",
       "      <td>0.000000</td>\n",
       "      <td>1.000000</td>\n",
       "      <td>16.300000</td>\n",
       "      <td>2.500000</td>\n",
       "      <td>0.000000</td>\n",
       "    </tr>\n",
       "    <tr>\n",
       "      <th>50%</th>\n",
       "      <td>1.000000</td>\n",
       "      <td>1.000000</td>\n",
       "      <td>1.840000</td>\n",
       "      <td>1.000000</td>\n",
       "      <td>133.000000</td>\n",
       "      <td>133.000000</td>\n",
       "      <td>1.000000</td>\n",
       "      <td>5.286217</td>\n",
       "      <td>0.000000</td>\n",
       "      <td>1.000000</td>\n",
       "      <td>21.450000</td>\n",
       "      <td>2.500000</td>\n",
       "      <td>0.000000</td>\n",
       "    </tr>\n",
       "    <tr>\n",
       "      <th>75%</th>\n",
       "      <td>1.000000</td>\n",
       "      <td>1.000000</td>\n",
       "      <td>3.610000</td>\n",
       "      <td>1.000000</td>\n",
       "      <td>199.000000</td>\n",
       "      <td>199.000000</td>\n",
       "      <td>2.500000</td>\n",
       "      <td>7.502746</td>\n",
       "      <td>0.000000</td>\n",
       "      <td>1.000000</td>\n",
       "      <td>31.800000</td>\n",
       "      <td>2.500000</td>\n",
       "      <td>0.000000</td>\n",
       "    </tr>\n",
       "    <tr>\n",
       "      <th>max</th>\n",
       "      <td>2.000000</td>\n",
       "      <td>9.000000</td>\n",
       "      <td>135182.060000</td>\n",
       "      <td>99.000000</td>\n",
       "      <td>264.000000</td>\n",
       "      <td>264.000000</td>\n",
       "      <td>11.750000</td>\n",
       "      <td>484.876151</td>\n",
       "      <td>80.000000</td>\n",
       "      <td>1.000000</td>\n",
       "      <td>587.250000</td>\n",
       "      <td>2.500000</td>\n",
       "      <td>1.750000</td>\n",
       "    </tr>\n",
       "  </tbody>\n",
       "</table>\n",
       "</div>"
      ],
      "text/plain": [
       "            VendorID  passenger_count  trip_distance     RatecodeID  \\\n",
       "count  175000.000000    168923.000000  175000.000000  168923.000000   \n",
       "mean        0.728377         1.357678       5.145930       1.518307   \n",
       "std         0.445606         0.891283     394.971052       6.514678   \n",
       "min         0.000000         0.000000       0.000000       1.000000   \n",
       "25%         0.000000         1.000000       1.080000       1.000000   \n",
       "50%         1.000000         1.000000       1.840000       1.000000   \n",
       "75%         1.000000         1.000000       3.610000       1.000000   \n",
       "max         2.000000         9.000000  135182.060000      99.000000   \n",
       "\n",
       "        PULocationID   DOLocationID          extra     tip_amount  \\\n",
       "count  175000.000000  175000.000000  175000.000000  175000.000000   \n",
       "mean      132.710349     132.701429       1.932143       6.127497   \n",
       "std        76.148799      76.192493       1.948497       4.610834   \n",
       "min         1.000000       1.000000      -7.500000       0.000079   \n",
       "25%        67.000000      67.000000       0.000000       3.473321   \n",
       "50%       133.000000     133.000000       1.000000       5.286217   \n",
       "75%       199.000000     199.000000       2.500000       7.502746   \n",
       "max       264.000000     264.000000      11.750000     484.876151   \n",
       "\n",
       "        tolls_amount  improvement_surcharge   total_amount  \\\n",
       "count  175000.000000          175000.000000  175000.000000   \n",
       "mean        0.646816               0.979689      29.633901   \n",
       "std         2.328274               0.198775      25.425206   \n",
       "min       -29.300000              -1.000000    -576.750000   \n",
       "25%         0.000000               1.000000      16.300000   \n",
       "50%         0.000000               1.000000      21.450000   \n",
       "75%         0.000000               1.000000      31.800000   \n",
       "max        80.000000               1.000000     587.250000   \n",
       "\n",
       "       congestion_surcharge    Airport_fee  \n",
       "count         168923.000000  168923.000000  \n",
       "mean               2.246971       0.158825  \n",
       "std                0.819216       0.511968  \n",
       "min               -2.500000      -1.750000  \n",
       "25%                2.500000       0.000000  \n",
       "50%                2.500000       0.000000  \n",
       "75%                2.500000       0.000000  \n",
       "max                2.500000       1.750000  "
      ]
     },
     "execution_count": 8,
     "metadata": {},
     "output_type": "execute_result"
    }
   ],
   "source": [
    "#statistics\n",
    "taxi_data.describe()"
   ]
  },
  {
   "cell_type": "code",
   "execution_count": 9,
   "id": "c2898952",
   "metadata": {
    "execution": {
     "iopub.execute_input": "2024-01-09T10:15:17.320903Z",
     "iopub.status.busy": "2024-01-09T10:15:17.320107Z",
     "iopub.status.idle": "2024-01-09T10:15:17.400302Z",
     "shell.execute_reply": "2024-01-09T10:15:17.399252Z"
    },
    "papermill": {
     "duration": 0.114104,
     "end_time": "2024-01-09T10:15:17.402592",
     "exception": false,
     "start_time": "2024-01-09T10:15:17.288488",
     "status": "completed"
    },
    "tags": []
   },
   "outputs": [
    {
     "data": {
      "text/plain": [
       "VendorID                    0\n",
       "tpep_pickup_datetime        0\n",
       "tpep_dropoff_datetime       0\n",
       "passenger_count          6077\n",
       "trip_distance               0\n",
       "RatecodeID               6077\n",
       "store_and_fwd_flag       6077\n",
       "PULocationID                0\n",
       "DOLocationID                0\n",
       "payment_type                0\n",
       "extra                       0\n",
       "tip_amount                  0\n",
       "tolls_amount                0\n",
       "improvement_surcharge       0\n",
       "total_amount                0\n",
       "congestion_surcharge     6077\n",
       "Airport_fee              6077\n",
       "dtype: int64"
      ]
     },
     "execution_count": 9,
     "metadata": {},
     "output_type": "execute_result"
    }
   ],
   "source": [
    "#checking for null values\n",
    "taxi_data.isnull().sum()"
   ]
  },
  {
   "cell_type": "code",
   "execution_count": 10,
   "id": "09dad022",
   "metadata": {
    "execution": {
     "iopub.execute_input": "2024-01-09T10:15:17.462457Z",
     "iopub.status.busy": "2024-01-09T10:15:17.461781Z",
     "iopub.status.idle": "2024-01-09T10:15:17.471914Z",
     "shell.execute_reply": "2024-01-09T10:15:17.470902Z"
    },
    "papermill": {
     "duration": 0.04259,
     "end_time": "2024-01-09T10:15:17.474188",
     "exception": false,
     "start_time": "2024-01-09T10:15:17.431598",
     "status": "completed"
    },
    "tags": []
   },
   "outputs": [
    {
     "data": {
      "text/plain": [
       "VendorID\n",
       "1    127340\n",
       "0     47597\n",
       "2        63\n",
       "Name: count, dtype: int64"
      ]
     },
     "execution_count": 10,
     "metadata": {},
     "output_type": "execute_result"
    }
   ],
   "source": [
    "#total number of vendors\n",
    "taxi_data['VendorID'].value_counts()"
   ]
  },
  {
   "cell_type": "markdown",
   "id": "4a5d4c4f",
   "metadata": {
    "papermill": {
     "duration": 0.029797,
     "end_time": "2024-01-09T10:15:17.533585",
     "exception": false,
     "start_time": "2024-01-09T10:15:17.503788",
     "status": "completed"
    },
    "tags": []
   },
   "source": [
    "# Data Vizualization"
   ]
  },
  {
   "cell_type": "code",
   "execution_count": 11,
   "id": "491ecc1c",
   "metadata": {
    "execution": {
     "iopub.execute_input": "2024-01-09T10:15:17.596560Z",
     "iopub.status.busy": "2024-01-09T10:15:17.596174Z",
     "iopub.status.idle": "2024-01-09T10:15:17.960912Z",
     "shell.execute_reply": "2024-01-09T10:15:17.959612Z"
    },
    "papermill": {
     "duration": 0.398888,
     "end_time": "2024-01-09T10:15:17.963204",
     "exception": false,
     "start_time": "2024-01-09T10:15:17.564316",
     "status": "completed"
    },
    "tags": []
   },
   "outputs": [
    {
     "data": {
      "text/plain": [
       "<Axes: xlabel='total_amount'>"
      ]
     },
     "execution_count": 11,
     "metadata": {},
     "output_type": "execute_result"
    },
    {
     "data": {
      "image/png": "[encoded data removed]",
      "text/plain": [
       "<Figure size 640x480 with 1 Axes>"
      ]
     },
     "metadata": {},
     "output_type": "display_data"
    }
   ],
   "source": [
    "# Boxplot of total_amount by payment_type \n",
    "sns.boxplot(x='total_amount', data=taxi_data)"
   ]
  },
  {
   "cell_type": "code",
   "execution_count": 12,
   "id": "307258a2",
   "metadata": {
    "execution": {
     "iopub.execute_input": "2024-01-09T10:15:18.024896Z",
     "iopub.status.busy": "2024-01-09T10:15:18.024559Z",
     "iopub.status.idle": "2024-01-09T10:15:18.437875Z",
     "shell.execute_reply": "2024-01-09T10:15:18.436870Z"
    },
    "papermill": {
     "duration": 0.447168,
     "end_time": "2024-01-09T10:15:18.440369",
     "exception": false,
     "start_time": "2024-01-09T10:15:17.993201",
     "status": "completed"
    },
    "tags": []
   },
   "outputs": [
    {
     "data": {
      "text/plain": [
       "Text(0.5, 1.0, 'Distribution of Total Fare Amounts')"
      ]
     },
     "execution_count": 12,
     "metadata": {},
     "output_type": "execute_result"
    },
    {
     "data": {
      "image/png": "[encoded data removed]",
      "text/plain": [
       "<Figure size 640x480 with 1 Axes>"
      ]
     },
     "metadata": {},
     "output_type": "display_data"
    }
   ],
   "source": [
    "# Histogram of total_amount\n",
    "plt.hist(taxi_data['total_amount'], bins=20)\n",
    "plt.xlabel('Total Amount'); plt.ylabel('Count')\n",
    "plt.title('Distribution of Total Fare Amounts')"
   ]
  },
  {
   "cell_type": "code",
   "execution_count": 13,
   "id": "a01a66b5",
   "metadata": {
    "execution": {
     "iopub.execute_input": "2024-01-09T10:15:18.502871Z",
     "iopub.status.busy": "2024-01-09T10:15:18.501930Z",
     "iopub.status.idle": "2024-01-09T10:15:19.528472Z",
     "shell.execute_reply": "2024-01-09T10:15:19.527391Z"
    },
    "papermill": {
     "duration": 1.06056,
     "end_time": "2024-01-09T10:15:19.531039",
     "exception": false,
     "start_time": "2024-01-09T10:15:18.470479",
     "status": "completed"
    },
    "tags": []
   },
   "outputs": [
    {
     "data": {
      "text/plain": [
       "Text(0, 0.5, 'Trip Distance')"
      ]
     },
     "execution_count": 13,
     "metadata": {},
     "output_type": "execute_result"
    },
    {
     "data": {
      "image/png": "[encoded data removed]",
      "text/plain": [
       "<Figure size 640x480 with 1 Axes>"
      ]
     },
     "metadata": {},
     "output_type": "display_data"
    }
   ],
   "source": [
    "# Scatterplot of total_amount vs trip distance\n",
    "plt.scatter(taxi_data['total_amount'], taxi_data['trip_distance'])\n",
    "plt.xlabel('Total Amount'); plt.ylabel('Trip Distance')"
   ]
  },
  {
   "cell_type": "code",
   "execution_count": 14,
   "id": "3e526dee",
   "metadata": {
    "execution": {
     "iopub.execute_input": "2024-01-09T10:15:19.598778Z",
     "iopub.status.busy": "2024-01-09T10:15:19.598361Z",
     "iopub.status.idle": "2024-01-09T10:15:19.603135Z",
     "shell.execute_reply": "2024-01-09T10:15:19.602039Z"
    },
    "papermill": {
     "duration": 0.041173,
     "end_time": "2024-01-09T10:15:19.605712",
     "exception": false,
     "start_time": "2024-01-09T10:15:19.564539",
     "status": "completed"
    },
    "tags": []
   },
   "outputs": [],
   "source": [
    "# Boxplot of total_amount by trip_distance \n",
    "# sns.boxplot(x='trip_distance', y='total_amount', data=taxi_data)"
   ]
  },
  {
   "cell_type": "code",
   "execution_count": 15,
   "id": "94077bb6",
   "metadata": {
    "execution": {
     "iopub.execute_input": "2024-01-09T10:15:19.675896Z",
     "iopub.status.busy": "2024-01-09T10:15:19.674910Z",
     "iopub.status.idle": "2024-01-09T10:15:20.237759Z",
     "shell.execute_reply": "2024-01-09T10:15:20.236662Z"
    },
    "papermill": {
     "duration": 0.600822,
     "end_time": "2024-01-09T10:15:20.240218",
     "exception": false,
     "start_time": "2024-01-09T10:15:19.639396",
     "status": "completed"
    },
    "tags": []
   },
   "outputs": [
    {
     "data": {
      "text/plain": [
       "<Axes: xlabel='payment_type', ylabel='total_amount'>"
      ]
     },
     "execution_count": 15,
     "metadata": {},
     "output_type": "execute_result"
    },
    {
     "data": {
      "image/png": "[encoded data removed]",
      "text/plain": [
       "<Figure size 640x480 with 1 Axes>"
      ]
     },
     "metadata": {},
     "output_type": "display_data"
    }
   ],
   "source": [
    "# Boxplot of total_amount by payment_type \n",
    "sns.boxplot(x='payment_type', y='total_amount', data=taxi_data)"
   ]
  },
  {
   "cell_type": "code",
   "execution_count": 16,
   "id": "7b844170",
   "metadata": {
    "execution": {
     "iopub.execute_input": "2024-01-09T10:15:20.306932Z",
     "iopub.status.busy": "2024-01-09T10:15:20.306531Z",
     "iopub.status.idle": "2024-01-09T10:15:20.807236Z",
     "shell.execute_reply": "2024-01-09T10:15:20.806184Z"
    },
    "papermill": {
     "duration": 0.536632,
     "end_time": "2024-01-09T10:15:20.809568",
     "exception": false,
     "start_time": "2024-01-09T10:15:20.272936",
     "status": "completed"
    },
    "tags": []
   },
   "outputs": [
    {
     "data": {
      "text/plain": [
       "<Axes: xlabel='pickup_date'>"
      ]
     },
     "execution_count": 16,
     "metadata": {},
     "output_type": "execute_result"
    },
    {
     "data": {
      "image/png": "[encoded data removed]",
      "text/plain": [
       "<Figure size 640x480 with 1 Axes>"
      ]
     },
     "metadata": {},
     "output_type": "display_data"
    }
   ],
   "source": [
    "# Line plot of total_amount over time\n",
    "taxi_data['pickup_date'] = pd.to_datetime(taxi_data['tpep_pickup_datetime'])\n",
    "taxi_data.set_index('pickup_date', inplace=True)\n",
    "taxi_data.resample('D')['total_amount'].mean().plot()"
   ]
  },
  {
   "cell_type": "code",
   "execution_count": 17,
   "id": "37c06d4e",
   "metadata": {
    "execution": {
     "iopub.execute_input": "2024-01-09T10:15:20.877162Z",
     "iopub.status.busy": "2024-01-09T10:15:20.876761Z",
     "iopub.status.idle": "2024-01-09T10:15:21.506847Z",
     "shell.execute_reply": "2024-01-09T10:15:21.505789Z"
    },
    "papermill": {
     "duration": 0.667842,
     "end_time": "2024-01-09T10:15:21.509243",
     "exception": false,
     "start_time": "2024-01-09T10:15:20.841401",
     "status": "completed"
    },
    "tags": []
   },
   "outputs": [
    {
     "data": {
      "image/png": "[encoded data removed]",
      "text/plain": [
       "<Figure size 800x600 with 1 Axes>"
      ]
     },
     "metadata": {},
     "output_type": "display_data"
    },
    {
     "data": {
      "image/png": "[encoded data removed]",
      "text/plain": [
       "<Figure size 800x600 with 1 Axes>"
      ]
     },
     "metadata": {},
     "output_type": "display_data"
    }
   ],
   "source": [
    "#Total no. of trips by each vendor\n",
    "categorical_columns = ['VendorID', 'payment_type']\n",
    "for col in categorical_columns:\n",
    "    plt.figure(figsize=(8, 6))\n",
    "    sns.countplot(data=taxi_data, x=col)\n",
    "    plt.xlabel(col)\n",
    "    plt.ylabel('Count')\n",
    "    plt.title(f'{col} Bar Chart')\n",
    "    plt.xticks(rotation=45)\n",
    "    plt.show()"
   ]
  },
  {
   "cell_type": "code",
   "execution_count": 18,
   "id": "f35e25d3",
   "metadata": {
    "execution": {
     "iopub.execute_input": "2024-01-09T10:15:21.576469Z",
     "iopub.status.busy": "2024-01-09T10:15:21.576090Z",
     "iopub.status.idle": "2024-01-09T10:15:21.580674Z",
     "shell.execute_reply": "2024-01-09T10:15:21.579615Z"
    },
    "papermill": {
     "duration": 0.040442,
     "end_time": "2024-01-09T10:15:21.582745",
     "exception": false,
     "start_time": "2024-01-09T10:15:21.542303",
     "status": "completed"
    },
    "tags": []
   },
   "outputs": [],
   "source": [
    "# # Correlation matrix \n",
    "# sns.heatmap(taxi_data.corr(), annot=True)"
   ]
  },
  {
   "cell_type": "markdown",
   "id": "28368777",
   "metadata": {
    "papermill": {
     "duration": 0.032771,
     "end_time": "2024-01-09T10:15:21.648437",
     "exception": false,
     "start_time": "2024-01-09T10:15:21.615666",
     "status": "completed"
    },
    "tags": []
   },
   "source": [
    "***OBSERVATION:***\n",
    "* Vendor 1 has got more number of customers.\n",
    "* Credit card is the most used payment type."
   ]
  },
  {
   "cell_type": "code",
   "execution_count": 19,
   "id": "ef5b1c7f",
   "metadata": {
    "execution": {
     "iopub.execute_input": "2024-01-09T10:15:21.716451Z",
     "iopub.status.busy": "2024-01-09T10:15:21.716076Z",
     "iopub.status.idle": "2024-01-09T10:15:21.721006Z",
     "shell.execute_reply": "2024-01-09T10:15:21.719893Z"
    },
    "papermill": {
     "duration": 0.04082,
     "end_time": "2024-01-09T10:15:21.723166",
     "exception": false,
     "start_time": "2024-01-09T10:15:21.682346",
     "status": "completed"
    },
    "tags": []
   },
   "outputs": [],
   "source": [
    "#Imputating numerical values\n",
    "# missing_cols = ['passenger_count', 'RatecodeID', 'store_and_fwd_flag', 'congestion_surcharge', 'Airport_fee']\n",
    "# for col in missing_cols:\n",
    "#     if col in taxi_data.columns:\n",
    "#         if taxi_data[col].dtype == 'object':\n",
    "#             imputer = SimpleImputer(strategy='most_frequent')\n",
    "#         else:\n",
    "#             imputer = SimpleImputer(strategy='mean')\n",
    "#         taxi_data[col] = imputer.fit_transform(taxi_data[[col]])[:, 0]\n",
    "#     else:\n",
    "#         print(f\"Column '{col}' not found in the Data.\")"
   ]
  },
  {
   "cell_type": "markdown",
   "id": "337e81ec",
   "metadata": {
    "papermill": {
     "duration": 0.032424,
     "end_time": "2024-01-09T10:15:21.788515",
     "exception": false,
     "start_time": "2024-01-09T10:15:21.756091",
     "status": "completed"
    },
    "tags": []
   },
   "source": [
    "# **Feature Engineering**"
   ]
  },
  {
   "cell_type": "markdown",
   "id": "08d75efa",
   "metadata": {
    "papermill": {
     "duration": 0.03304,
     "end_time": "2024-01-09T10:15:21.856202",
     "exception": false,
     "start_time": "2024-01-09T10:15:21.823162",
     "status": "completed"
    },
    "tags": []
   },
   "source": [
    "* First trying to convert pickup and dropoff datetime values in datetime format and then extracting days, hour and seconds from it.\n",
    "* Then dropping original datetime values and imputing missing values.\n",
    "* After Imputation feature scaling has been done using standardscaler for numerical features and OneHotEncoder for categorical features.\n",
    "* Columns are being transformed using ColumnTransformer."
   ]
  },
  {
   "cell_type": "code",
   "execution_count": 20,
   "id": "4b84d41e",
   "metadata": {
    "execution": {
     "iopub.execute_input": "2024-01-09T10:15:21.925750Z",
     "iopub.status.busy": "2024-01-09T10:15:21.925363Z",
     "iopub.status.idle": "2024-01-09T10:15:22.101078Z",
     "shell.execute_reply": "2024-01-09T10:15:22.099812Z"
    },
    "papermill": {
     "duration": 0.212859,
     "end_time": "2024-01-09T10:15:22.103690",
     "exception": false,
     "start_time": "2024-01-09T10:15:21.890831",
     "status": "completed"
    },
    "tags": []
   },
   "outputs": [],
   "source": [
    "#Feature Engineering\n",
    "taxi_data['tpep_pickup_datetime'] = pd.to_datetime(taxi_data['tpep_pickup_datetime'])\n",
    "taxi_data['tpep_dropoff_datetime'] = pd.to_datetime(taxi_data['tpep_dropoff_datetime'])\n",
    "\n",
    "taxi_data['pickup_day'] = taxi_data['tpep_pickup_datetime'].dt.dayofweek\n",
    "taxi_data['pickup_hour'] = taxi_data['tpep_pickup_datetime'].dt.hour\n",
    "taxi_data['trip_duration_minutes'] = (taxi_data['tpep_dropoff_datetime'] - taxi_data['tpep_pickup_datetime']).dt.total_seconds() / 60\n"
   ]
  },
  {
   "cell_type": "code",
   "execution_count": 21,
   "id": "7ad50ed5",
   "metadata": {
    "execution": {
     "iopub.execute_input": "2024-01-09T10:15:22.172379Z",
     "iopub.status.busy": "2024-01-09T10:15:22.172015Z",
     "iopub.status.idle": "2024-01-09T10:15:22.192041Z",
     "shell.execute_reply": "2024-01-09T10:15:22.190954Z"
    },
    "papermill": {
     "duration": 0.056884,
     "end_time": "2024-01-09T10:15:22.194366",
     "exception": false,
     "start_time": "2024-01-09T10:15:22.137482",
     "status": "completed"
    },
    "tags": []
   },
   "outputs": [],
   "source": [
    "#Dropping columns 'tpep_pickup_datetime', 'tpep_dropoff_datetime'\n",
    "data = taxi_data.drop(['tpep_pickup_datetime', 'tpep_dropoff_datetime'], axis=1)"
   ]
  },
  {
   "cell_type": "markdown",
   "id": "3a4ef103",
   "metadata": {
    "papermill": {
     "duration": 0.032762,
     "end_time": "2024-01-09T10:15:22.259900",
     "exception": false,
     "start_time": "2024-01-09T10:15:22.227138",
     "status": "completed"
    },
    "tags": []
   },
   "source": [
    "**Imputing Missing Values**"
   ]
  },
  {
   "cell_type": "code",
   "execution_count": 22,
   "id": "90d3f853",
   "metadata": {
    "execution": {
     "iopub.execute_input": "2024-01-09T10:15:22.329499Z",
     "iopub.status.busy": "2024-01-09T10:15:22.329097Z",
     "iopub.status.idle": "2024-01-09T10:15:22.334483Z",
     "shell.execute_reply": "2024-01-09T10:15:22.333505Z"
    },
    "papermill": {
     "duration": 0.043038,
     "end_time": "2024-01-09T10:15:22.336674",
     "exception": false,
     "start_time": "2024-01-09T10:15:22.293636",
     "status": "completed"
    },
    "tags": []
   },
   "outputs": [],
   "source": [
    "#Dividing data in categorical columns and numerical columns\n",
    "categorical_cols = ['store_and_fwd_flag', 'payment_type']\n",
    "numerical_cols = [col for col in data.columns if col not in categorical_cols and col != 'total_amount']"
   ]
  },
  {
   "cell_type": "code",
   "execution_count": 23,
   "id": "bdff0c53",
   "metadata": {
    "execution": {
     "iopub.execute_input": "2024-01-09T10:15:22.405893Z",
     "iopub.status.busy": "2024-01-09T10:15:22.404966Z",
     "iopub.status.idle": "2024-01-09T10:15:22.411311Z",
     "shell.execute_reply": "2024-01-09T10:15:22.410307Z"
    },
    "papermill": {
     "duration": 0.043105,
     "end_time": "2024-01-09T10:15:22.413631",
     "exception": false,
     "start_time": "2024-01-09T10:15:22.370526",
     "status": "completed"
    },
    "tags": []
   },
   "outputs": [],
   "source": [
    "#Transforming and preprocessing\n",
    "numerical_transformer = Pipeline(steps=[\n",
    "    ('imputer', SimpleImputer(strategy='median')),\n",
    "    ('scaler', StandardScaler())\n",
    "])\n",
    "\n",
    "categorical_transformer = Pipeline(steps=[\n",
    "    ('imputer', SimpleImputer(strategy='most_frequent')),\n",
    "    ('onehot', OneHotEncoder(sparse=False, handle_unknown='ignore'))\n",
    "])"
   ]
  },
  {
   "cell_type": "code",
   "execution_count": 24,
   "id": "eb3977a4",
   "metadata": {
    "execution": {
     "iopub.execute_input": "2024-01-09T10:15:22.482957Z",
     "iopub.status.busy": "2024-01-09T10:15:22.482557Z",
     "iopub.status.idle": "2024-01-09T10:15:22.487775Z",
     "shell.execute_reply": "2024-01-09T10:15:22.486744Z"
    },
    "papermill": {
     "duration": 0.042757,
     "end_time": "2024-01-09T10:15:22.490166",
     "exception": false,
     "start_time": "2024-01-09T10:15:22.447409",
     "status": "completed"
    },
    "tags": []
   },
   "outputs": [],
   "source": [
    "# Applying transformers to columns\n",
    "preprocessor = ColumnTransformer(\n",
    "    transformers=[\n",
    "        ('num', numerical_transformer, numerical_cols),\n",
    "        ('cat', categorical_transformer, categorical_cols)\n",
    "    ])"
   ]
  },
  {
   "cell_type": "markdown",
   "id": "21e30434",
   "metadata": {
    "papermill": {
     "duration": 0.0336,
     "end_time": "2024-01-09T10:15:22.557662",
     "exception": false,
     "start_time": "2024-01-09T10:15:22.524062",
     "status": "completed"
    },
    "tags": []
   },
   "source": [
    "**Train-Test Split**"
   ]
  },
  {
   "cell_type": "markdown",
   "id": "9c3e6791",
   "metadata": {
    "papermill": {
     "duration": 0.033367,
     "end_time": "2024-01-09T10:15:22.625589",
     "exception": false,
     "start_time": "2024-01-09T10:15:22.592222",
     "status": "completed"
    },
    "tags": []
   },
   "source": [
    "* Splitting data in training and test sets with 20% size of dataset being alloted to test set with RandomState 48. "
   ]
  },
  {
   "cell_type": "code",
   "execution_count": 25,
   "id": "e09d4809",
   "metadata": {
    "execution": {
     "iopub.execute_input": "2024-01-09T10:15:22.694384Z",
     "iopub.status.busy": "2024-01-09T10:15:22.693702Z",
     "iopub.status.idle": "2024-01-09T10:15:22.720352Z",
     "shell.execute_reply": "2024-01-09T10:15:22.719257Z"
    },
    "papermill": {
     "duration": 0.063384,
     "end_time": "2024-01-09T10:15:22.722552",
     "exception": false,
     "start_time": "2024-01-09T10:15:22.659168",
     "status": "completed"
    },
    "tags": []
   },
   "outputs": [],
   "source": [
    "#Diving data into features and labels\n",
    "X = data.drop(['total_amount'], axis =1)\n",
    "y = data['total_amount']"
   ]
  },
  {
   "cell_type": "code",
   "execution_count": 26,
   "id": "d9ae8f92",
   "metadata": {
    "execution": {
     "iopub.execute_input": "2024-01-09T10:15:22.792463Z",
     "iopub.status.busy": "2024-01-09T10:15:22.791536Z",
     "iopub.status.idle": "2024-01-09T10:15:22.861180Z",
     "shell.execute_reply": "2024-01-09T10:15:22.860032Z"
    },
    "papermill": {
     "duration": 0.107688,
     "end_time": "2024-01-09T10:15:22.863893",
     "exception": false,
     "start_time": "2024-01-09T10:15:22.756205",
     "status": "completed"
    },
    "tags": []
   },
   "outputs": [],
   "source": [
    "X_train, X_test, y_train, y_test = train_test_split(X,y, test_size = 0.2, random_state = 48)"
   ]
  },
  {
   "cell_type": "code",
   "execution_count": 27,
   "id": "5f075e18",
   "metadata": {
    "execution": {
     "iopub.execute_input": "2024-01-09T10:15:22.935198Z",
     "iopub.status.busy": "2024-01-09T10:15:22.934782Z",
     "iopub.status.idle": "2024-01-09T10:15:22.941581Z",
     "shell.execute_reply": "2024-01-09T10:15:22.940539Z"
    },
    "papermill": {
     "duration": 0.044395,
     "end_time": "2024-01-09T10:15:22.943898",
     "exception": false,
     "start_time": "2024-01-09T10:15:22.899503",
     "status": "completed"
    },
    "tags": []
   },
   "outputs": [
    {
     "data": {
      "text/plain": [
       "((140000, 17), (35000, 17))"
      ]
     },
     "execution_count": 27,
     "metadata": {},
     "output_type": "execute_result"
    }
   ],
   "source": [
    "X_train.shape, X_test.shape"
   ]
  },
  {
   "cell_type": "code",
   "execution_count": 28,
   "id": "b661ec25",
   "metadata": {
    "execution": {
     "iopub.execute_input": "2024-01-09T10:15:23.014523Z",
     "iopub.status.busy": "2024-01-09T10:15:23.013516Z",
     "iopub.status.idle": "2024-01-09T10:15:23.018147Z",
     "shell.execute_reply": "2024-01-09T10:15:23.017122Z"
    },
    "papermill": {
     "duration": 0.041857,
     "end_time": "2024-01-09T10:15:23.020211",
     "exception": false,
     "start_time": "2024-01-09T10:15:22.978354",
     "status": "completed"
    },
    "tags": []
   },
   "outputs": [],
   "source": [
    "# Correlation matrix \n",
    "# sns.heatmap(data.corr(), annot=True)"
   ]
  },
  {
   "cell_type": "markdown",
   "id": "d4bedb2e",
   "metadata": {
    "papermill": {
     "duration": 0.031894,
     "end_time": "2024-01-09T10:15:23.085199",
     "exception": false,
     "start_time": "2024-01-09T10:15:23.053305",
     "status": "completed"
    },
    "tags": []
   },
   "source": [
    "# **Model Selection and Training**"
   ]
  },
  {
   "cell_type": "markdown",
   "id": "f560a395",
   "metadata": {
    "papermill": {
     "duration": 0.031735,
     "end_time": "2024-01-09T10:15:23.149160",
     "exception": false,
     "start_time": "2024-01-09T10:15:23.117425",
     "status": "completed"
    },
    "tags": []
   },
   "source": [
    "*Implement KNeighborsRegressor and DecisionTreeRegressor*"
   ]
  },
  {
   "cell_type": "markdown",
   "id": "19220d7a",
   "metadata": {
    "papermill": {
     "duration": 0.032503,
     "end_time": "2024-01-09T10:15:23.214617",
     "exception": false,
     "start_time": "2024-01-09T10:15:23.182114",
     "status": "completed"
    },
    "tags": []
   },
   "source": [
    "**Model 1. Linear Regression**"
   ]
  },
  {
   "cell_type": "markdown",
   "id": "608647e6",
   "metadata": {
    "papermill": {
     "duration": 0.032738,
     "end_time": "2024-01-09T10:15:23.280884",
     "exception": false,
     "start_time": "2024-01-09T10:15:23.248146",
     "status": "completed"
    },
    "tags": []
   },
   "source": [
    "* The first model being trained here is Linear Regression and R2 Score from that model is 0.7137."
   ]
  },
  {
   "cell_type": "code",
   "execution_count": 29,
   "id": "634d1b9c",
   "metadata": {
    "execution": {
     "iopub.execute_input": "2024-01-09T10:15:23.352485Z",
     "iopub.status.busy": "2024-01-09T10:15:23.351471Z",
     "iopub.status.idle": "2024-01-09T10:15:24.239202Z",
     "shell.execute_reply": "2024-01-09T10:15:24.237937Z"
    },
    "papermill": {
     "duration": 0.926715,
     "end_time": "2024-01-09T10:15:24.241578",
     "exception": false,
     "start_time": "2024-01-09T10:15:23.314863",
     "status": "completed"
    },
    "tags": []
   },
   "outputs": [
    {
     "name": "stderr",
     "output_type": "stream",
     "text": [
      "/opt/conda/lib/python3.10/site-packages/sklearn/preprocessing/_encoders.py:868: FutureWarning: `sparse` was renamed to `sparse_output` in version 1.2 and will be removed in 1.4. `sparse_output` is ignored unless you leave `sparse` to its default value.\n",
      "  warnings.warn(\n"
     ]
    },
    {
     "data": {
      "text/html": [
       "<style>#sk-container-id-1 {color: black;background-color: white;}#sk-container-id-1 pre{padding: 0;}#sk-container-id-1 div.sk-toggleable {background-color: white;}#sk-container-id-1 label.sk-toggleable__label {cursor: pointer;display: block;width: 100%;margin-bottom: 0;padding: 0.3em;box-sizing: border-box;text-align: center;}#sk-container-id-1 label.sk-toggleable__label-arrow:before {content: \"▸\";float: left;margin-right: 0.25em;color: #696969;}#sk-container-id-1 label.sk-toggleable__label-arrow:hover:before {color: black;}#sk-container-id-1 div.sk-estimator:hover label.sk-toggleable__label-arrow:before {color: black;}#sk-container-id-1 div.sk-toggleable__content {max-height: 0;max-width: 0;overflow: hidden;text-align: left;background-color: #f0f8ff;}#sk-container-id-1 div.sk-toggleable__content pre {margin: 0.2em;color: black;border-radius: 0.25em;background-color: #f0f8ff;}#sk-container-id-1 input.sk-toggleable__control:checked~div.sk-toggleable__content {max-height: 200px;max-width: 100%;overflow: auto;}#sk-container-id-1 input.sk-toggleable__control:checked~label.sk-toggleable__label-arrow:before {content: \"▾\";}#sk-container-id-1 div.sk-estimator input.sk-toggleable__control:checked~label.sk-toggleable__label {background-color: #d4ebff;}#sk-container-id-1 div.sk-label input.sk-toggleable__control:checked~label.sk-toggleable__label {background-color: #d4ebff;}#sk-container-id-1 input.sk-hidden--visually {border: 0;clip: rect(1px 1px 1px 1px);clip: rect(1px, 1px, 1px, 1px);height: 1px;margin: -1px;overflow: hidden;padding: 0;position: absolute;width: 1px;}#sk-container-id-1 div.sk-estimator {font-family: monospace;background-color: #f0f8ff;border: 1px dotted black;border-radius: 0.25em;box-sizing: border-box;margin-bottom: 0.5em;}#sk-container-id-1 div.sk-estimator:hover {background-color: #d4ebff;}#sk-container-id-1 div.sk-parallel-item::after {content: \"\";width: 100%;border-bottom: 1px solid gray;flex-grow: 1;}#sk-container-id-1 div.sk-label:hover label.sk-toggleable__label {background-color: #d4ebff;}#sk-container-id-1 div.sk-serial::before {content: \"\";position: absolute;border-left: 1px solid gray;box-sizing: border-box;top: 0;bottom: 0;left: 50%;z-index: 0;}#sk-container-id-1 div.sk-serial {display: flex;flex-direction: column;align-items: center;background-color: white;padding-right: 0.2em;padding-left: 0.2em;position: relative;}#sk-container-id-1 div.sk-item {position: relative;z-index: 1;}#sk-container-id-1 div.sk-parallel {display: flex;align-items: stretch;justify-content: center;background-color: white;position: relative;}#sk-container-id-1 div.sk-item::before, #sk-container-id-1 div.sk-parallel-item::before {content: \"\";position: absolute;border-left: 1px solid gray;box-sizing: border-box;top: 0;bottom: 0;left: 50%;z-index: -1;}#sk-container-id-1 div.sk-parallel-item {display: flex;flex-direction: column;z-index: 1;position: relative;background-color: white;}#sk-container-id-1 div.sk-parallel-item:first-child::after {align-self: flex-end;width: 50%;}#sk-container-id-1 div.sk-parallel-item:last-child::after {align-self: flex-start;width: 50%;}#sk-container-id-1 div.sk-parallel-item:only-child::after {width: 0;}#sk-container-id-1 div.sk-dashed-wrapped {border: 1px dashed gray;margin: 0 0.4em 0.5em 0.4em;box-sizing: border-box;padding-bottom: 0.4em;background-color: white;}#sk-container-id-1 div.sk-label label {font-family: monospace;font-weight: bold;display: inline-block;line-height: 1.2em;}#sk-container-id-1 div.sk-label-container {text-align: center;}#sk-container-id-1 div.sk-container {/* jupyter's `normalize.less` sets `[hidden] { display: none; }` but bootstrap.min.css set `[hidden] { display: none !important; }` so we also need the `!important` here to be able to override the default hidden behavior on the sphinx rendered scikit-learn.org. See: https://github.com/scikit-learn/scikit-learn/issues/21755 */display: inline-block !important;position: relative;}#sk-container-id-1 div.sk-text-repr-fallback {display: none;}</style><div id=\"sk-container-id-1\" class=\"sk-top-container\"><div class=\"sk-text-repr-fallback\"><pre>Pipeline(steps=[(&#x27;preprocessor&#x27;,\n",
       "                 ColumnTransformer(transformers=[(&#x27;num&#x27;,\n",
       "                                                  Pipeline(steps=[(&#x27;imputer&#x27;,\n",
       "                                                                   SimpleImputer(strategy=&#x27;median&#x27;)),\n",
       "                                                                  (&#x27;scaler&#x27;,\n",
       "                                                                   StandardScaler())]),\n",
       "                                                  [&#x27;VendorID&#x27;,\n",
       "                                                   &#x27;passenger_count&#x27;,\n",
       "                                                   &#x27;trip_distance&#x27;,\n",
       "                                                   &#x27;RatecodeID&#x27;, &#x27;PULocationID&#x27;,\n",
       "                                                   &#x27;DOLocationID&#x27;, &#x27;extra&#x27;,\n",
       "                                                   &#x27;tip_amount&#x27;, &#x27;tolls_amount&#x27;,\n",
       "                                                   &#x27;improvement_surcharge&#x27;,\n",
       "                                                   &#x27;congestion_surcharge&#x27;,\n",
       "                                                   &#x27;Airport_fee&#x27;, &#x27;pickup_day&#x27;,\n",
       "                                                   &#x27;pickup_hour&#x27;,\n",
       "                                                   &#x27;trip_duration_minutes&#x27;]),\n",
       "                                                 (&#x27;cat&#x27;,\n",
       "                                                  Pipeline(steps=[(&#x27;imputer&#x27;,\n",
       "                                                                   SimpleImputer(strategy=&#x27;most_frequent&#x27;)),\n",
       "                                                                  (&#x27;onehot&#x27;,\n",
       "                                                                   OneHotEncoder(handle_unknown=&#x27;ignore&#x27;,\n",
       "                                                                                 sparse=False))]),\n",
       "                                                  [&#x27;store_and_fwd_flag&#x27;,\n",
       "                                                   &#x27;payment_type&#x27;])])),\n",
       "                (&#x27;regressor&#x27;, LinearRegression())])</pre><b>In a Jupyter environment, please rerun this cell to show the HTML representation or trust the notebook. <br />On GitHub, the HTML representation is unable to render, please try loading this page with nbviewer.org.</b></div><div class=\"sk-container\" hidden><div class=\"sk-item sk-dashed-wrapped\"><div class=\"sk-label-container\"><div class=\"sk-label sk-toggleable\"><input class=\"sk-toggleable__control sk-hidden--visually\" id=\"sk-estimator-id-1\" type=\"checkbox\" ><label for=\"sk-estimator-id-1\" class=\"sk-toggleable__label sk-toggleable__label-arrow\">Pipeline</label><div class=\"sk-toggleable__content\"><pre>Pipeline(steps=[(&#x27;preprocessor&#x27;,\n",
       "                 ColumnTransformer(transformers=[(&#x27;num&#x27;,\n",
       "                                                  Pipeline(steps=[(&#x27;imputer&#x27;,\n",
       "                                                                   SimpleImputer(strategy=&#x27;median&#x27;)),\n",
       "                                                                  (&#x27;scaler&#x27;,\n",
       "                                                                   StandardScaler())]),\n",
       "                                                  [&#x27;VendorID&#x27;,\n",
       "                                                   &#x27;passenger_count&#x27;,\n",
       "                                                   &#x27;trip_distance&#x27;,\n",
       "                                                   &#x27;RatecodeID&#x27;, &#x27;PULocationID&#x27;,\n",
       "                                                   &#x27;DOLocationID&#x27;, &#x27;extra&#x27;,\n",
       "                                                   &#x27;tip_amount&#x27;, &#x27;tolls_amount&#x27;,\n",
       "                                                   &#x27;improvement_surcharge&#x27;,\n",
       "                                                   &#x27;congestion_surcharge&#x27;,\n",
       "                                                   &#x27;Airport_fee&#x27;, &#x27;pickup_day&#x27;,\n",
       "                                                   &#x27;pickup_hour&#x27;,\n",
       "                                                   &#x27;trip_duration_minutes&#x27;]),\n",
       "                                                 (&#x27;cat&#x27;,\n",
       "                                                  Pipeline(steps=[(&#x27;imputer&#x27;,\n",
       "                                                                   SimpleImputer(strategy=&#x27;most_frequent&#x27;)),\n",
       "                                                                  (&#x27;onehot&#x27;,\n",
       "                                                                   OneHotEncoder(handle_unknown=&#x27;ignore&#x27;,\n",
       "                                                                                 sparse=False))]),\n",
       "                                                  [&#x27;store_and_fwd_flag&#x27;,\n",
       "                                                   &#x27;payment_type&#x27;])])),\n",
       "                (&#x27;regressor&#x27;, LinearRegression())])</pre></div></div></div><div class=\"sk-serial\"><div class=\"sk-item sk-dashed-wrapped\"><div class=\"sk-label-container\"><div class=\"sk-label sk-toggleable\"><input class=\"sk-toggleable__control sk-hidden--visually\" id=\"sk-estimator-id-2\" type=\"checkbox\" ><label for=\"sk-estimator-id-2\" class=\"sk-toggleable__label sk-toggleable__label-arrow\">preprocessor: ColumnTransformer</label><div class=\"sk-toggleable__content\"><pre>ColumnTransformer(transformers=[(&#x27;num&#x27;,\n",
       "                                 Pipeline(steps=[(&#x27;imputer&#x27;,\n",
       "                                                  SimpleImputer(strategy=&#x27;median&#x27;)),\n",
       "                                                 (&#x27;scaler&#x27;, StandardScaler())]),\n",
       "                                 [&#x27;VendorID&#x27;, &#x27;passenger_count&#x27;,\n",
       "                                  &#x27;trip_distance&#x27;, &#x27;RatecodeID&#x27;, &#x27;PULocationID&#x27;,\n",
       "                                  &#x27;DOLocationID&#x27;, &#x27;extra&#x27;, &#x27;tip_amount&#x27;,\n",
       "                                  &#x27;tolls_amount&#x27;, &#x27;improvement_surcharge&#x27;,\n",
       "                                  &#x27;congestion_surcharge&#x27;, &#x27;Airport_fee&#x27;,\n",
       "                                  &#x27;pickup_day&#x27;, &#x27;pickup_hour&#x27;,\n",
       "                                  &#x27;trip_duration_minutes&#x27;]),\n",
       "                                (&#x27;cat&#x27;,\n",
       "                                 Pipeline(steps=[(&#x27;imputer&#x27;,\n",
       "                                                  SimpleImputer(strategy=&#x27;most_frequent&#x27;)),\n",
       "                                                 (&#x27;onehot&#x27;,\n",
       "                                                  OneHotEncoder(handle_unknown=&#x27;ignore&#x27;,\n",
       "                                                                sparse=False))]),\n",
       "                                 [&#x27;store_and_fwd_flag&#x27;, &#x27;payment_type&#x27;])])</pre></div></div></div><div class=\"sk-parallel\"><div class=\"sk-parallel-item\"><div class=\"sk-item\"><div class=\"sk-label-container\"><div class=\"sk-label sk-toggleable\"><input class=\"sk-toggleable__control sk-hidden--visually\" id=\"sk-estimator-id-3\" type=\"checkbox\" ><label for=\"sk-estimator-id-3\" class=\"sk-toggleable__label sk-toggleable__label-arrow\">num</label><div class=\"sk-toggleable__content\"><pre>[&#x27;VendorID&#x27;, &#x27;passenger_count&#x27;, &#x27;trip_distance&#x27;, &#x27;RatecodeID&#x27;, &#x27;PULocationID&#x27;, &#x27;DOLocationID&#x27;, &#x27;extra&#x27;, &#x27;tip_amount&#x27;, &#x27;tolls_amount&#x27;, &#x27;improvement_surcharge&#x27;, &#x27;congestion_surcharge&#x27;, &#x27;Airport_fee&#x27;, &#x27;pickup_day&#x27;, &#x27;pickup_hour&#x27;, &#x27;trip_duration_minutes&#x27;]</pre></div></div></div><div class=\"sk-serial\"><div class=\"sk-item\"><div class=\"sk-serial\"><div class=\"sk-item\"><div class=\"sk-estimator sk-toggleable\"><input class=\"sk-toggleable__control sk-hidden--visually\" id=\"sk-estimator-id-4\" type=\"checkbox\" ><label for=\"sk-estimator-id-4\" class=\"sk-toggleable__label sk-toggleable__label-arrow\">SimpleImputer</label><div class=\"sk-toggleable__content\"><pre>SimpleImputer(strategy=&#x27;median&#x27;)</pre></div></div></div><div class=\"sk-item\"><div class=\"sk-estimator sk-toggleable\"><input class=\"sk-toggleable__control sk-hidden--visually\" id=\"sk-estimator-id-5\" type=\"checkbox\" ><label for=\"sk-estimator-id-5\" class=\"sk-toggleable__label sk-toggleable__label-arrow\">StandardScaler</label><div class=\"sk-toggleable__content\"><pre>StandardScaler()</pre></div></div></div></div></div></div></div></div><div class=\"sk-parallel-item\"><div class=\"sk-item\"><div class=\"sk-label-container\"><div class=\"sk-label sk-toggleable\"><input class=\"sk-toggleable__control sk-hidden--visually\" id=\"sk-estimator-id-6\" type=\"checkbox\" ><label for=\"sk-estimator-id-6\" class=\"sk-toggleable__label sk-toggleable__label-arrow\">cat</label><div class=\"sk-toggleable__content\"><pre>[&#x27;store_and_fwd_flag&#x27;, &#x27;payment_type&#x27;]</pre></div></div></div><div class=\"sk-serial\"><div class=\"sk-item\"><div class=\"sk-serial\"><div class=\"sk-item\"><div class=\"sk-estimator sk-toggleable\"><input class=\"sk-toggleable__control sk-hidden--visually\" id=\"sk-estimator-id-7\" type=\"checkbox\" ><label for=\"sk-estimator-id-7\" class=\"sk-toggleable__label sk-toggleable__label-arrow\">SimpleImputer</label><div class=\"sk-toggleable__content\"><pre>SimpleImputer(strategy=&#x27;most_frequent&#x27;)</pre></div></div></div><div class=\"sk-item\"><div class=\"sk-estimator sk-toggleable\"><input class=\"sk-toggleable__control sk-hidden--visually\" id=\"sk-estimator-id-8\" type=\"checkbox\" ><label for=\"sk-estimator-id-8\" class=\"sk-toggleable__label sk-toggleable__label-arrow\">OneHotEncoder</label><div class=\"sk-toggleable__content\"><pre>OneHotEncoder(handle_unknown=&#x27;ignore&#x27;, sparse=False)</pre></div></div></div></div></div></div></div></div></div></div><div class=\"sk-item\"><div class=\"sk-estimator sk-toggleable\"><input class=\"sk-toggleable__control sk-hidden--visually\" id=\"sk-estimator-id-9\" type=\"checkbox\" ><label for=\"sk-estimator-id-9\" class=\"sk-toggleable__label sk-toggleable__label-arrow\">LinearRegression</label><div class=\"sk-toggleable__content\"><pre>LinearRegression()</pre></div></div></div></div></div></div></div>"
      ],
      "text/plain": [
       "Pipeline(steps=[('preprocessor',\n",
       "                 ColumnTransformer(transformers=[('num',\n",
       "                                                  Pipeline(steps=[('imputer',\n",
       "                                                                   SimpleImputer(strategy='median')),\n",
       "                                                                  ('scaler',\n",
       "                                                                   StandardScaler())]),\n",
       "                                                  ['VendorID',\n",
       "                                                   'passenger_count',\n",
       "                                                   'trip_distance',\n",
       "                                                   'RatecodeID', 'PULocationID',\n",
       "                                                   'DOLocationID', 'extra',\n",
       "                                                   'tip_amount', 'tolls_amount',\n",
       "                                                   'improvement_surcharge',\n",
       "                                                   'congestion_surcharge',\n",
       "                                                   'Airport_fee', 'pickup_day',\n",
       "                                                   'pickup_hour',\n",
       "                                                   'trip_duration_minutes']),\n",
       "                                                 ('cat',\n",
       "                                                  Pipeline(steps=[('imputer',\n",
       "                                                                   SimpleImputer(strategy='most_frequent')),\n",
       "                                                                  ('onehot',\n",
       "                                                                   OneHotEncoder(handle_unknown='ignore',\n",
       "                                                                                 sparse=False))]),\n",
       "                                                  ['store_and_fwd_flag',\n",
       "                                                   'payment_type'])])),\n",
       "                ('regressor', LinearRegression())])"
      ]
     },
     "execution_count": 29,
     "metadata": {},
     "output_type": "execute_result"
    }
   ],
   "source": [
    "# LINEAR REGRESSION\n",
    "lin_reg = Pipeline(steps=[('preprocessor', preprocessor),\n",
    "                            ('regressor', LinearRegression())])\n",
    "# Fitting the model\n",
    "lin_reg.fit(X_train, y_train)"
   ]
  },
  {
   "cell_type": "code",
   "execution_count": 30,
   "id": "afdf4f0a",
   "metadata": {
    "execution": {
     "iopub.execute_input": "2024-01-09T10:15:24.314600Z",
     "iopub.status.busy": "2024-01-09T10:15:24.314222Z",
     "iopub.status.idle": "2024-01-09T10:15:24.380182Z",
     "shell.execute_reply": "2024-01-09T10:15:24.378577Z"
    },
    "papermill": {
     "duration": 0.107917,
     "end_time": "2024-01-09T10:15:24.384602",
     "exception": false,
     "start_time": "2024-01-09T10:15:24.276685",
     "status": "completed"
    },
    "tags": []
   },
   "outputs": [
    {
     "name": "stdout",
     "output_type": "stream",
     "text": [
      "R-squared (R2) Score from Linear Regression: 0.7137794131451405\n"
     ]
    }
   ],
   "source": [
    "#R2 Score on X_test\n",
    "y_pred = lin_reg.predict(X_test)\n",
    "\n",
    "r_squared = r2_score(y_test, y_pred)\n",
    "print(f'R-squared (R2) Score from Linear Regression: {r_squared}')"
   ]
  },
  {
   "cell_type": "markdown",
   "id": "223c44f2",
   "metadata": {
    "papermill": {
     "duration": 0.058893,
     "end_time": "2024-01-09T10:15:24.519694",
     "exception": false,
     "start_time": "2024-01-09T10:15:24.460801",
     "status": "completed"
    },
    "tags": []
   },
   "source": [
    "**Model 2. Random Forest Regressor**"
   ]
  },
  {
   "cell_type": "markdown",
   "id": "90751681",
   "metadata": {
    "papermill": {
     "duration": 0.03597,
     "end_time": "2024-01-09T10:15:24.592064",
     "exception": false,
     "start_time": "2024-01-09T10:15:24.556094",
     "status": "completed"
    },
    "tags": []
   },
   "source": [
    "* The second model being trained here is Random Forest Regression and R2 Score from that model is 0.9482.\n",
    "* The r2 score on validation set from RandomForest model is 0.94183.\n",
    "* We can see that there is not a significant difference between training data score and test data prediction so there is no case of **\"Overfitting\"**\n",
    "* This is the 3rd best performing model."
   ]
  },
  {
   "cell_type": "code",
   "execution_count": 31,
   "id": "a0cb501b",
   "metadata": {
    "execution": {
     "iopub.execute_input": "2024-01-09T10:15:24.662962Z",
     "iopub.status.busy": "2024-01-09T10:15:24.662548Z",
     "iopub.status.idle": "2024-01-09T10:17:39.128223Z",
     "shell.execute_reply": "2024-01-09T10:17:39.127124Z"
    },
    "papermill": {
     "duration": 134.541416,
     "end_time": "2024-01-09T10:17:39.167741",
     "exception": false,
     "start_time": "2024-01-09T10:15:24.626325",
     "status": "completed"
    },
    "tags": []
   },
   "outputs": [
    {
     "name": "stderr",
     "output_type": "stream",
     "text": [
      "/opt/conda/lib/python3.10/site-packages/sklearn/preprocessing/_encoders.py:868: FutureWarning: `sparse` was renamed to `sparse_output` in version 1.2 and will be removed in 1.4. `sparse_output` is ignored unless you leave `sparse` to its default value.\n",
      "  warnings.warn(\n"
     ]
    },
    {
     "data": {
      "text/html": [
       "<style>#sk-container-id-2 {color: black;background-color: white;}#sk-container-id-2 pre{padding: 0;}#sk-container-id-2 div.sk-toggleable {background-color: white;}#sk-container-id-2 label.sk-toggleable__label {cursor: pointer;display: block;width: 100%;margin-bottom: 0;padding: 0.3em;box-sizing: border-box;text-align: center;}#sk-container-id-2 label.sk-toggleable__label-arrow:before {content: \"▸\";float: left;margin-right: 0.25em;color: #696969;}#sk-container-id-2 label.sk-toggleable__label-arrow:hover:before {color: black;}#sk-container-id-2 div.sk-estimator:hover label.sk-toggleable__label-arrow:before {color: black;}#sk-container-id-2 div.sk-toggleable__content {max-height: 0;max-width: 0;overflow: hidden;text-align: left;background-color: #f0f8ff;}#sk-container-id-2 div.sk-toggleable__content pre {margin: 0.2em;color: black;border-radius: 0.25em;background-color: #f0f8ff;}#sk-container-id-2 input.sk-toggleable__control:checked~div.sk-toggleable__content {max-height: 200px;max-width: 100%;overflow: auto;}#sk-container-id-2 input.sk-toggleable__control:checked~label.sk-toggleable__label-arrow:before {content: \"▾\";}#sk-container-id-2 div.sk-estimator input.sk-toggleable__control:checked~label.sk-toggleable__label {background-color: #d4ebff;}#sk-container-id-2 div.sk-label input.sk-toggleable__control:checked~label.sk-toggleable__label {background-color: #d4ebff;}#sk-container-id-2 input.sk-hidden--visually {border: 0;clip: rect(1px 1px 1px 1px);clip: rect(1px, 1px, 1px, 1px);height: 1px;margin: -1px;overflow: hidden;padding: 0;position: absolute;width: 1px;}#sk-container-id-2 div.sk-estimator {font-family: monospace;background-color: #f0f8ff;border: 1px dotted black;border-radius: 0.25em;box-sizing: border-box;margin-bottom: 0.5em;}#sk-container-id-2 div.sk-estimator:hover {background-color: #d4ebff;}#sk-container-id-2 div.sk-parallel-item::after {content: \"\";width: 100%;border-bottom: 1px solid gray;flex-grow: 1;}#sk-container-id-2 div.sk-label:hover label.sk-toggleable__label {background-color: #d4ebff;}#sk-container-id-2 div.sk-serial::before {content: \"\";position: absolute;border-left: 1px solid gray;box-sizing: border-box;top: 0;bottom: 0;left: 50%;z-index: 0;}#sk-container-id-2 div.sk-serial {display: flex;flex-direction: column;align-items: center;background-color: white;padding-right: 0.2em;padding-left: 0.2em;position: relative;}#sk-container-id-2 div.sk-item {position: relative;z-index: 1;}#sk-container-id-2 div.sk-parallel {display: flex;align-items: stretch;justify-content: center;background-color: white;position: relative;}#sk-container-id-2 div.sk-item::before, #sk-container-id-2 div.sk-parallel-item::before {content: \"\";position: absolute;border-left: 1px solid gray;box-sizing: border-box;top: 0;bottom: 0;left: 50%;z-index: -1;}#sk-container-id-2 div.sk-parallel-item {display: flex;flex-direction: column;z-index: 1;position: relative;background-color: white;}#sk-container-id-2 div.sk-parallel-item:first-child::after {align-self: flex-end;width: 50%;}#sk-container-id-2 div.sk-parallel-item:last-child::after {align-self: flex-start;width: 50%;}#sk-container-id-2 div.sk-parallel-item:only-child::after {width: 0;}#sk-container-id-2 div.sk-dashed-wrapped {border: 1px dashed gray;margin: 0 0.4em 0.5em 0.4em;box-sizing: border-box;padding-bottom: 0.4em;background-color: white;}#sk-container-id-2 div.sk-label label {font-family: monospace;font-weight: bold;display: inline-block;line-height: 1.2em;}#sk-container-id-2 div.sk-label-container {text-align: center;}#sk-container-id-2 div.sk-container {/* jupyter's `normalize.less` sets `[hidden] { display: none; }` but bootstrap.min.css set `[hidden] { display: none !important; }` so we also need the `!important` here to be able to override the default hidden behavior on the sphinx rendered scikit-learn.org. See: https://github.com/scikit-learn/scikit-learn/issues/21755 */display: inline-block !important;position: relative;}#sk-container-id-2 div.sk-text-repr-fallback {display: none;}</style><div id=\"sk-container-id-2\" class=\"sk-top-container\"><div class=\"sk-text-repr-fallback\"><pre>Pipeline(steps=[(&#x27;preprocessor&#x27;,\n",
       "                 ColumnTransformer(transformers=[(&#x27;num&#x27;,\n",
       "                                                  Pipeline(steps=[(&#x27;imputer&#x27;,\n",
       "                                                                   SimpleImputer(strategy=&#x27;median&#x27;)),\n",
       "                                                                  (&#x27;scaler&#x27;,\n",
       "                                                                   StandardScaler())]),\n",
       "                                                  [&#x27;VendorID&#x27;,\n",
       "                                                   &#x27;passenger_count&#x27;,\n",
       "                                                   &#x27;trip_distance&#x27;,\n",
       "                                                   &#x27;RatecodeID&#x27;, &#x27;PULocationID&#x27;,\n",
       "                                                   &#x27;DOLocationID&#x27;, &#x27;extra&#x27;,\n",
       "                                                   &#x27;tip_amount&#x27;, &#x27;tolls_amount&#x27;,\n",
       "                                                   &#x27;improvement_surcharge&#x27;,\n",
       "                                                   &#x27;congestion_surcharge&#x27;,\n",
       "                                                   &#x27;Airport_fee&#x27;, &#x27;pickup_day&#x27;,\n",
       "                                                   &#x27;pickup_hour&#x27;,\n",
       "                                                   &#x27;trip_duration_minutes&#x27;]),\n",
       "                                                 (&#x27;cat&#x27;,\n",
       "                                                  Pipeline(steps=[(&#x27;imputer&#x27;,\n",
       "                                                                   SimpleImputer(strategy=&#x27;most_frequent&#x27;)),\n",
       "                                                                  (&#x27;onehot&#x27;,\n",
       "                                                                   OneHotEncoder(handle_unknown=&#x27;ignore&#x27;,\n",
       "                                                                                 sparse=False))]),\n",
       "                                                  [&#x27;store_and_fwd_flag&#x27;,\n",
       "                                                   &#x27;payment_type&#x27;])])),\n",
       "                (&#x27;regressor&#x27;, RandomForestRegressor(random_state=48))])</pre><b>In a Jupyter environment, please rerun this cell to show the HTML representation or trust the notebook. <br />On GitHub, the HTML representation is unable to render, please try loading this page with nbviewer.org.</b></div><div class=\"sk-container\" hidden><div class=\"sk-item sk-dashed-wrapped\"><div class=\"sk-label-container\"><div class=\"sk-label sk-toggleable\"><input class=\"sk-toggleable__control sk-hidden--visually\" id=\"sk-estimator-id-10\" type=\"checkbox\" ><label for=\"sk-estimator-id-10\" class=\"sk-toggleable__label sk-toggleable__label-arrow\">Pipeline</label><div class=\"sk-toggleable__content\"><pre>Pipeline(steps=[(&#x27;preprocessor&#x27;,\n",
       "                 ColumnTransformer(transformers=[(&#x27;num&#x27;,\n",
       "                                                  Pipeline(steps=[(&#x27;imputer&#x27;,\n",
       "                                                                   SimpleImputer(strategy=&#x27;median&#x27;)),\n",
       "                                                                  (&#x27;scaler&#x27;,\n",
       "                                                                   StandardScaler())]),\n",
       "                                                  [&#x27;VendorID&#x27;,\n",
       "                                                   &#x27;passenger_count&#x27;,\n",
       "                                                   &#x27;trip_distance&#x27;,\n",
       "                                                   &#x27;RatecodeID&#x27;, &#x27;PULocationID&#x27;,\n",
       "                                                   &#x27;DOLocationID&#x27;, &#x27;extra&#x27;,\n",
       "                                                   &#x27;tip_amount&#x27;, &#x27;tolls_amount&#x27;,\n",
       "                                                   &#x27;improvement_surcharge&#x27;,\n",
       "                                                   &#x27;congestion_surcharge&#x27;,\n",
       "                                                   &#x27;Airport_fee&#x27;, &#x27;pickup_day&#x27;,\n",
       "                                                   &#x27;pickup_hour&#x27;,\n",
       "                                                   &#x27;trip_duration_minutes&#x27;]),\n",
       "                                                 (&#x27;cat&#x27;,\n",
       "                                                  Pipeline(steps=[(&#x27;imputer&#x27;,\n",
       "                                                                   SimpleImputer(strategy=&#x27;most_frequent&#x27;)),\n",
       "                                                                  (&#x27;onehot&#x27;,\n",
       "                                                                   OneHotEncoder(handle_unknown=&#x27;ignore&#x27;,\n",
       "                                                                                 sparse=False))]),\n",
       "                                                  [&#x27;store_and_fwd_flag&#x27;,\n",
       "                                                   &#x27;payment_type&#x27;])])),\n",
       "                (&#x27;regressor&#x27;, RandomForestRegressor(random_state=48))])</pre></div></div></div><div class=\"sk-serial\"><div class=\"sk-item sk-dashed-wrapped\"><div class=\"sk-label-container\"><div class=\"sk-label sk-toggleable\"><input class=\"sk-toggleable__control sk-hidden--visually\" id=\"sk-estimator-id-11\" type=\"checkbox\" ><label for=\"sk-estimator-id-11\" class=\"sk-toggleable__label sk-toggleable__label-arrow\">preprocessor: ColumnTransformer</label><div class=\"sk-toggleable__content\"><pre>ColumnTransformer(transformers=[(&#x27;num&#x27;,\n",
       "                                 Pipeline(steps=[(&#x27;imputer&#x27;,\n",
       "                                                  SimpleImputer(strategy=&#x27;median&#x27;)),\n",
       "                                                 (&#x27;scaler&#x27;, StandardScaler())]),\n",
       "                                 [&#x27;VendorID&#x27;, &#x27;passenger_count&#x27;,\n",
       "                                  &#x27;trip_distance&#x27;, &#x27;RatecodeID&#x27;, &#x27;PULocationID&#x27;,\n",
       "                                  &#x27;DOLocationID&#x27;, &#x27;extra&#x27;, &#x27;tip_amount&#x27;,\n",
       "                                  &#x27;tolls_amount&#x27;, &#x27;improvement_surcharge&#x27;,\n",
       "                                  &#x27;congestion_surcharge&#x27;, &#x27;Airport_fee&#x27;,\n",
       "                                  &#x27;pickup_day&#x27;, &#x27;pickup_hour&#x27;,\n",
       "                                  &#x27;trip_duration_minutes&#x27;]),\n",
       "                                (&#x27;cat&#x27;,\n",
       "                                 Pipeline(steps=[(&#x27;imputer&#x27;,\n",
       "                                                  SimpleImputer(strategy=&#x27;most_frequent&#x27;)),\n",
       "                                                 (&#x27;onehot&#x27;,\n",
       "                                                  OneHotEncoder(handle_unknown=&#x27;ignore&#x27;,\n",
       "                                                                sparse=False))]),\n",
       "                                 [&#x27;store_and_fwd_flag&#x27;, &#x27;payment_type&#x27;])])</pre></div></div></div><div class=\"sk-parallel\"><div class=\"sk-parallel-item\"><div class=\"sk-item\"><div class=\"sk-label-container\"><div class=\"sk-label sk-toggleable\"><input class=\"sk-toggleable__control sk-hidden--visually\" id=\"sk-estimator-id-12\" type=\"checkbox\" ><label for=\"sk-estimator-id-12\" class=\"sk-toggleable__label sk-toggleable__label-arrow\">num</label><div class=\"sk-toggleable__content\"><pre>[&#x27;VendorID&#x27;, &#x27;passenger_count&#x27;, &#x27;trip_distance&#x27;, &#x27;RatecodeID&#x27;, &#x27;PULocationID&#x27;, &#x27;DOLocationID&#x27;, &#x27;extra&#x27;, &#x27;tip_amount&#x27;, &#x27;tolls_amount&#x27;, &#x27;improvement_surcharge&#x27;, &#x27;congestion_surcharge&#x27;, &#x27;Airport_fee&#x27;, &#x27;pickup_day&#x27;, &#x27;pickup_hour&#x27;, &#x27;trip_duration_minutes&#x27;]</pre></div></div></div><div class=\"sk-serial\"><div class=\"sk-item\"><div class=\"sk-serial\"><div class=\"sk-item\"><div class=\"sk-estimator sk-toggleable\"><input class=\"sk-toggleable__control sk-hidden--visually\" id=\"sk-estimator-id-13\" type=\"checkbox\" ><label for=\"sk-estimator-id-13\" class=\"sk-toggleable__label sk-toggleable__label-arrow\">SimpleImputer</label><div class=\"sk-toggleable__content\"><pre>SimpleImputer(strategy=&#x27;median&#x27;)</pre></div></div></div><div class=\"sk-item\"><div class=\"sk-estimator sk-toggleable\"><input class=\"sk-toggleable__control sk-hidden--visually\" id=\"sk-estimator-id-14\" type=\"checkbox\" ><label for=\"sk-estimator-id-14\" class=\"sk-toggleable__label sk-toggleable__label-arrow\">StandardScaler</label><div class=\"sk-toggleable__content\"><pre>StandardScaler()</pre></div></div></div></div></div></div></div></div><div class=\"sk-parallel-item\"><div class=\"sk-item\"><div class=\"sk-label-container\"><div class=\"sk-label sk-toggleable\"><input class=\"sk-toggleable__control sk-hidden--visually\" id=\"sk-estimator-id-15\" type=\"checkbox\" ><label for=\"sk-estimator-id-15\" class=\"sk-toggleable__label sk-toggleable__label-arrow\">cat</label><div class=\"sk-toggleable__content\"><pre>[&#x27;store_and_fwd_flag&#x27;, &#x27;payment_type&#x27;]</pre></div></div></div><div class=\"sk-serial\"><div class=\"sk-item\"><div class=\"sk-serial\"><div class=\"sk-item\"><div class=\"sk-estimator sk-toggleable\"><input class=\"sk-toggleable__control sk-hidden--visually\" id=\"sk-estimator-id-16\" type=\"checkbox\" ><label for=\"sk-estimator-id-16\" class=\"sk-toggleable__label sk-toggleable__label-arrow\">SimpleImputer</label><div class=\"sk-toggleable__content\"><pre>SimpleImputer(strategy=&#x27;most_frequent&#x27;)</pre></div></div></div><div class=\"sk-item\"><div class=\"sk-estimator sk-toggleable\"><input class=\"sk-toggleable__control sk-hidden--visually\" id=\"sk-estimator-id-17\" type=\"checkbox\" ><label for=\"sk-estimator-id-17\" class=\"sk-toggleable__label sk-toggleable__label-arrow\">OneHotEncoder</label><div class=\"sk-toggleable__content\"><pre>OneHotEncoder(handle_unknown=&#x27;ignore&#x27;, sparse=False)</pre></div></div></div></div></div></div></div></div></div></div><div class=\"sk-item\"><div class=\"sk-estimator sk-toggleable\"><input class=\"sk-toggleable__control sk-hidden--visually\" id=\"sk-estimator-id-18\" type=\"checkbox\" ><label for=\"sk-estimator-id-18\" class=\"sk-toggleable__label sk-toggleable__label-arrow\">RandomForestRegressor</label><div class=\"sk-toggleable__content\"><pre>RandomForestRegressor(random_state=48)</pre></div></div></div></div></div></div></div>"
      ],
      "text/plain": [
       "Pipeline(steps=[('preprocessor',\n",
       "                 ColumnTransformer(transformers=[('num',\n",
       "                                                  Pipeline(steps=[('imputer',\n",
       "                                                                   SimpleImputer(strategy='median')),\n",
       "                                                                  ('scaler',\n",
       "                                                                   StandardScaler())]),\n",
       "                                                  ['VendorID',\n",
       "                                                   'passenger_count',\n",
       "                                                   'trip_distance',\n",
       "                                                   'RatecodeID', 'PULocationID',\n",
       "                                                   'DOLocationID', 'extra',\n",
       "                                                   'tip_amount', 'tolls_amount',\n",
       "                                                   'improvement_surcharge',\n",
       "                                                   'congestion_surcharge',\n",
       "                                                   'Airport_fee', 'pickup_day',\n",
       "                                                   'pickup_hour',\n",
       "                                                   'trip_duration_minutes']),\n",
       "                                                 ('cat',\n",
       "                                                  Pipeline(steps=[('imputer',\n",
       "                                                                   SimpleImputer(strategy='most_frequent')),\n",
       "                                                                  ('onehot',\n",
       "                                                                   OneHotEncoder(handle_unknown='ignore',\n",
       "                                                                                 sparse=False))]),\n",
       "                                                  ['store_and_fwd_flag',\n",
       "                                                   'payment_type'])])),\n",
       "                ('regressor', RandomForestRegressor(random_state=48))])"
      ]
     },
     "execution_count": 31,
     "metadata": {},
     "output_type": "execute_result"
    }
   ],
   "source": [
    "# RANDOM FOREST REGRESSION\n",
    "rf_reg = Pipeline(steps=[('preprocessor', preprocessor),\n",
    "                            ('regressor', RandomForestRegressor(random_state = 48))])\n",
    "# Fitting the model\n",
    "rf_reg.fit(X_train, y_train)"
   ]
  },
  {
   "cell_type": "code",
   "execution_count": 32,
   "id": "950ed40b",
   "metadata": {
    "execution": {
     "iopub.execute_input": "2024-01-09T10:17:39.242261Z",
     "iopub.status.busy": "2024-01-09T10:17:39.241874Z",
     "iopub.status.idle": "2024-01-09T10:17:41.057484Z",
     "shell.execute_reply": "2024-01-09T10:17:41.056097Z"
    },
    "papermill": {
     "duration": 1.855365,
     "end_time": "2024-01-09T10:17:41.059701",
     "exception": false,
     "start_time": "2024-01-09T10:17:39.204336",
     "status": "completed"
    },
    "tags": []
   },
   "outputs": [
    {
     "name": "stdout",
     "output_type": "stream",
     "text": [
      "R-squared (R2) Score from Random Forest Regressor before HPT: 0.9482434497873485\n"
     ]
    }
   ],
   "source": [
    "#R2 Score on X_test\n",
    "y_pred = rf_reg.predict(X_test)\n",
    "\n",
    "r_squared = r2_score(y_test, y_pred)\n",
    "print(f'R-squared (R2) Score from Random Forest Regressor before HPT: {r_squared}')"
   ]
  },
  {
   "cell_type": "markdown",
   "id": "be52b24d",
   "metadata": {
    "papermill": {
     "duration": 0.033666,
     "end_time": "2024-01-09T10:17:41.127426",
     "exception": false,
     "start_time": "2024-01-09T10:17:41.093760",
     "status": "completed"
    },
    "tags": []
   },
   "source": [
    "**HPT for RandomForest**"
   ]
  },
  {
   "cell_type": "code",
   "execution_count": 33,
   "id": "a40c6994",
   "metadata": {
    "execution": {
     "iopub.execute_input": "2024-01-09T10:17:41.199705Z",
     "iopub.status.busy": "2024-01-09T10:17:41.198822Z",
     "iopub.status.idle": "2024-01-09T10:17:41.204277Z",
     "shell.execute_reply": "2024-01-09T10:17:41.203280Z"
    },
    "papermill": {
     "duration": 0.044473,
     "end_time": "2024-01-09T10:17:41.206478",
     "exception": false,
     "start_time": "2024-01-09T10:17:41.162005",
     "status": "completed"
    },
    "tags": []
   },
   "outputs": [],
   "source": [
    "# # RANDOM FOREST REGRESSION With GSCV Hyperparameters\n",
    "# rf_reg_gs = Pipeline(steps=[('preprocessor', preprocessor),\n",
    "#                             ('regressor', RandomForestRegressor(random_state = 48))])\n",
    "\n",
    "# param_grid = {\n",
    "#     'regressor__n_estimators': [50, 100, 200],\n",
    "#     'regressor__max_depth': [None, 10, 20, 30],\n",
    "#     'regressor__min_samples_split': [2, 5, 10],\n",
    "#     'regressor__min_samples_leaf': [1, 2, 4],\n",
    "#     'regressor__max_features': ['auto', 'sqrt', 'log2']\n",
    "# }\n",
    "\n",
    "\n",
    "# grid_search_rf = GridSearchCV(estimator=rf_reg_gs, param_grid=param_grid, cv=3, verbose=2, n_jobs=-1, scoring='r2')\n",
    "\n",
    "# # Fitting the model with the training data\n",
    "# grid_search_rf.fit(X_train, y_train)\n",
    "\n",
    "\n",
    "# # Print the best hyperparameters\n",
    "# print(\"Best Hyperparameters:\", grid_search_rf.best_params_)"
   ]
  },
  {
   "cell_type": "code",
   "execution_count": 34,
   "id": "6f6b9b5f",
   "metadata": {
    "execution": {
     "iopub.execute_input": "2024-01-09T10:17:41.278849Z",
     "iopub.status.busy": "2024-01-09T10:17:41.278076Z",
     "iopub.status.idle": "2024-01-09T10:17:41.282910Z",
     "shell.execute_reply": "2024-01-09T10:17:41.281705Z"
    },
    "papermill": {
     "duration": 0.043589,
     "end_time": "2024-01-09T10:17:41.285536",
     "exception": false,
     "start_time": "2024-01-09T10:17:41.241947",
     "status": "completed"
    },
    "tags": []
   },
   "outputs": [],
   "source": [
    "# #PREDICTION\n",
    "\n",
    "# #R2 Score on X_test\n",
    "# y_pred_rf_gridSearch = grid_search_rf.predict(X_test)\n",
    "\n",
    "# r_squared = r2_score(y_test, y_pred)\n",
    "# print(f'R-squared (R2) Score from Random Forest Regressor using GridSearchCV: {r_squared}')"
   ]
  },
  {
   "attachments": {
    "01a0d2df-9f4e-438b-94ef-3aff5faf75b9.png": {
     "image/png": "[encoded data removed]"
    }
   },
   "cell_type": "markdown",
   "id": "3fb04f37",
   "metadata": {
    "papermill": {
     "duration": 0.034875,
     "end_time": "2024-01-09T10:17:41.356568",
     "exception": false,
     "start_time": "2024-01-09T10:17:41.321693",
     "status": "completed"
    },
    "tags": []
   },
   "source": [
    "**Prediction on Best Hyperparameter**\n",
    "![Screenshot 2023-11-14 183111.png](attachment:01a0d2df-9f4e-438b-94ef-3aff5faf75b9.png)"
   ]
  },
  {
   "cell_type": "code",
   "execution_count": 35,
   "id": "52c2425f",
   "metadata": {
    "execution": {
     "iopub.execute_input": "2024-01-09T10:17:41.432318Z",
     "iopub.status.busy": "2024-01-09T10:17:41.431906Z",
     "iopub.status.idle": "2024-01-09T10:21:07.656539Z",
     "shell.execute_reply": "2024-01-09T10:21:07.655486Z"
    },
    "papermill": {
     "duration": 206.301559,
     "end_time": "2024-01-09T10:21:07.694118",
     "exception": false,
     "start_time": "2024-01-09T10:17:41.392559",
     "status": "completed"
    },
    "tags": []
   },
   "outputs": [
    {
     "name": "stderr",
     "output_type": "stream",
     "text": [
      "/opt/conda/lib/python3.10/site-packages/sklearn/preprocessing/_encoders.py:868: FutureWarning: `sparse` was renamed to `sparse_output` in version 1.2 and will be removed in 1.4. `sparse_output` is ignored unless you leave `sparse` to its default value.\n",
      "  warnings.warn(\n",
      "/opt/conda/lib/python3.10/site-packages/sklearn/ensemble/_forest.py:413: FutureWarning: `max_features='auto'` has been deprecated in 1.1 and will be removed in 1.3. To keep the past behaviour, explicitly set `max_features=1.0` or remove this parameter as it is also the default value for RandomForestRegressors and ExtraTreesRegressors.\n",
      "  warn(\n"
     ]
    },
    {
     "data": {
      "text/html": [
       "<style>#sk-container-id-3 {color: black;background-color: white;}#sk-container-id-3 pre{padding: 0;}#sk-container-id-3 div.sk-toggleable {background-color: white;}#sk-container-id-3 label.sk-toggleable__label {cursor: pointer;display: block;width: 100%;margin-bottom: 0;padding: 0.3em;box-sizing: border-box;text-align: center;}#sk-container-id-3 label.sk-toggleable__label-arrow:before {content: \"▸\";float: left;margin-right: 0.25em;color: #696969;}#sk-container-id-3 label.sk-toggleable__label-arrow:hover:before {color: black;}#sk-container-id-3 div.sk-estimator:hover label.sk-toggleable__label-arrow:before {color: black;}#sk-container-id-3 div.sk-toggleable__content {max-height: 0;max-width: 0;overflow: hidden;text-align: left;background-color: #f0f8ff;}#sk-container-id-3 div.sk-toggleable__content pre {margin: 0.2em;color: black;border-radius: 0.25em;background-color: #f0f8ff;}#sk-container-id-3 input.sk-toggleable__control:checked~div.sk-toggleable__content {max-height: 200px;max-width: 100%;overflow: auto;}#sk-container-id-3 input.sk-toggleable__control:checked~label.sk-toggleable__label-arrow:before {content: \"▾\";}#sk-container-id-3 div.sk-estimator input.sk-toggleable__control:checked~label.sk-toggleable__label {background-color: #d4ebff;}#sk-container-id-3 div.sk-label input.sk-toggleable__control:checked~label.sk-toggleable__label {background-color: #d4ebff;}#sk-container-id-3 input.sk-hidden--visually {border: 0;clip: rect(1px 1px 1px 1px);clip: rect(1px, 1px, 1px, 1px);height: 1px;margin: -1px;overflow: hidden;padding: 0;position: absolute;width: 1px;}#sk-container-id-3 div.sk-estimator {font-family: monospace;background-color: #f0f8ff;border: 1px dotted black;border-radius: 0.25em;box-sizing: border-box;margin-bottom: 0.5em;}#sk-container-id-3 div.sk-estimator:hover {background-color: #d4ebff;}#sk-container-id-3 div.sk-parallel-item::after {content: \"\";width: 100%;border-bottom: 1px solid gray;flex-grow: 1;}#sk-container-id-3 div.sk-label:hover label.sk-toggleable__label {background-color: #d4ebff;}#sk-container-id-3 div.sk-serial::before {content: \"\";position: absolute;border-left: 1px solid gray;box-sizing: border-box;top: 0;bottom: 0;left: 50%;z-index: 0;}#sk-container-id-3 div.sk-serial {display: flex;flex-direction: column;align-items: center;background-color: white;padding-right: 0.2em;padding-left: 0.2em;position: relative;}#sk-container-id-3 div.sk-item {position: relative;z-index: 1;}#sk-container-id-3 div.sk-parallel {display: flex;align-items: stretch;justify-content: center;background-color: white;position: relative;}#sk-container-id-3 div.sk-item::before, #sk-container-id-3 div.sk-parallel-item::before {content: \"\";position: absolute;border-left: 1px solid gray;box-sizing: border-box;top: 0;bottom: 0;left: 50%;z-index: -1;}#sk-container-id-3 div.sk-parallel-item {display: flex;flex-direction: column;z-index: 1;position: relative;background-color: white;}#sk-container-id-3 div.sk-parallel-item:first-child::after {align-self: flex-end;width: 50%;}#sk-container-id-3 div.sk-parallel-item:last-child::after {align-self: flex-start;width: 50%;}#sk-container-id-3 div.sk-parallel-item:only-child::after {width: 0;}#sk-container-id-3 div.sk-dashed-wrapped {border: 1px dashed gray;margin: 0 0.4em 0.5em 0.4em;box-sizing: border-box;padding-bottom: 0.4em;background-color: white;}#sk-container-id-3 div.sk-label label {font-family: monospace;font-weight: bold;display: inline-block;line-height: 1.2em;}#sk-container-id-3 div.sk-label-container {text-align: center;}#sk-container-id-3 div.sk-container {/* jupyter's `normalize.less` sets `[hidden] { display: none; }` but bootstrap.min.css set `[hidden] { display: none !important; }` so we also need the `!important` here to be able to override the default hidden behavior on the sphinx rendered scikit-learn.org. See: https://github.com/scikit-learn/scikit-learn/issues/21755 */display: inline-block !important;position: relative;}#sk-container-id-3 div.sk-text-repr-fallback {display: none;}</style><div id=\"sk-container-id-3\" class=\"sk-top-container\"><div class=\"sk-text-repr-fallback\"><pre>Pipeline(steps=[(&#x27;preprocessor&#x27;,\n",
       "                 ColumnTransformer(transformers=[(&#x27;num&#x27;,\n",
       "                                                  Pipeline(steps=[(&#x27;imputer&#x27;,\n",
       "                                                                   SimpleImputer(strategy=&#x27;median&#x27;)),\n",
       "                                                                  (&#x27;scaler&#x27;,\n",
       "                                                                   StandardScaler())]),\n",
       "                                                  [&#x27;VendorID&#x27;,\n",
       "                                                   &#x27;passenger_count&#x27;,\n",
       "                                                   &#x27;trip_distance&#x27;,\n",
       "                                                   &#x27;RatecodeID&#x27;, &#x27;PULocationID&#x27;,\n",
       "                                                   &#x27;DOLocationID&#x27;, &#x27;extra&#x27;,\n",
       "                                                   &#x27;tip_amount&#x27;, &#x27;tolls_amount&#x27;,\n",
       "                                                   &#x27;improvement_surcharge&#x27;,\n",
       "                                                   &#x27;congestion_surcharge&#x27;,\n",
       "                                                   &#x27;Airport_fee&#x27;, &#x27;p...day&#x27;,\n",
       "                                                   &#x27;pickup_hour&#x27;,\n",
       "                                                   &#x27;trip_duration_minutes&#x27;]),\n",
       "                                                 (&#x27;cat&#x27;,\n",
       "                                                  Pipeline(steps=[(&#x27;imputer&#x27;,\n",
       "                                                                   SimpleImputer(strategy=&#x27;most_frequent&#x27;)),\n",
       "                                                                  (&#x27;onehot&#x27;,\n",
       "                                                                   OneHotEncoder(handle_unknown=&#x27;ignore&#x27;,\n",
       "                                                                                 sparse=False))]),\n",
       "                                                  [&#x27;store_and_fwd_flag&#x27;,\n",
       "                                                   &#x27;payment_type&#x27;])])),\n",
       "                (&#x27;regressor&#x27;,\n",
       "                 RandomForestRegressor(max_depth=20, max_features=&#x27;auto&#x27;,\n",
       "                                       min_samples_leaf=2, n_estimators=200,\n",
       "                                       random_state=48))])</pre><b>In a Jupyter environment, please rerun this cell to show the HTML representation or trust the notebook. <br />On GitHub, the HTML representation is unable to render, please try loading this page with nbviewer.org.</b></div><div class=\"sk-container\" hidden><div class=\"sk-item sk-dashed-wrapped\"><div class=\"sk-label-container\"><div class=\"sk-label sk-toggleable\"><input class=\"sk-toggleable__control sk-hidden--visually\" id=\"sk-estimator-id-19\" type=\"checkbox\" ><label for=\"sk-estimator-id-19\" class=\"sk-toggleable__label sk-toggleable__label-arrow\">Pipeline</label><div class=\"sk-toggleable__content\"><pre>Pipeline(steps=[(&#x27;preprocessor&#x27;,\n",
       "                 ColumnTransformer(transformers=[(&#x27;num&#x27;,\n",
       "                                                  Pipeline(steps=[(&#x27;imputer&#x27;,\n",
       "                                                                   SimpleImputer(strategy=&#x27;median&#x27;)),\n",
       "                                                                  (&#x27;scaler&#x27;,\n",
       "                                                                   StandardScaler())]),\n",
       "                                                  [&#x27;VendorID&#x27;,\n",
       "                                                   &#x27;passenger_count&#x27;,\n",
       "                                                   &#x27;trip_distance&#x27;,\n",
       "                                                   &#x27;RatecodeID&#x27;, &#x27;PULocationID&#x27;,\n",
       "                                                   &#x27;DOLocationID&#x27;, &#x27;extra&#x27;,\n",
       "                                                   &#x27;tip_amount&#x27;, &#x27;tolls_amount&#x27;,\n",
       "                                                   &#x27;improvement_surcharge&#x27;,\n",
       "                                                   &#x27;congestion_surcharge&#x27;,\n",
       "                                                   &#x27;Airport_fee&#x27;, &#x27;p...day&#x27;,\n",
       "                                                   &#x27;pickup_hour&#x27;,\n",
       "                                                   &#x27;trip_duration_minutes&#x27;]),\n",
       "                                                 (&#x27;cat&#x27;,\n",
       "                                                  Pipeline(steps=[(&#x27;imputer&#x27;,\n",
       "                                                                   SimpleImputer(strategy=&#x27;most_frequent&#x27;)),\n",
       "                                                                  (&#x27;onehot&#x27;,\n",
       "                                                                   OneHotEncoder(handle_unknown=&#x27;ignore&#x27;,\n",
       "                                                                                 sparse=False))]),\n",
       "                                                  [&#x27;store_and_fwd_flag&#x27;,\n",
       "                                                   &#x27;payment_type&#x27;])])),\n",
       "                (&#x27;regressor&#x27;,\n",
       "                 RandomForestRegressor(max_depth=20, max_features=&#x27;auto&#x27;,\n",
       "                                       min_samples_leaf=2, n_estimators=200,\n",
       "                                       random_state=48))])</pre></div></div></div><div class=\"sk-serial\"><div class=\"sk-item sk-dashed-wrapped\"><div class=\"sk-label-container\"><div class=\"sk-label sk-toggleable\"><input class=\"sk-toggleable__control sk-hidden--visually\" id=\"sk-estimator-id-20\" type=\"checkbox\" ><label for=\"sk-estimator-id-20\" class=\"sk-toggleable__label sk-toggleable__label-arrow\">preprocessor: ColumnTransformer</label><div class=\"sk-toggleable__content\"><pre>ColumnTransformer(transformers=[(&#x27;num&#x27;,\n",
       "                                 Pipeline(steps=[(&#x27;imputer&#x27;,\n",
       "                                                  SimpleImputer(strategy=&#x27;median&#x27;)),\n",
       "                                                 (&#x27;scaler&#x27;, StandardScaler())]),\n",
       "                                 [&#x27;VendorID&#x27;, &#x27;passenger_count&#x27;,\n",
       "                                  &#x27;trip_distance&#x27;, &#x27;RatecodeID&#x27;, &#x27;PULocationID&#x27;,\n",
       "                                  &#x27;DOLocationID&#x27;, &#x27;extra&#x27;, &#x27;tip_amount&#x27;,\n",
       "                                  &#x27;tolls_amount&#x27;, &#x27;improvement_surcharge&#x27;,\n",
       "                                  &#x27;congestion_surcharge&#x27;, &#x27;Airport_fee&#x27;,\n",
       "                                  &#x27;pickup_day&#x27;, &#x27;pickup_hour&#x27;,\n",
       "                                  &#x27;trip_duration_minutes&#x27;]),\n",
       "                                (&#x27;cat&#x27;,\n",
       "                                 Pipeline(steps=[(&#x27;imputer&#x27;,\n",
       "                                                  SimpleImputer(strategy=&#x27;most_frequent&#x27;)),\n",
       "                                                 (&#x27;onehot&#x27;,\n",
       "                                                  OneHotEncoder(handle_unknown=&#x27;ignore&#x27;,\n",
       "                                                                sparse=False))]),\n",
       "                                 [&#x27;store_and_fwd_flag&#x27;, &#x27;payment_type&#x27;])])</pre></div></div></div><div class=\"sk-parallel\"><div class=\"sk-parallel-item\"><div class=\"sk-item\"><div class=\"sk-label-container\"><div class=\"sk-label sk-toggleable\"><input class=\"sk-toggleable__control sk-hidden--visually\" id=\"sk-estimator-id-21\" type=\"checkbox\" ><label for=\"sk-estimator-id-21\" class=\"sk-toggleable__label sk-toggleable__label-arrow\">num</label><div class=\"sk-toggleable__content\"><pre>[&#x27;VendorID&#x27;, &#x27;passenger_count&#x27;, &#x27;trip_distance&#x27;, &#x27;RatecodeID&#x27;, &#x27;PULocationID&#x27;, &#x27;DOLocationID&#x27;, &#x27;extra&#x27;, &#x27;tip_amount&#x27;, &#x27;tolls_amount&#x27;, &#x27;improvement_surcharge&#x27;, &#x27;congestion_surcharge&#x27;, &#x27;Airport_fee&#x27;, &#x27;pickup_day&#x27;, &#x27;pickup_hour&#x27;, &#x27;trip_duration_minutes&#x27;]</pre></div></div></div><div class=\"sk-serial\"><div class=\"sk-item\"><div class=\"sk-serial\"><div class=\"sk-item\"><div class=\"sk-estimator sk-toggleable\"><input class=\"sk-toggleable__control sk-hidden--visually\" id=\"sk-estimator-id-22\" type=\"checkbox\" ><label for=\"sk-estimator-id-22\" class=\"sk-toggleable__label sk-toggleable__label-arrow\">SimpleImputer</label><div class=\"sk-toggleable__content\"><pre>SimpleImputer(strategy=&#x27;median&#x27;)</pre></div></div></div><div class=\"sk-item\"><div class=\"sk-estimator sk-toggleable\"><input class=\"sk-toggleable__control sk-hidden--visually\" id=\"sk-estimator-id-23\" type=\"checkbox\" ><label for=\"sk-estimator-id-23\" class=\"sk-toggleable__label sk-toggleable__label-arrow\">StandardScaler</label><div class=\"sk-toggleable__content\"><pre>StandardScaler()</pre></div></div></div></div></div></div></div></div><div class=\"sk-parallel-item\"><div class=\"sk-item\"><div class=\"sk-label-container\"><div class=\"sk-label sk-toggleable\"><input class=\"sk-toggleable__control sk-hidden--visually\" id=\"sk-estimator-id-24\" type=\"checkbox\" ><label for=\"sk-estimator-id-24\" class=\"sk-toggleable__label sk-toggleable__label-arrow\">cat</label><div class=\"sk-toggleable__content\"><pre>[&#x27;store_and_fwd_flag&#x27;, &#x27;payment_type&#x27;]</pre></div></div></div><div class=\"sk-serial\"><div class=\"sk-item\"><div class=\"sk-serial\"><div class=\"sk-item\"><div class=\"sk-estimator sk-toggleable\"><input class=\"sk-toggleable__control sk-hidden--visually\" id=\"sk-estimator-id-25\" type=\"checkbox\" ><label for=\"sk-estimator-id-25\" class=\"sk-toggleable__label sk-toggleable__label-arrow\">SimpleImputer</label><div class=\"sk-toggleable__content\"><pre>SimpleImputer(strategy=&#x27;most_frequent&#x27;)</pre></div></div></div><div class=\"sk-item\"><div class=\"sk-estimator sk-toggleable\"><input class=\"sk-toggleable__control sk-hidden--visually\" id=\"sk-estimator-id-26\" type=\"checkbox\" ><label for=\"sk-estimator-id-26\" class=\"sk-toggleable__label sk-toggleable__label-arrow\">OneHotEncoder</label><div class=\"sk-toggleable__content\"><pre>OneHotEncoder(handle_unknown=&#x27;ignore&#x27;, sparse=False)</pre></div></div></div></div></div></div></div></div></div></div><div class=\"sk-item\"><div class=\"sk-estimator sk-toggleable\"><input class=\"sk-toggleable__control sk-hidden--visually\" id=\"sk-estimator-id-27\" type=\"checkbox\" ><label for=\"sk-estimator-id-27\" class=\"sk-toggleable__label sk-toggleable__label-arrow\">RandomForestRegressor</label><div class=\"sk-toggleable__content\"><pre>RandomForestRegressor(max_depth=20, max_features=&#x27;auto&#x27;, min_samples_leaf=2,\n",
       "                      n_estimators=200, random_state=48)</pre></div></div></div></div></div></div></div>"
      ],
      "text/plain": [
       "Pipeline(steps=[('preprocessor',\n",
       "                 ColumnTransformer(transformers=[('num',\n",
       "                                                  Pipeline(steps=[('imputer',\n",
       "                                                                   SimpleImputer(strategy='median')),\n",
       "                                                                  ('scaler',\n",
       "                                                                   StandardScaler())]),\n",
       "                                                  ['VendorID',\n",
       "                                                   'passenger_count',\n",
       "                                                   'trip_distance',\n",
       "                                                   'RatecodeID', 'PULocationID',\n",
       "                                                   'DOLocationID', 'extra',\n",
       "                                                   'tip_amount', 'tolls_amount',\n",
       "                                                   'improvement_surcharge',\n",
       "                                                   'congestion_surcharge',\n",
       "                                                   'Airport_fee', 'p...day',\n",
       "                                                   'pickup_hour',\n",
       "                                                   'trip_duration_minutes']),\n",
       "                                                 ('cat',\n",
       "                                                  Pipeline(steps=[('imputer',\n",
       "                                                                   SimpleImputer(strategy='most_frequent')),\n",
       "                                                                  ('onehot',\n",
       "                                                                   OneHotEncoder(handle_unknown='ignore',\n",
       "                                                                                 sparse=False))]),\n",
       "                                                  ['store_and_fwd_flag',\n",
       "                                                   'payment_type'])])),\n",
       "                ('regressor',\n",
       "                 RandomForestRegressor(max_depth=20, max_features='auto',\n",
       "                                       min_samples_leaf=2, n_estimators=200,\n",
       "                                       random_state=48))])"
      ]
     },
     "execution_count": 35,
     "metadata": {},
     "output_type": "execute_result"
    }
   ],
   "source": [
    "#Prediction on best RandomForest Model\n",
    "\n",
    "best_random_forest = Pipeline(steps=[('preprocessor', preprocessor),\n",
    "                                     ('regressor', RandomForestRegressor(max_features = 'auto', max_depth = 20, min_samples_leaf = 2,\n",
    "                                                                         min_samples_split = 2, n_estimators = 200, random_state=48))])\n",
    "\n",
    "best_random_forest.fit(X_train, y_train)"
   ]
  },
  {
   "cell_type": "code",
   "execution_count": 36,
   "id": "602f36c7",
   "metadata": {
    "execution": {
     "iopub.execute_input": "2024-01-09T10:21:07.765723Z",
     "iopub.status.busy": "2024-01-09T10:21:07.765348Z",
     "iopub.status.idle": "2024-01-09T10:21:09.520186Z",
     "shell.execute_reply": "2024-01-09T10:21:09.518855Z"
    },
    "papermill": {
     "duration": 1.793832,
     "end_time": "2024-01-09T10:21:09.522694",
     "exception": false,
     "start_time": "2024-01-09T10:21:07.728862",
     "status": "completed"
    },
    "tags": []
   },
   "outputs": [
    {
     "name": "stdout",
     "output_type": "stream",
     "text": [
      "R-squared (R2) Score from Best Random Forest Regressor: 0.949011133974517\n"
     ]
    }
   ],
   "source": [
    "#Prediction on Best RandomForest Using GSCV\n",
    "\n",
    "best_y_pred_rf = best_random_forest.predict(X_test)\n",
    "\n",
    "r_squared = r2_score(y_test, best_y_pred_rf)\n",
    "print(f'R-squared (R2) Score from Best Random Forest Regressor: {r_squared}')"
   ]
  },
  {
   "cell_type": "markdown",
   "id": "8f7ec4a1",
   "metadata": {
    "papermill": {
     "duration": 0.036814,
     "end_time": "2024-01-09T10:21:09.596660",
     "exception": false,
     "start_time": "2024-01-09T10:21:09.559846",
     "status": "completed"
    },
    "tags": []
   },
   "source": [
    "**Model 3. Support Vector Regressor**"
   ]
  },
  {
   "cell_type": "code",
   "execution_count": 37,
   "id": "10759620",
   "metadata": {
    "execution": {
     "iopub.execute_input": "2024-01-09T10:21:09.670552Z",
     "iopub.status.busy": "2024-01-09T10:21:09.670179Z",
     "iopub.status.idle": "2024-01-09T10:40:13.178029Z",
     "shell.execute_reply": "2024-01-09T10:40:13.176963Z"
    },
    "papermill": {
     "duration": 1143.585158,
     "end_time": "2024-01-09T10:40:13.218322",
     "exception": false,
     "start_time": "2024-01-09T10:21:09.633164",
     "status": "completed"
    },
    "tags": []
   },
   "outputs": [
    {
     "name": "stderr",
     "output_type": "stream",
     "text": [
      "/opt/conda/lib/python3.10/site-packages/sklearn/preprocessing/_encoders.py:868: FutureWarning: `sparse` was renamed to `sparse_output` in version 1.2 and will be removed in 1.4. `sparse_output` is ignored unless you leave `sparse` to its default value.\n",
      "  warnings.warn(\n"
     ]
    },
    {
     "data": {
      "text/html": [
       "<style>#sk-container-id-4 {color: black;background-color: white;}#sk-container-id-4 pre{padding: 0;}#sk-container-id-4 div.sk-toggleable {background-color: white;}#sk-container-id-4 label.sk-toggleable__label {cursor: pointer;display: block;width: 100%;margin-bottom: 0;padding: 0.3em;box-sizing: border-box;text-align: center;}#sk-container-id-4 label.sk-toggleable__label-arrow:before {content: \"▸\";float: left;margin-right: 0.25em;color: #696969;}#sk-container-id-4 label.sk-toggleable__label-arrow:hover:before {color: black;}#sk-container-id-4 div.sk-estimator:hover label.sk-toggleable__label-arrow:before {color: black;}#sk-container-id-4 div.sk-toggleable__content {max-height: 0;max-width: 0;overflow: hidden;text-align: left;background-color: #f0f8ff;}#sk-container-id-4 div.sk-toggleable__content pre {margin: 0.2em;color: black;border-radius: 0.25em;background-color: #f0f8ff;}#sk-container-id-4 input.sk-toggleable__control:checked~div.sk-toggleable__content {max-height: 200px;max-width: 100%;overflow: auto;}#sk-container-id-4 input.sk-toggleable__control:checked~label.sk-toggleable__label-arrow:before {content: \"▾\";}#sk-container-id-4 div.sk-estimator input.sk-toggleable__control:checked~label.sk-toggleable__label {background-color: #d4ebff;}#sk-container-id-4 div.sk-label input.sk-toggleable__control:checked~label.sk-toggleable__label {background-color: #d4ebff;}#sk-container-id-4 input.sk-hidden--visually {border: 0;clip: rect(1px 1px 1px 1px);clip: rect(1px, 1px, 1px, 1px);height: 1px;margin: -1px;overflow: hidden;padding: 0;position: absolute;width: 1px;}#sk-container-id-4 div.sk-estimator {font-family: monospace;background-color: #f0f8ff;border: 1px dotted black;border-radius: 0.25em;box-sizing: border-box;margin-bottom: 0.5em;}#sk-container-id-4 div.sk-estimator:hover {background-color: #d4ebff;}#sk-container-id-4 div.sk-parallel-item::after {content: \"\";width: 100%;border-bottom: 1px solid gray;flex-grow: 1;}#sk-container-id-4 div.sk-label:hover label.sk-toggleable__label {background-color: #d4ebff;}#sk-container-id-4 div.sk-serial::before {content: \"\";position: absolute;border-left: 1px solid gray;box-sizing: border-box;top: 0;bottom: 0;left: 50%;z-index: 0;}#sk-container-id-4 div.sk-serial {display: flex;flex-direction: column;align-items: center;background-color: white;padding-right: 0.2em;padding-left: 0.2em;position: relative;}#sk-container-id-4 div.sk-item {position: relative;z-index: 1;}#sk-container-id-4 div.sk-parallel {display: flex;align-items: stretch;justify-content: center;background-color: white;position: relative;}#sk-container-id-4 div.sk-item::before, #sk-container-id-4 div.sk-parallel-item::before {content: \"\";position: absolute;border-left: 1px solid gray;box-sizing: border-box;top: 0;bottom: 0;left: 50%;z-index: -1;}#sk-container-id-4 div.sk-parallel-item {display: flex;flex-direction: column;z-index: 1;position: relative;background-color: white;}#sk-container-id-4 div.sk-parallel-item:first-child::after {align-self: flex-end;width: 50%;}#sk-container-id-4 div.sk-parallel-item:last-child::after {align-self: flex-start;width: 50%;}#sk-container-id-4 div.sk-parallel-item:only-child::after {width: 0;}#sk-container-id-4 div.sk-dashed-wrapped {border: 1px dashed gray;margin: 0 0.4em 0.5em 0.4em;box-sizing: border-box;padding-bottom: 0.4em;background-color: white;}#sk-container-id-4 div.sk-label label {font-family: monospace;font-weight: bold;display: inline-block;line-height: 1.2em;}#sk-container-id-4 div.sk-label-container {text-align: center;}#sk-container-id-4 div.sk-container {/* jupyter's `normalize.less` sets `[hidden] { display: none; }` but bootstrap.min.css set `[hidden] { display: none !important; }` so we also need the `!important` here to be able to override the default hidden behavior on the sphinx rendered scikit-learn.org. See: https://github.com/scikit-learn/scikit-learn/issues/21755 */display: inline-block !important;position: relative;}#sk-container-id-4 div.sk-text-repr-fallback {display: none;}</style><div id=\"sk-container-id-4\" class=\"sk-top-container\"><div class=\"sk-text-repr-fallback\"><pre>Pipeline(steps=[(&#x27;preprocessor&#x27;,\n",
       "                 ColumnTransformer(transformers=[(&#x27;num&#x27;,\n",
       "                                                  Pipeline(steps=[(&#x27;imputer&#x27;,\n",
       "                                                                   SimpleImputer(strategy=&#x27;median&#x27;)),\n",
       "                                                                  (&#x27;scaler&#x27;,\n",
       "                                                                   StandardScaler())]),\n",
       "                                                  [&#x27;VendorID&#x27;,\n",
       "                                                   &#x27;passenger_count&#x27;,\n",
       "                                                   &#x27;trip_distance&#x27;,\n",
       "                                                   &#x27;RatecodeID&#x27;, &#x27;PULocationID&#x27;,\n",
       "                                                   &#x27;DOLocationID&#x27;, &#x27;extra&#x27;,\n",
       "                                                   &#x27;tip_amount&#x27;, &#x27;tolls_amount&#x27;,\n",
       "                                                   &#x27;improvement_surcharge&#x27;,\n",
       "                                                   &#x27;congestion_surcharge&#x27;,\n",
       "                                                   &#x27;Airport_fee&#x27;, &#x27;pickup_day&#x27;,\n",
       "                                                   &#x27;pickup_hour&#x27;,\n",
       "                                                   &#x27;trip_duration_minutes&#x27;]),\n",
       "                                                 (&#x27;cat&#x27;,\n",
       "                                                  Pipeline(steps=[(&#x27;imputer&#x27;,\n",
       "                                                                   SimpleImputer(strategy=&#x27;most_frequent&#x27;)),\n",
       "                                                                  (&#x27;onehot&#x27;,\n",
       "                                                                   OneHotEncoder(handle_unknown=&#x27;ignore&#x27;,\n",
       "                                                                                 sparse=False))]),\n",
       "                                                  [&#x27;store_and_fwd_flag&#x27;,\n",
       "                                                   &#x27;payment_type&#x27;])])),\n",
       "                (&#x27;regressor&#x27;, SVR())])</pre><b>In a Jupyter environment, please rerun this cell to show the HTML representation or trust the notebook. <br />On GitHub, the HTML representation is unable to render, please try loading this page with nbviewer.org.</b></div><div class=\"sk-container\" hidden><div class=\"sk-item sk-dashed-wrapped\"><div class=\"sk-label-container\"><div class=\"sk-label sk-toggleable\"><input class=\"sk-toggleable__control sk-hidden--visually\" id=\"sk-estimator-id-28\" type=\"checkbox\" ><label for=\"sk-estimator-id-28\" class=\"sk-toggleable__label sk-toggleable__label-arrow\">Pipeline</label><div class=\"sk-toggleable__content\"><pre>Pipeline(steps=[(&#x27;preprocessor&#x27;,\n",
       "                 ColumnTransformer(transformers=[(&#x27;num&#x27;,\n",
       "                                                  Pipeline(steps=[(&#x27;imputer&#x27;,\n",
       "                                                                   SimpleImputer(strategy=&#x27;median&#x27;)),\n",
       "                                                                  (&#x27;scaler&#x27;,\n",
       "                                                                   StandardScaler())]),\n",
       "                                                  [&#x27;VendorID&#x27;,\n",
       "                                                   &#x27;passenger_count&#x27;,\n",
       "                                                   &#x27;trip_distance&#x27;,\n",
       "                                                   &#x27;RatecodeID&#x27;, &#x27;PULocationID&#x27;,\n",
       "                                                   &#x27;DOLocationID&#x27;, &#x27;extra&#x27;,\n",
       "                                                   &#x27;tip_amount&#x27;, &#x27;tolls_amount&#x27;,\n",
       "                                                   &#x27;improvement_surcharge&#x27;,\n",
       "                                                   &#x27;congestion_surcharge&#x27;,\n",
       "                                                   &#x27;Airport_fee&#x27;, &#x27;pickup_day&#x27;,\n",
       "                                                   &#x27;pickup_hour&#x27;,\n",
       "                                                   &#x27;trip_duration_minutes&#x27;]),\n",
       "                                                 (&#x27;cat&#x27;,\n",
       "                                                  Pipeline(steps=[(&#x27;imputer&#x27;,\n",
       "                                                                   SimpleImputer(strategy=&#x27;most_frequent&#x27;)),\n",
       "                                                                  (&#x27;onehot&#x27;,\n",
       "                                                                   OneHotEncoder(handle_unknown=&#x27;ignore&#x27;,\n",
       "                                                                                 sparse=False))]),\n",
       "                                                  [&#x27;store_and_fwd_flag&#x27;,\n",
       "                                                   &#x27;payment_type&#x27;])])),\n",
       "                (&#x27;regressor&#x27;, SVR())])</pre></div></div></div><div class=\"sk-serial\"><div class=\"sk-item sk-dashed-wrapped\"><div class=\"sk-label-container\"><div class=\"sk-label sk-toggleable\"><input class=\"sk-toggleable__control sk-hidden--visually\" id=\"sk-estimator-id-29\" type=\"checkbox\" ><label for=\"sk-estimator-id-29\" class=\"sk-toggleable__label sk-toggleable__label-arrow\">preprocessor: ColumnTransformer</label><div class=\"sk-toggleable__content\"><pre>ColumnTransformer(transformers=[(&#x27;num&#x27;,\n",
       "                                 Pipeline(steps=[(&#x27;imputer&#x27;,\n",
       "                                                  SimpleImputer(strategy=&#x27;median&#x27;)),\n",
       "                                                 (&#x27;scaler&#x27;, StandardScaler())]),\n",
       "                                 [&#x27;VendorID&#x27;, &#x27;passenger_count&#x27;,\n",
       "                                  &#x27;trip_distance&#x27;, &#x27;RatecodeID&#x27;, &#x27;PULocationID&#x27;,\n",
       "                                  &#x27;DOLocationID&#x27;, &#x27;extra&#x27;, &#x27;tip_amount&#x27;,\n",
       "                                  &#x27;tolls_amount&#x27;, &#x27;improvement_surcharge&#x27;,\n",
       "                                  &#x27;congestion_surcharge&#x27;, &#x27;Airport_fee&#x27;,\n",
       "                                  &#x27;pickup_day&#x27;, &#x27;pickup_hour&#x27;,\n",
       "                                  &#x27;trip_duration_minutes&#x27;]),\n",
       "                                (&#x27;cat&#x27;,\n",
       "                                 Pipeline(steps=[(&#x27;imputer&#x27;,\n",
       "                                                  SimpleImputer(strategy=&#x27;most_frequent&#x27;)),\n",
       "                                                 (&#x27;onehot&#x27;,\n",
       "                                                  OneHotEncoder(handle_unknown=&#x27;ignore&#x27;,\n",
       "                                                                sparse=False))]),\n",
       "                                 [&#x27;store_and_fwd_flag&#x27;, &#x27;payment_type&#x27;])])</pre></div></div></div><div class=\"sk-parallel\"><div class=\"sk-parallel-item\"><div class=\"sk-item\"><div class=\"sk-label-container\"><div class=\"sk-label sk-toggleable\"><input class=\"sk-toggleable__control sk-hidden--visually\" id=\"sk-estimator-id-30\" type=\"checkbox\" ><label for=\"sk-estimator-id-30\" class=\"sk-toggleable__label sk-toggleable__label-arrow\">num</label><div class=\"sk-toggleable__content\"><pre>[&#x27;VendorID&#x27;, &#x27;passenger_count&#x27;, &#x27;trip_distance&#x27;, &#x27;RatecodeID&#x27;, &#x27;PULocationID&#x27;, &#x27;DOLocationID&#x27;, &#x27;extra&#x27;, &#x27;tip_amount&#x27;, &#x27;tolls_amount&#x27;, &#x27;improvement_surcharge&#x27;, &#x27;congestion_surcharge&#x27;, &#x27;Airport_fee&#x27;, &#x27;pickup_day&#x27;, &#x27;pickup_hour&#x27;, &#x27;trip_duration_minutes&#x27;]</pre></div></div></div><div class=\"sk-serial\"><div class=\"sk-item\"><div class=\"sk-serial\"><div class=\"sk-item\"><div class=\"sk-estimator sk-toggleable\"><input class=\"sk-toggleable__control sk-hidden--visually\" id=\"sk-estimator-id-31\" type=\"checkbox\" ><label for=\"sk-estimator-id-31\" class=\"sk-toggleable__label sk-toggleable__label-arrow\">SimpleImputer</label><div class=\"sk-toggleable__content\"><pre>SimpleImputer(strategy=&#x27;median&#x27;)</pre></div></div></div><div class=\"sk-item\"><div class=\"sk-estimator sk-toggleable\"><input class=\"sk-toggleable__control sk-hidden--visually\" id=\"sk-estimator-id-32\" type=\"checkbox\" ><label for=\"sk-estimator-id-32\" class=\"sk-toggleable__label sk-toggleable__label-arrow\">StandardScaler</label><div class=\"sk-toggleable__content\"><pre>StandardScaler()</pre></div></div></div></div></div></div></div></div><div class=\"sk-parallel-item\"><div class=\"sk-item\"><div class=\"sk-label-container\"><div class=\"sk-label sk-toggleable\"><input class=\"sk-toggleable__control sk-hidden--visually\" id=\"sk-estimator-id-33\" type=\"checkbox\" ><label for=\"sk-estimator-id-33\" class=\"sk-toggleable__label sk-toggleable__label-arrow\">cat</label><div class=\"sk-toggleable__content\"><pre>[&#x27;store_and_fwd_flag&#x27;, &#x27;payment_type&#x27;]</pre></div></div></div><div class=\"sk-serial\"><div class=\"sk-item\"><div class=\"sk-serial\"><div class=\"sk-item\"><div class=\"sk-estimator sk-toggleable\"><input class=\"sk-toggleable__control sk-hidden--visually\" id=\"sk-estimator-id-34\" type=\"checkbox\" ><label for=\"sk-estimator-id-34\" class=\"sk-toggleable__label sk-toggleable__label-arrow\">SimpleImputer</label><div class=\"sk-toggleable__content\"><pre>SimpleImputer(strategy=&#x27;most_frequent&#x27;)</pre></div></div></div><div class=\"sk-item\"><div class=\"sk-estimator sk-toggleable\"><input class=\"sk-toggleable__control sk-hidden--visually\" id=\"sk-estimator-id-35\" type=\"checkbox\" ><label for=\"sk-estimator-id-35\" class=\"sk-toggleable__label sk-toggleable__label-arrow\">OneHotEncoder</label><div class=\"sk-toggleable__content\"><pre>OneHotEncoder(handle_unknown=&#x27;ignore&#x27;, sparse=False)</pre></div></div></div></div></div></div></div></div></div></div><div class=\"sk-item\"><div class=\"sk-estimator sk-toggleable\"><input class=\"sk-toggleable__control sk-hidden--visually\" id=\"sk-estimator-id-36\" type=\"checkbox\" ><label for=\"sk-estimator-id-36\" class=\"sk-toggleable__label sk-toggleable__label-arrow\">SVR</label><div class=\"sk-toggleable__content\"><pre>SVR()</pre></div></div></div></div></div></div></div>"
      ],
      "text/plain": [
       "Pipeline(steps=[('preprocessor',\n",
       "                 ColumnTransformer(transformers=[('num',\n",
       "                                                  Pipeline(steps=[('imputer',\n",
       "                                                                   SimpleImputer(strategy='median')),\n",
       "                                                                  ('scaler',\n",
       "                                                                   StandardScaler())]),\n",
       "                                                  ['VendorID',\n",
       "                                                   'passenger_count',\n",
       "                                                   'trip_distance',\n",
       "                                                   'RatecodeID', 'PULocationID',\n",
       "                                                   'DOLocationID', 'extra',\n",
       "                                                   'tip_amount', 'tolls_amount',\n",
       "                                                   'improvement_surcharge',\n",
       "                                                   'congestion_surcharge',\n",
       "                                                   'Airport_fee', 'pickup_day',\n",
       "                                                   'pickup_hour',\n",
       "                                                   'trip_duration_minutes']),\n",
       "                                                 ('cat',\n",
       "                                                  Pipeline(steps=[('imputer',\n",
       "                                                                   SimpleImputer(strategy='most_frequent')),\n",
       "                                                                  ('onehot',\n",
       "                                                                   OneHotEncoder(handle_unknown='ignore',\n",
       "                                                                                 sparse=False))]),\n",
       "                                                  ['store_and_fwd_flag',\n",
       "                                                   'payment_type'])])),\n",
       "                ('regressor', SVR())])"
      ]
     },
     "execution_count": 37,
     "metadata": {},
     "output_type": "execute_result"
    }
   ],
   "source": [
    "# Support Vector Regressor\n",
    "sv_reg = Pipeline(steps=[('preprocessor', preprocessor),\n",
    "                            ('regressor', SVR())])\n",
    "# Fitting the model\n",
    "sv_reg.fit(X_train, y_train)"
   ]
  },
  {
   "cell_type": "code",
   "execution_count": 38,
   "id": "88a59e0d",
   "metadata": {
    "execution": {
     "iopub.execute_input": "2024-01-09T10:40:13.295587Z",
     "iopub.status.busy": "2024-01-09T10:40:13.295180Z",
     "iopub.status.idle": "2024-01-09T10:45:16.123009Z",
     "shell.execute_reply": "2024-01-09T10:45:16.121942Z"
    },
    "papermill": {
     "duration": 302.905336,
     "end_time": "2024-01-09T10:45:16.161342",
     "exception": false,
     "start_time": "2024-01-09T10:40:13.256006",
     "status": "completed"
    },
    "tags": []
   },
   "outputs": [
    {
     "name": "stdout",
     "output_type": "stream",
     "text": [
      "R-squared (R2) Score from Support Vector Regressor: 0.7446855285963394\n"
     ]
    }
   ],
   "source": [
    "#R2 Score on X_test\n",
    "y_pred = sv_reg.predict(X_test)\n",
    "\n",
    "r_squared = r2_score(y_test, y_pred)\n",
    "print(f'R-squared (R2) Score from Support Vector Regressor: {r_squared}')"
   ]
  },
  {
   "cell_type": "markdown",
   "id": "65acc20f",
   "metadata": {
    "papermill": {
     "duration": 0.036028,
     "end_time": "2024-01-09T10:45:16.234309",
     "exception": false,
     "start_time": "2024-01-09T10:45:16.198281",
     "status": "completed"
    },
    "tags": []
   },
   "source": [
    "**Model 4. Lasso Regressor**"
   ]
  },
  {
   "cell_type": "code",
   "execution_count": 39,
   "id": "bcd767ed",
   "metadata": {
    "execution": {
     "iopub.execute_input": "2024-01-09T10:45:16.309242Z",
     "iopub.status.busy": "2024-01-09T10:45:16.308823Z",
     "iopub.status.idle": "2024-01-09T10:45:17.027389Z",
     "shell.execute_reply": "2024-01-09T10:45:17.026261Z"
    },
    "papermill": {
     "duration": 0.759307,
     "end_time": "2024-01-09T10:45:17.029744",
     "exception": false,
     "start_time": "2024-01-09T10:45:16.270437",
     "status": "completed"
    },
    "tags": []
   },
   "outputs": [
    {
     "name": "stderr",
     "output_type": "stream",
     "text": [
      "/opt/conda/lib/python3.10/site-packages/sklearn/preprocessing/_encoders.py:868: FutureWarning: `sparse` was renamed to `sparse_output` in version 1.2 and will be removed in 1.4. `sparse_output` is ignored unless you leave `sparse` to its default value.\n",
      "  warnings.warn(\n"
     ]
    },
    {
     "data": {
      "text/html": [
       "<style>#sk-container-id-5 {color: black;background-color: white;}#sk-container-id-5 pre{padding: 0;}#sk-container-id-5 div.sk-toggleable {background-color: white;}#sk-container-id-5 label.sk-toggleable__label {cursor: pointer;display: block;width: 100%;margin-bottom: 0;padding: 0.3em;box-sizing: border-box;text-align: center;}#sk-container-id-5 label.sk-toggleable__label-arrow:before {content: \"▸\";float: left;margin-right: 0.25em;color: #696969;}#sk-container-id-5 label.sk-toggleable__label-arrow:hover:before {color: black;}#sk-container-id-5 div.sk-estimator:hover label.sk-toggleable__label-arrow:before {color: black;}#sk-container-id-5 div.sk-toggleable__content {max-height: 0;max-width: 0;overflow: hidden;text-align: left;background-color: #f0f8ff;}#sk-container-id-5 div.sk-toggleable__content pre {margin: 0.2em;color: black;border-radius: 0.25em;background-color: #f0f8ff;}#sk-container-id-5 input.sk-toggleable__control:checked~div.sk-toggleable__content {max-height: 200px;max-width: 100%;overflow: auto;}#sk-container-id-5 input.sk-toggleable__control:checked~label.sk-toggleable__label-arrow:before {content: \"▾\";}#sk-container-id-5 div.sk-estimator input.sk-toggleable__control:checked~label.sk-toggleable__label {background-color: #d4ebff;}#sk-container-id-5 div.sk-label input.sk-toggleable__control:checked~label.sk-toggleable__label {background-color: #d4ebff;}#sk-container-id-5 input.sk-hidden--visually {border: 0;clip: rect(1px 1px 1px 1px);clip: rect(1px, 1px, 1px, 1px);height: 1px;margin: -1px;overflow: hidden;padding: 0;position: absolute;width: 1px;}#sk-container-id-5 div.sk-estimator {font-family: monospace;background-color: #f0f8ff;border: 1px dotted black;border-radius: 0.25em;box-sizing: border-box;margin-bottom: 0.5em;}#sk-container-id-5 div.sk-estimator:hover {background-color: #d4ebff;}#sk-container-id-5 div.sk-parallel-item::after {content: \"\";width: 100%;border-bottom: 1px solid gray;flex-grow: 1;}#sk-container-id-5 div.sk-label:hover label.sk-toggleable__label {background-color: #d4ebff;}#sk-container-id-5 div.sk-serial::before {content: \"\";position: absolute;border-left: 1px solid gray;box-sizing: border-box;top: 0;bottom: 0;left: 50%;z-index: 0;}#sk-container-id-5 div.sk-serial {display: flex;flex-direction: column;align-items: center;background-color: white;padding-right: 0.2em;padding-left: 0.2em;position: relative;}#sk-container-id-5 div.sk-item {position: relative;z-index: 1;}#sk-container-id-5 div.sk-parallel {display: flex;align-items: stretch;justify-content: center;background-color: white;position: relative;}#sk-container-id-5 div.sk-item::before, #sk-container-id-5 div.sk-parallel-item::before {content: \"\";position: absolute;border-left: 1px solid gray;box-sizing: border-box;top: 0;bottom: 0;left: 50%;z-index: -1;}#sk-container-id-5 div.sk-parallel-item {display: flex;flex-direction: column;z-index: 1;position: relative;background-color: white;}#sk-container-id-5 div.sk-parallel-item:first-child::after {align-self: flex-end;width: 50%;}#sk-container-id-5 div.sk-parallel-item:last-child::after {align-self: flex-start;width: 50%;}#sk-container-id-5 div.sk-parallel-item:only-child::after {width: 0;}#sk-container-id-5 div.sk-dashed-wrapped {border: 1px dashed gray;margin: 0 0.4em 0.5em 0.4em;box-sizing: border-box;padding-bottom: 0.4em;background-color: white;}#sk-container-id-5 div.sk-label label {font-family: monospace;font-weight: bold;display: inline-block;line-height: 1.2em;}#sk-container-id-5 div.sk-label-container {text-align: center;}#sk-container-id-5 div.sk-container {/* jupyter's `normalize.less` sets `[hidden] { display: none; }` but bootstrap.min.css set `[hidden] { display: none !important; }` so we also need the `!important` here to be able to override the default hidden behavior on the sphinx rendered scikit-learn.org. See: https://github.com/scikit-learn/scikit-learn/issues/21755 */display: inline-block !important;position: relative;}#sk-container-id-5 div.sk-text-repr-fallback {display: none;}</style><div id=\"sk-container-id-5\" class=\"sk-top-container\"><div class=\"sk-text-repr-fallback\"><pre>Pipeline(steps=[(&#x27;preprocessor&#x27;,\n",
       "                 ColumnTransformer(transformers=[(&#x27;num&#x27;,\n",
       "                                                  Pipeline(steps=[(&#x27;imputer&#x27;,\n",
       "                                                                   SimpleImputer(strategy=&#x27;median&#x27;)),\n",
       "                                                                  (&#x27;scaler&#x27;,\n",
       "                                                                   StandardScaler())]),\n",
       "                                                  [&#x27;VendorID&#x27;,\n",
       "                                                   &#x27;passenger_count&#x27;,\n",
       "                                                   &#x27;trip_distance&#x27;,\n",
       "                                                   &#x27;RatecodeID&#x27;, &#x27;PULocationID&#x27;,\n",
       "                                                   &#x27;DOLocationID&#x27;, &#x27;extra&#x27;,\n",
       "                                                   &#x27;tip_amount&#x27;, &#x27;tolls_amount&#x27;,\n",
       "                                                   &#x27;improvement_surcharge&#x27;,\n",
       "                                                   &#x27;congestion_surcharge&#x27;,\n",
       "                                                   &#x27;Airport_fee&#x27;, &#x27;pickup_day&#x27;,\n",
       "                                                   &#x27;pickup_hour&#x27;,\n",
       "                                                   &#x27;trip_duration_minutes&#x27;]),\n",
       "                                                 (&#x27;cat&#x27;,\n",
       "                                                  Pipeline(steps=[(&#x27;imputer&#x27;,\n",
       "                                                                   SimpleImputer(strategy=&#x27;most_frequent&#x27;)),\n",
       "                                                                  (&#x27;onehot&#x27;,\n",
       "                                                                   OneHotEncoder(handle_unknown=&#x27;ignore&#x27;,\n",
       "                                                                                 sparse=False))]),\n",
       "                                                  [&#x27;store_and_fwd_flag&#x27;,\n",
       "                                                   &#x27;payment_type&#x27;])])),\n",
       "                (&#x27;regressor&#x27;, Lasso())])</pre><b>In a Jupyter environment, please rerun this cell to show the HTML representation or trust the notebook. <br />On GitHub, the HTML representation is unable to render, please try loading this page with nbviewer.org.</b></div><div class=\"sk-container\" hidden><div class=\"sk-item sk-dashed-wrapped\"><div class=\"sk-label-container\"><div class=\"sk-label sk-toggleable\"><input class=\"sk-toggleable__control sk-hidden--visually\" id=\"sk-estimator-id-37\" type=\"checkbox\" ><label for=\"sk-estimator-id-37\" class=\"sk-toggleable__label sk-toggleable__label-arrow\">Pipeline</label><div class=\"sk-toggleable__content\"><pre>Pipeline(steps=[(&#x27;preprocessor&#x27;,\n",
       "                 ColumnTransformer(transformers=[(&#x27;num&#x27;,\n",
       "                                                  Pipeline(steps=[(&#x27;imputer&#x27;,\n",
       "                                                                   SimpleImputer(strategy=&#x27;median&#x27;)),\n",
       "                                                                  (&#x27;scaler&#x27;,\n",
       "                                                                   StandardScaler())]),\n",
       "                                                  [&#x27;VendorID&#x27;,\n",
       "                                                   &#x27;passenger_count&#x27;,\n",
       "                                                   &#x27;trip_distance&#x27;,\n",
       "                                                   &#x27;RatecodeID&#x27;, &#x27;PULocationID&#x27;,\n",
       "                                                   &#x27;DOLocationID&#x27;, &#x27;extra&#x27;,\n",
       "                                                   &#x27;tip_amount&#x27;, &#x27;tolls_amount&#x27;,\n",
       "                                                   &#x27;improvement_surcharge&#x27;,\n",
       "                                                   &#x27;congestion_surcharge&#x27;,\n",
       "                                                   &#x27;Airport_fee&#x27;, &#x27;pickup_day&#x27;,\n",
       "                                                   &#x27;pickup_hour&#x27;,\n",
       "                                                   &#x27;trip_duration_minutes&#x27;]),\n",
       "                                                 (&#x27;cat&#x27;,\n",
       "                                                  Pipeline(steps=[(&#x27;imputer&#x27;,\n",
       "                                                                   SimpleImputer(strategy=&#x27;most_frequent&#x27;)),\n",
       "                                                                  (&#x27;onehot&#x27;,\n",
       "                                                                   OneHotEncoder(handle_unknown=&#x27;ignore&#x27;,\n",
       "                                                                                 sparse=False))]),\n",
       "                                                  [&#x27;store_and_fwd_flag&#x27;,\n",
       "                                                   &#x27;payment_type&#x27;])])),\n",
       "                (&#x27;regressor&#x27;, Lasso())])</pre></div></div></div><div class=\"sk-serial\"><div class=\"sk-item sk-dashed-wrapped\"><div class=\"sk-label-container\"><div class=\"sk-label sk-toggleable\"><input class=\"sk-toggleable__control sk-hidden--visually\" id=\"sk-estimator-id-38\" type=\"checkbox\" ><label for=\"sk-estimator-id-38\" class=\"sk-toggleable__label sk-toggleable__label-arrow\">preprocessor: ColumnTransformer</label><div class=\"sk-toggleable__content\"><pre>ColumnTransformer(transformers=[(&#x27;num&#x27;,\n",
       "                                 Pipeline(steps=[(&#x27;imputer&#x27;,\n",
       "                                                  SimpleImputer(strategy=&#x27;median&#x27;)),\n",
       "                                                 (&#x27;scaler&#x27;, StandardScaler())]),\n",
       "                                 [&#x27;VendorID&#x27;, &#x27;passenger_count&#x27;,\n",
       "                                  &#x27;trip_distance&#x27;, &#x27;RatecodeID&#x27;, &#x27;PULocationID&#x27;,\n",
       "                                  &#x27;DOLocationID&#x27;, &#x27;extra&#x27;, &#x27;tip_amount&#x27;,\n",
       "                                  &#x27;tolls_amount&#x27;, &#x27;improvement_surcharge&#x27;,\n",
       "                                  &#x27;congestion_surcharge&#x27;, &#x27;Airport_fee&#x27;,\n",
       "                                  &#x27;pickup_day&#x27;, &#x27;pickup_hour&#x27;,\n",
       "                                  &#x27;trip_duration_minutes&#x27;]),\n",
       "                                (&#x27;cat&#x27;,\n",
       "                                 Pipeline(steps=[(&#x27;imputer&#x27;,\n",
       "                                                  SimpleImputer(strategy=&#x27;most_frequent&#x27;)),\n",
       "                                                 (&#x27;onehot&#x27;,\n",
       "                                                  OneHotEncoder(handle_unknown=&#x27;ignore&#x27;,\n",
       "                                                                sparse=False))]),\n",
       "                                 [&#x27;store_and_fwd_flag&#x27;, &#x27;payment_type&#x27;])])</pre></div></div></div><div class=\"sk-parallel\"><div class=\"sk-parallel-item\"><div class=\"sk-item\"><div class=\"sk-label-container\"><div class=\"sk-label sk-toggleable\"><input class=\"sk-toggleable__control sk-hidden--visually\" id=\"sk-estimator-id-39\" type=\"checkbox\" ><label for=\"sk-estimator-id-39\" class=\"sk-toggleable__label sk-toggleable__label-arrow\">num</label><div class=\"sk-toggleable__content\"><pre>[&#x27;VendorID&#x27;, &#x27;passenger_count&#x27;, &#x27;trip_distance&#x27;, &#x27;RatecodeID&#x27;, &#x27;PULocationID&#x27;, &#x27;DOLocationID&#x27;, &#x27;extra&#x27;, &#x27;tip_amount&#x27;, &#x27;tolls_amount&#x27;, &#x27;improvement_surcharge&#x27;, &#x27;congestion_surcharge&#x27;, &#x27;Airport_fee&#x27;, &#x27;pickup_day&#x27;, &#x27;pickup_hour&#x27;, &#x27;trip_duration_minutes&#x27;]</pre></div></div></div><div class=\"sk-serial\"><div class=\"sk-item\"><div class=\"sk-serial\"><div class=\"sk-item\"><div class=\"sk-estimator sk-toggleable\"><input class=\"sk-toggleable__control sk-hidden--visually\" id=\"sk-estimator-id-40\" type=\"checkbox\" ><label for=\"sk-estimator-id-40\" class=\"sk-toggleable__label sk-toggleable__label-arrow\">SimpleImputer</label><div class=\"sk-toggleable__content\"><pre>SimpleImputer(strategy=&#x27;median&#x27;)</pre></div></div></div><div class=\"sk-item\"><div class=\"sk-estimator sk-toggleable\"><input class=\"sk-toggleable__control sk-hidden--visually\" id=\"sk-estimator-id-41\" type=\"checkbox\" ><label for=\"sk-estimator-id-41\" class=\"sk-toggleable__label sk-toggleable__label-arrow\">StandardScaler</label><div class=\"sk-toggleable__content\"><pre>StandardScaler()</pre></div></div></div></div></div></div></div></div><div class=\"sk-parallel-item\"><div class=\"sk-item\"><div class=\"sk-label-container\"><div class=\"sk-label sk-toggleable\"><input class=\"sk-toggleable__control sk-hidden--visually\" id=\"sk-estimator-id-42\" type=\"checkbox\" ><label for=\"sk-estimator-id-42\" class=\"sk-toggleable__label sk-toggleable__label-arrow\">cat</label><div class=\"sk-toggleable__content\"><pre>[&#x27;store_and_fwd_flag&#x27;, &#x27;payment_type&#x27;]</pre></div></div></div><div class=\"sk-serial\"><div class=\"sk-item\"><div class=\"sk-serial\"><div class=\"sk-item\"><div class=\"sk-estimator sk-toggleable\"><input class=\"sk-toggleable__control sk-hidden--visually\" id=\"sk-estimator-id-43\" type=\"checkbox\" ><label for=\"sk-estimator-id-43\" class=\"sk-toggleable__label sk-toggleable__label-arrow\">SimpleImputer</label><div class=\"sk-toggleable__content\"><pre>SimpleImputer(strategy=&#x27;most_frequent&#x27;)</pre></div></div></div><div class=\"sk-item\"><div class=\"sk-estimator sk-toggleable\"><input class=\"sk-toggleable__control sk-hidden--visually\" id=\"sk-estimator-id-44\" type=\"checkbox\" ><label for=\"sk-estimator-id-44\" class=\"sk-toggleable__label sk-toggleable__label-arrow\">OneHotEncoder</label><div class=\"sk-toggleable__content\"><pre>OneHotEncoder(handle_unknown=&#x27;ignore&#x27;, sparse=False)</pre></div></div></div></div></div></div></div></div></div></div><div class=\"sk-item\"><div class=\"sk-estimator sk-toggleable\"><input class=\"sk-toggleable__control sk-hidden--visually\" id=\"sk-estimator-id-45\" type=\"checkbox\" ><label for=\"sk-estimator-id-45\" class=\"sk-toggleable__label sk-toggleable__label-arrow\">Lasso</label><div class=\"sk-toggleable__content\"><pre>Lasso()</pre></div></div></div></div></div></div></div>"
      ],
      "text/plain": [
       "Pipeline(steps=[('preprocessor',\n",
       "                 ColumnTransformer(transformers=[('num',\n",
       "                                                  Pipeline(steps=[('imputer',\n",
       "                                                                   SimpleImputer(strategy='median')),\n",
       "                                                                  ('scaler',\n",
       "                                                                   StandardScaler())]),\n",
       "                                                  ['VendorID',\n",
       "                                                   'passenger_count',\n",
       "                                                   'trip_distance',\n",
       "                                                   'RatecodeID', 'PULocationID',\n",
       "                                                   'DOLocationID', 'extra',\n",
       "                                                   'tip_amount', 'tolls_amount',\n",
       "                                                   'improvement_surcharge',\n",
       "                                                   'congestion_surcharge',\n",
       "                                                   'Airport_fee', 'pickup_day',\n",
       "                                                   'pickup_hour',\n",
       "                                                   'trip_duration_minutes']),\n",
       "                                                 ('cat',\n",
       "                                                  Pipeline(steps=[('imputer',\n",
       "                                                                   SimpleImputer(strategy='most_frequent')),\n",
       "                                                                  ('onehot',\n",
       "                                                                   OneHotEncoder(handle_unknown='ignore',\n",
       "                                                                                 sparse=False))]),\n",
       "                                                  ['store_and_fwd_flag',\n",
       "                                                   'payment_type'])])),\n",
       "                ('regressor', Lasso())])"
      ]
     },
     "execution_count": 39,
     "metadata": {},
     "output_type": "execute_result"
    }
   ],
   "source": [
    "# Lasso Regressor\n",
    "lasso_reg = Pipeline(steps=[('preprocessor', preprocessor),\n",
    "                            ('regressor', Lasso())])\n",
    "# Fitting the model\n",
    "lasso_reg.fit(X_train, y_train)"
   ]
  },
  {
   "cell_type": "code",
   "execution_count": 40,
   "id": "d5af226f",
   "metadata": {
    "execution": {
     "iopub.execute_input": "2024-01-09T10:45:17.107233Z",
     "iopub.status.busy": "2024-01-09T10:45:17.106820Z",
     "iopub.status.idle": "2024-01-09T10:45:17.170179Z",
     "shell.execute_reply": "2024-01-09T10:45:17.168669Z"
    },
    "papermill": {
     "duration": 0.107091,
     "end_time": "2024-01-09T10:45:17.174842",
     "exception": false,
     "start_time": "2024-01-09T10:45:17.067751",
     "status": "completed"
    },
    "tags": []
   },
   "outputs": [
    {
     "name": "stdout",
     "output_type": "stream",
     "text": [
      "R-squared (R2) Score from Lasso Regressor: 0.7060197820998579\n"
     ]
    }
   ],
   "source": [
    "#R2 Score on X_test\n",
    "y_pred = lasso_reg.predict(X_test)\n",
    "\n",
    "r_squared = r2_score(y_test, y_pred)\n",
    "print(f'R-squared (R2) Score from Lasso Regressor: {r_squared}')"
   ]
  },
  {
   "cell_type": "markdown",
   "id": "6ad890a9",
   "metadata": {
    "papermill": {
     "duration": 0.064357,
     "end_time": "2024-01-09T10:45:17.320561",
     "exception": false,
     "start_time": "2024-01-09T10:45:17.256204",
     "status": "completed"
    },
    "tags": []
   },
   "source": [
    "**Model 5. Ridge Regression**"
   ]
  },
  {
   "cell_type": "code",
   "execution_count": 41,
   "id": "d1fcfc74",
   "metadata": {
    "execution": {
     "iopub.execute_input": "2024-01-09T10:45:17.400180Z",
     "iopub.status.busy": "2024-01-09T10:45:17.399248Z",
     "iopub.status.idle": "2024-01-09T10:45:18.165330Z",
     "shell.execute_reply": "2024-01-09T10:45:18.164142Z"
    },
    "papermill": {
     "duration": 0.808956,
     "end_time": "2024-01-09T10:45:18.168113",
     "exception": false,
     "start_time": "2024-01-09T10:45:17.359157",
     "status": "completed"
    },
    "tags": []
   },
   "outputs": [
    {
     "name": "stderr",
     "output_type": "stream",
     "text": [
      "/opt/conda/lib/python3.10/site-packages/sklearn/preprocessing/_encoders.py:868: FutureWarning: `sparse` was renamed to `sparse_output` in version 1.2 and will be removed in 1.4. `sparse_output` is ignored unless you leave `sparse` to its default value.\n",
      "  warnings.warn(\n"
     ]
    },
    {
     "data": {
      "text/html": [
       "<style>#sk-container-id-6 {color: black;background-color: white;}#sk-container-id-6 pre{padding: 0;}#sk-container-id-6 div.sk-toggleable {background-color: white;}#sk-container-id-6 label.sk-toggleable__label {cursor: pointer;display: block;width: 100%;margin-bottom: 0;padding: 0.3em;box-sizing: border-box;text-align: center;}#sk-container-id-6 label.sk-toggleable__label-arrow:before {content: \"▸\";float: left;margin-right: 0.25em;color: #696969;}#sk-container-id-6 label.sk-toggleable__label-arrow:hover:before {color: black;}#sk-container-id-6 div.sk-estimator:hover label.sk-toggleable__label-arrow:before {color: black;}#sk-container-id-6 div.sk-toggleable__content {max-height: 0;max-width: 0;overflow: hidden;text-align: left;background-color: #f0f8ff;}#sk-container-id-6 div.sk-toggleable__content pre {margin: 0.2em;color: black;border-radius: 0.25em;background-color: #f0f8ff;}#sk-container-id-6 input.sk-toggleable__control:checked~div.sk-toggleable__content {max-height: 200px;max-width: 100%;overflow: auto;}#sk-container-id-6 input.sk-toggleable__control:checked~label.sk-toggleable__label-arrow:before {content: \"▾\";}#sk-container-id-6 div.sk-estimator input.sk-toggleable__control:checked~label.sk-toggleable__label {background-color: #d4ebff;}#sk-container-id-6 div.sk-label input.sk-toggleable__control:checked~label.sk-toggleable__label {background-color: #d4ebff;}#sk-container-id-6 input.sk-hidden--visually {border: 0;clip: rect(1px 1px 1px 1px);clip: rect(1px, 1px, 1px, 1px);height: 1px;margin: -1px;overflow: hidden;padding: 0;position: absolute;width: 1px;}#sk-container-id-6 div.sk-estimator {font-family: monospace;background-color: #f0f8ff;border: 1px dotted black;border-radius: 0.25em;box-sizing: border-box;margin-bottom: 0.5em;}#sk-container-id-6 div.sk-estimator:hover {background-color: #d4ebff;}#sk-container-id-6 div.sk-parallel-item::after {content: \"\";width: 100%;border-bottom: 1px solid gray;flex-grow: 1;}#sk-container-id-6 div.sk-label:hover label.sk-toggleable__label {background-color: #d4ebff;}#sk-container-id-6 div.sk-serial::before {content: \"\";position: absolute;border-left: 1px solid gray;box-sizing: border-box;top: 0;bottom: 0;left: 50%;z-index: 0;}#sk-container-id-6 div.sk-serial {display: flex;flex-direction: column;align-items: center;background-color: white;padding-right: 0.2em;padding-left: 0.2em;position: relative;}#sk-container-id-6 div.sk-item {position: relative;z-index: 1;}#sk-container-id-6 div.sk-parallel {display: flex;align-items: stretch;justify-content: center;background-color: white;position: relative;}#sk-container-id-6 div.sk-item::before, #sk-container-id-6 div.sk-parallel-item::before {content: \"\";position: absolute;border-left: 1px solid gray;box-sizing: border-box;top: 0;bottom: 0;left: 50%;z-index: -1;}#sk-container-id-6 div.sk-parallel-item {display: flex;flex-direction: column;z-index: 1;position: relative;background-color: white;}#sk-container-id-6 div.sk-parallel-item:first-child::after {align-self: flex-end;width: 50%;}#sk-container-id-6 div.sk-parallel-item:last-child::after {align-self: flex-start;width: 50%;}#sk-container-id-6 div.sk-parallel-item:only-child::after {width: 0;}#sk-container-id-6 div.sk-dashed-wrapped {border: 1px dashed gray;margin: 0 0.4em 0.5em 0.4em;box-sizing: border-box;padding-bottom: 0.4em;background-color: white;}#sk-container-id-6 div.sk-label label {font-family: monospace;font-weight: bold;display: inline-block;line-height: 1.2em;}#sk-container-id-6 div.sk-label-container {text-align: center;}#sk-container-id-6 div.sk-container {/* jupyter's `normalize.less` sets `[hidden] { display: none; }` but bootstrap.min.css set `[hidden] { display: none !important; }` so we also need the `!important` here to be able to override the default hidden behavior on the sphinx rendered scikit-learn.org. See: https://github.com/scikit-learn/scikit-learn/issues/21755 */display: inline-block !important;position: relative;}#sk-container-id-6 div.sk-text-repr-fallback {display: none;}</style><div id=\"sk-container-id-6\" class=\"sk-top-container\"><div class=\"sk-text-repr-fallback\"><pre>Pipeline(steps=[(&#x27;preprocessor&#x27;,\n",
       "                 ColumnTransformer(transformers=[(&#x27;num&#x27;,\n",
       "                                                  Pipeline(steps=[(&#x27;imputer&#x27;,\n",
       "                                                                   SimpleImputer(strategy=&#x27;median&#x27;)),\n",
       "                                                                  (&#x27;scaler&#x27;,\n",
       "                                                                   StandardScaler())]),\n",
       "                                                  [&#x27;VendorID&#x27;,\n",
       "                                                   &#x27;passenger_count&#x27;,\n",
       "                                                   &#x27;trip_distance&#x27;,\n",
       "                                                   &#x27;RatecodeID&#x27;, &#x27;PULocationID&#x27;,\n",
       "                                                   &#x27;DOLocationID&#x27;, &#x27;extra&#x27;,\n",
       "                                                   &#x27;tip_amount&#x27;, &#x27;tolls_amount&#x27;,\n",
       "                                                   &#x27;improvement_surcharge&#x27;,\n",
       "                                                   &#x27;congestion_surcharge&#x27;,\n",
       "                                                   &#x27;Airport_fee&#x27;, &#x27;pickup_day&#x27;,\n",
       "                                                   &#x27;pickup_hour&#x27;,\n",
       "                                                   &#x27;trip_duration_minutes&#x27;]),\n",
       "                                                 (&#x27;cat&#x27;,\n",
       "                                                  Pipeline(steps=[(&#x27;imputer&#x27;,\n",
       "                                                                   SimpleImputer(strategy=&#x27;most_frequent&#x27;)),\n",
       "                                                                  (&#x27;onehot&#x27;,\n",
       "                                                                   OneHotEncoder(handle_unknown=&#x27;ignore&#x27;,\n",
       "                                                                                 sparse=False))]),\n",
       "                                                  [&#x27;store_and_fwd_flag&#x27;,\n",
       "                                                   &#x27;payment_type&#x27;])])),\n",
       "                (&#x27;regressor&#x27;, Ridge())])</pre><b>In a Jupyter environment, please rerun this cell to show the HTML representation or trust the notebook. <br />On GitHub, the HTML representation is unable to render, please try loading this page with nbviewer.org.</b></div><div class=\"sk-container\" hidden><div class=\"sk-item sk-dashed-wrapped\"><div class=\"sk-label-container\"><div class=\"sk-label sk-toggleable\"><input class=\"sk-toggleable__control sk-hidden--visually\" id=\"sk-estimator-id-46\" type=\"checkbox\" ><label for=\"sk-estimator-id-46\" class=\"sk-toggleable__label sk-toggleable__label-arrow\">Pipeline</label><div class=\"sk-toggleable__content\"><pre>Pipeline(steps=[(&#x27;preprocessor&#x27;,\n",
       "                 ColumnTransformer(transformers=[(&#x27;num&#x27;,\n",
       "                                                  Pipeline(steps=[(&#x27;imputer&#x27;,\n",
       "                                                                   SimpleImputer(strategy=&#x27;median&#x27;)),\n",
       "                                                                  (&#x27;scaler&#x27;,\n",
       "                                                                   StandardScaler())]),\n",
       "                                                  [&#x27;VendorID&#x27;,\n",
       "                                                   &#x27;passenger_count&#x27;,\n",
       "                                                   &#x27;trip_distance&#x27;,\n",
       "                                                   &#x27;RatecodeID&#x27;, &#x27;PULocationID&#x27;,\n",
       "                                                   &#x27;DOLocationID&#x27;, &#x27;extra&#x27;,\n",
       "                                                   &#x27;tip_amount&#x27;, &#x27;tolls_amount&#x27;,\n",
       "                                                   &#x27;improvement_surcharge&#x27;,\n",
       "                                                   &#x27;congestion_surcharge&#x27;,\n",
       "                                                   &#x27;Airport_fee&#x27;, &#x27;pickup_day&#x27;,\n",
       "                                                   &#x27;pickup_hour&#x27;,\n",
       "                                                   &#x27;trip_duration_minutes&#x27;]),\n",
       "                                                 (&#x27;cat&#x27;,\n",
       "                                                  Pipeline(steps=[(&#x27;imputer&#x27;,\n",
       "                                                                   SimpleImputer(strategy=&#x27;most_frequent&#x27;)),\n",
       "                                                                  (&#x27;onehot&#x27;,\n",
       "                                                                   OneHotEncoder(handle_unknown=&#x27;ignore&#x27;,\n",
       "                                                                                 sparse=False))]),\n",
       "                                                  [&#x27;store_and_fwd_flag&#x27;,\n",
       "                                                   &#x27;payment_type&#x27;])])),\n",
       "                (&#x27;regressor&#x27;, Ridge())])</pre></div></div></div><div class=\"sk-serial\"><div class=\"sk-item sk-dashed-wrapped\"><div class=\"sk-label-container\"><div class=\"sk-label sk-toggleable\"><input class=\"sk-toggleable__control sk-hidden--visually\" id=\"sk-estimator-id-47\" type=\"checkbox\" ><label for=\"sk-estimator-id-47\" class=\"sk-toggleable__label sk-toggleable__label-arrow\">preprocessor: ColumnTransformer</label><div class=\"sk-toggleable__content\"><pre>ColumnTransformer(transformers=[(&#x27;num&#x27;,\n",
       "                                 Pipeline(steps=[(&#x27;imputer&#x27;,\n",
       "                                                  SimpleImputer(strategy=&#x27;median&#x27;)),\n",
       "                                                 (&#x27;scaler&#x27;, StandardScaler())]),\n",
       "                                 [&#x27;VendorID&#x27;, &#x27;passenger_count&#x27;,\n",
       "                                  &#x27;trip_distance&#x27;, &#x27;RatecodeID&#x27;, &#x27;PULocationID&#x27;,\n",
       "                                  &#x27;DOLocationID&#x27;, &#x27;extra&#x27;, &#x27;tip_amount&#x27;,\n",
       "                                  &#x27;tolls_amount&#x27;, &#x27;improvement_surcharge&#x27;,\n",
       "                                  &#x27;congestion_surcharge&#x27;, &#x27;Airport_fee&#x27;,\n",
       "                                  &#x27;pickup_day&#x27;, &#x27;pickup_hour&#x27;,\n",
       "                                  &#x27;trip_duration_minutes&#x27;]),\n",
       "                                (&#x27;cat&#x27;,\n",
       "                                 Pipeline(steps=[(&#x27;imputer&#x27;,\n",
       "                                                  SimpleImputer(strategy=&#x27;most_frequent&#x27;)),\n",
       "                                                 (&#x27;onehot&#x27;,\n",
       "                                                  OneHotEncoder(handle_unknown=&#x27;ignore&#x27;,\n",
       "                                                                sparse=False))]),\n",
       "                                 [&#x27;store_and_fwd_flag&#x27;, &#x27;payment_type&#x27;])])</pre></div></div></div><div class=\"sk-parallel\"><div class=\"sk-parallel-item\"><div class=\"sk-item\"><div class=\"sk-label-container\"><div class=\"sk-label sk-toggleable\"><input class=\"sk-toggleable__control sk-hidden--visually\" id=\"sk-estimator-id-48\" type=\"checkbox\" ><label for=\"sk-estimator-id-48\" class=\"sk-toggleable__label sk-toggleable__label-arrow\">num</label><div class=\"sk-toggleable__content\"><pre>[&#x27;VendorID&#x27;, &#x27;passenger_count&#x27;, &#x27;trip_distance&#x27;, &#x27;RatecodeID&#x27;, &#x27;PULocationID&#x27;, &#x27;DOLocationID&#x27;, &#x27;extra&#x27;, &#x27;tip_amount&#x27;, &#x27;tolls_amount&#x27;, &#x27;improvement_surcharge&#x27;, &#x27;congestion_surcharge&#x27;, &#x27;Airport_fee&#x27;, &#x27;pickup_day&#x27;, &#x27;pickup_hour&#x27;, &#x27;trip_duration_minutes&#x27;]</pre></div></div></div><div class=\"sk-serial\"><div class=\"sk-item\"><div class=\"sk-serial\"><div class=\"sk-item\"><div class=\"sk-estimator sk-toggleable\"><input class=\"sk-toggleable__control sk-hidden--visually\" id=\"sk-estimator-id-49\" type=\"checkbox\" ><label for=\"sk-estimator-id-49\" class=\"sk-toggleable__label sk-toggleable__label-arrow\">SimpleImputer</label><div class=\"sk-toggleable__content\"><pre>SimpleImputer(strategy=&#x27;median&#x27;)</pre></div></div></div><div class=\"sk-item\"><div class=\"sk-estimator sk-toggleable\"><input class=\"sk-toggleable__control sk-hidden--visually\" id=\"sk-estimator-id-50\" type=\"checkbox\" ><label for=\"sk-estimator-id-50\" class=\"sk-toggleable__label sk-toggleable__label-arrow\">StandardScaler</label><div class=\"sk-toggleable__content\"><pre>StandardScaler()</pre></div></div></div></div></div></div></div></div><div class=\"sk-parallel-item\"><div class=\"sk-item\"><div class=\"sk-label-container\"><div class=\"sk-label sk-toggleable\"><input class=\"sk-toggleable__control sk-hidden--visually\" id=\"sk-estimator-id-51\" type=\"checkbox\" ><label for=\"sk-estimator-id-51\" class=\"sk-toggleable__label sk-toggleable__label-arrow\">cat</label><div class=\"sk-toggleable__content\"><pre>[&#x27;store_and_fwd_flag&#x27;, &#x27;payment_type&#x27;]</pre></div></div></div><div class=\"sk-serial\"><div class=\"sk-item\"><div class=\"sk-serial\"><div class=\"sk-item\"><div class=\"sk-estimator sk-toggleable\"><input class=\"sk-toggleable__control sk-hidden--visually\" id=\"sk-estimator-id-52\" type=\"checkbox\" ><label for=\"sk-estimator-id-52\" class=\"sk-toggleable__label sk-toggleable__label-arrow\">SimpleImputer</label><div class=\"sk-toggleable__content\"><pre>SimpleImputer(strategy=&#x27;most_frequent&#x27;)</pre></div></div></div><div class=\"sk-item\"><div class=\"sk-estimator sk-toggleable\"><input class=\"sk-toggleable__control sk-hidden--visually\" id=\"sk-estimator-id-53\" type=\"checkbox\" ><label for=\"sk-estimator-id-53\" class=\"sk-toggleable__label sk-toggleable__label-arrow\">OneHotEncoder</label><div class=\"sk-toggleable__content\"><pre>OneHotEncoder(handle_unknown=&#x27;ignore&#x27;, sparse=False)</pre></div></div></div></div></div></div></div></div></div></div><div class=\"sk-item\"><div class=\"sk-estimator sk-toggleable\"><input class=\"sk-toggleable__control sk-hidden--visually\" id=\"sk-estimator-id-54\" type=\"checkbox\" ><label for=\"sk-estimator-id-54\" class=\"sk-toggleable__label sk-toggleable__label-arrow\">Ridge</label><div class=\"sk-toggleable__content\"><pre>Ridge()</pre></div></div></div></div></div></div></div>"
      ],
      "text/plain": [
       "Pipeline(steps=[('preprocessor',\n",
       "                 ColumnTransformer(transformers=[('num',\n",
       "                                                  Pipeline(steps=[('imputer',\n",
       "                                                                   SimpleImputer(strategy='median')),\n",
       "                                                                  ('scaler',\n",
       "                                                                   StandardScaler())]),\n",
       "                                                  ['VendorID',\n",
       "                                                   'passenger_count',\n",
       "                                                   'trip_distance',\n",
       "                                                   'RatecodeID', 'PULocationID',\n",
       "                                                   'DOLocationID', 'extra',\n",
       "                                                   'tip_amount', 'tolls_amount',\n",
       "                                                   'improvement_surcharge',\n",
       "                                                   'congestion_surcharge',\n",
       "                                                   'Airport_fee', 'pickup_day',\n",
       "                                                   'pickup_hour',\n",
       "                                                   'trip_duration_minutes']),\n",
       "                                                 ('cat',\n",
       "                                                  Pipeline(steps=[('imputer',\n",
       "                                                                   SimpleImputer(strategy='most_frequent')),\n",
       "                                                                  ('onehot',\n",
       "                                                                   OneHotEncoder(handle_unknown='ignore',\n",
       "                                                                                 sparse=False))]),\n",
       "                                                  ['store_and_fwd_flag',\n",
       "                                                   'payment_type'])])),\n",
       "                ('regressor', Ridge())])"
      ]
     },
     "execution_count": 41,
     "metadata": {},
     "output_type": "execute_result"
    }
   ],
   "source": [
    "# Ridge Regressor\n",
    "ridge_reg = Pipeline(steps=[('preprocessor', preprocessor),\n",
    "                            ('regressor', Ridge())])\n",
    "# Fitting the model\n",
    "ridge_reg.fit(X_train, y_train)"
   ]
  },
  {
   "cell_type": "code",
   "execution_count": 42,
   "id": "ca104c9a",
   "metadata": {
    "execution": {
     "iopub.execute_input": "2024-01-09T10:45:18.248056Z",
     "iopub.status.busy": "2024-01-09T10:45:18.247670Z",
     "iopub.status.idle": "2024-01-09T10:45:18.319072Z",
     "shell.execute_reply": "2024-01-09T10:45:18.317482Z"
    },
    "papermill": {
     "duration": 0.114823,
     "end_time": "2024-01-09T10:45:18.322280",
     "exception": false,
     "start_time": "2024-01-09T10:45:18.207457",
     "status": "completed"
    },
    "tags": []
   },
   "outputs": [
    {
     "name": "stdout",
     "output_type": "stream",
     "text": [
      "R-squared (R2) Score from Ridge Regressor: 0.7137799104224172\n"
     ]
    }
   ],
   "source": [
    "#R2 Score on X_test\n",
    "y_pred = ridge_reg.predict(X_test)\n",
    "\n",
    "r_squared = r2_score(y_test, y_pred)\n",
    "print(f'R-squared (R2) Score from Ridge Regressor: {r_squared}')"
   ]
  },
  {
   "cell_type": "markdown",
   "id": "d0c186de",
   "metadata": {
    "papermill": {
     "duration": 0.051473,
     "end_time": "2024-01-09T10:45:18.477297",
     "exception": false,
     "start_time": "2024-01-09T10:45:18.425824",
     "status": "completed"
    },
    "tags": []
   },
   "source": [
    "**Model 6. Gradient Boosting Regressor**"
   ]
  },
  {
   "cell_type": "code",
   "execution_count": 43,
   "id": "0510c165",
   "metadata": {
    "execution": {
     "iopub.execute_input": "2024-01-09T10:45:18.559923Z",
     "iopub.status.busy": "2024-01-09T10:45:18.558991Z",
     "iopub.status.idle": "2024-01-09T10:45:18.564296Z",
     "shell.execute_reply": "2024-01-09T10:45:18.563221Z"
    },
    "papermill": {
     "duration": 0.050557,
     "end_time": "2024-01-09T10:45:18.566692",
     "exception": false,
     "start_time": "2024-01-09T10:45:18.516135",
     "status": "completed"
    },
    "tags": []
   },
   "outputs": [],
   "source": [
    "# # Gradient Boosting Regressor\n",
    "# gb_reg = Pipeline(steps=[('preprocessor', preprocessor),\n",
    "#                             ('regressor', GradientBoostingRegressor(random_state=48))])\n",
    "\n",
    "# # Hyperparameter tuning using GridSearchCV\n",
    "# param_grid = {\n",
    "#     'regressor__n_estimators': [100, 200, 300],\n",
    "#     'regressor__max_depth': [3, 4, 5],\n",
    "#     'regressor__learning_rate': [0.1,0.2, 0.05],\n",
    "# }\n",
    "\n",
    "# gb_reg_gs = GridSearchCV(gb_reg, param_grid, cv=3, n_jobs=-1, scoring='r2')\n",
    "\n",
    "# # Fitting the model\n",
    "# gb_reg_gs.fit(X_train, y_train)"
   ]
  },
  {
   "cell_type": "code",
   "execution_count": 44,
   "id": "b77d9597",
   "metadata": {
    "execution": {
     "iopub.execute_input": "2024-01-09T10:45:18.646299Z",
     "iopub.status.busy": "2024-01-09T10:45:18.645592Z",
     "iopub.status.idle": "2024-01-09T10:45:18.650410Z",
     "shell.execute_reply": "2024-01-09T10:45:18.649377Z"
    },
    "papermill": {
     "duration": 0.046976,
     "end_time": "2024-01-09T10:45:18.652748",
     "exception": false,
     "start_time": "2024-01-09T10:45:18.605772",
     "status": "completed"
    },
    "tags": []
   },
   "outputs": [],
   "source": [
    "# # R2 Score on X_test\n",
    "# y_pred_grid_search = best_regressor.predict(X_test)\n",
    "\n",
    "# r_squared = r2_score(y_test, y_pred)\n",
    "# # print(\"Best Regressor : \", best_regressor)\n",
    "# print(f'Best Model R-squared (R2) Score: {r_squared}')"
   ]
  },
  {
   "cell_type": "markdown",
   "id": "a77829dd",
   "metadata": {
    "papermill": {
     "duration": 0.038482,
     "end_time": "2024-01-09T10:45:18.729143",
     "exception": false,
     "start_time": "2024-01-09T10:45:18.690661",
     "status": "completed"
    },
    "tags": []
   },
   "source": [
    "**Best Estimator For Gradient Boosting Algorithm**"
   ]
  },
  {
   "attachments": {
    "3efbc717-2d25-4424-9144-1002efed8a46.png": {
     "image/png": "[encoded data removed]"
    }
   },
   "cell_type": "markdown",
   "id": "25301c64",
   "metadata": {
    "papermill": {
     "duration": 0.039129,
     "end_time": "2024-01-09T10:45:18.807765",
     "exception": false,
     "start_time": "2024-01-09T10:45:18.768636",
     "status": "completed"
    },
    "tags": []
   },
   "source": [
    "![Screenshot 2023-11-10 144506.png](attachment:3efbc717-2d25-4424-9144-1002efed8a46.png)"
   ]
  },
  {
   "cell_type": "code",
   "execution_count": 45,
   "id": "bc86456d",
   "metadata": {
    "execution": {
     "iopub.execute_input": "2024-01-09T10:45:18.885665Z",
     "iopub.status.busy": "2024-01-09T10:45:18.885321Z",
     "iopub.status.idle": "2024-01-09T10:47:59.901166Z",
     "shell.execute_reply": "2024-01-09T10:47:59.900032Z"
    },
    "papermill": {
     "duration": 161.098684,
     "end_time": "2024-01-09T10:47:59.945269",
     "exception": false,
     "start_time": "2024-01-09T10:45:18.846585",
     "status": "completed"
    },
    "tags": []
   },
   "outputs": [
    {
     "name": "stderr",
     "output_type": "stream",
     "text": [
      "/opt/conda/lib/python3.10/site-packages/sklearn/preprocessing/_encoders.py:868: FutureWarning: `sparse` was renamed to `sparse_output` in version 1.2 and will be removed in 1.4. `sparse_output` is ignored unless you leave `sparse` to its default value.\n",
      "  warnings.warn(\n"
     ]
    },
    {
     "data": {
      "text/html": [
       "<style>#sk-container-id-7 {color: black;background-color: white;}#sk-container-id-7 pre{padding: 0;}#sk-container-id-7 div.sk-toggleable {background-color: white;}#sk-container-id-7 label.sk-toggleable__label {cursor: pointer;display: block;width: 100%;margin-bottom: 0;padding: 0.3em;box-sizing: border-box;text-align: center;}#sk-container-id-7 label.sk-toggleable__label-arrow:before {content: \"▸\";float: left;margin-right: 0.25em;color: #696969;}#sk-container-id-7 label.sk-toggleable__label-arrow:hover:before {color: black;}#sk-container-id-7 div.sk-estimator:hover label.sk-toggleable__label-arrow:before {color: black;}#sk-container-id-7 div.sk-toggleable__content {max-height: 0;max-width: 0;overflow: hidden;text-align: left;background-color: #f0f8ff;}#sk-container-id-7 div.sk-toggleable__content pre {margin: 0.2em;color: black;border-radius: 0.25em;background-color: #f0f8ff;}#sk-container-id-7 input.sk-toggleable__control:checked~div.sk-toggleable__content {max-height: 200px;max-width: 100%;overflow: auto;}#sk-container-id-7 input.sk-toggleable__control:checked~label.sk-toggleable__label-arrow:before {content: \"▾\";}#sk-container-id-7 div.sk-estimator input.sk-toggleable__control:checked~label.sk-toggleable__label {background-color: #d4ebff;}#sk-container-id-7 div.sk-label input.sk-toggleable__control:checked~label.sk-toggleable__label {background-color: #d4ebff;}#sk-container-id-7 input.sk-hidden--visually {border: 0;clip: rect(1px 1px 1px 1px);clip: rect(1px, 1px, 1px, 1px);height: 1px;margin: -1px;overflow: hidden;padding: 0;position: absolute;width: 1px;}#sk-container-id-7 div.sk-estimator {font-family: monospace;background-color: #f0f8ff;border: 1px dotted black;border-radius: 0.25em;box-sizing: border-box;margin-bottom: 0.5em;}#sk-container-id-7 div.sk-estimator:hover {background-color: #d4ebff;}#sk-container-id-7 div.sk-parallel-item::after {content: \"\";width: 100%;border-bottom: 1px solid gray;flex-grow: 1;}#sk-container-id-7 div.sk-label:hover label.sk-toggleable__label {background-color: #d4ebff;}#sk-container-id-7 div.sk-serial::before {content: \"\";position: absolute;border-left: 1px solid gray;box-sizing: border-box;top: 0;bottom: 0;left: 50%;z-index: 0;}#sk-container-id-7 div.sk-serial {display: flex;flex-direction: column;align-items: center;background-color: white;padding-right: 0.2em;padding-left: 0.2em;position: relative;}#sk-container-id-7 div.sk-item {position: relative;z-index: 1;}#sk-container-id-7 div.sk-parallel {display: flex;align-items: stretch;justify-content: center;background-color: white;position: relative;}#sk-container-id-7 div.sk-item::before, #sk-container-id-7 div.sk-parallel-item::before {content: \"\";position: absolute;border-left: 1px solid gray;box-sizing: border-box;top: 0;bottom: 0;left: 50%;z-index: -1;}#sk-container-id-7 div.sk-parallel-item {display: flex;flex-direction: column;z-index: 1;position: relative;background-color: white;}#sk-container-id-7 div.sk-parallel-item:first-child::after {align-self: flex-end;width: 50%;}#sk-container-id-7 div.sk-parallel-item:last-child::after {align-self: flex-start;width: 50%;}#sk-container-id-7 div.sk-parallel-item:only-child::after {width: 0;}#sk-container-id-7 div.sk-dashed-wrapped {border: 1px dashed gray;margin: 0 0.4em 0.5em 0.4em;box-sizing: border-box;padding-bottom: 0.4em;background-color: white;}#sk-container-id-7 div.sk-label label {font-family: monospace;font-weight: bold;display: inline-block;line-height: 1.2em;}#sk-container-id-7 div.sk-label-container {text-align: center;}#sk-container-id-7 div.sk-container {/* jupyter's `normalize.less` sets `[hidden] { display: none; }` but bootstrap.min.css set `[hidden] { display: none !important; }` so we also need the `!important` here to be able to override the default hidden behavior on the sphinx rendered scikit-learn.org. See: https://github.com/scikit-learn/scikit-learn/issues/21755 */display: inline-block !important;position: relative;}#sk-container-id-7 div.sk-text-repr-fallback {display: none;}</style><div id=\"sk-container-id-7\" class=\"sk-top-container\"><div class=\"sk-text-repr-fallback\"><pre>Pipeline(steps=[(&#x27;preprocessor&#x27;,\n",
       "                 ColumnTransformer(transformers=[(&#x27;num&#x27;,\n",
       "                                                  Pipeline(steps=[(&#x27;imputer&#x27;,\n",
       "                                                                   SimpleImputer(strategy=&#x27;median&#x27;)),\n",
       "                                                                  (&#x27;scaler&#x27;,\n",
       "                                                                   StandardScaler())]),\n",
       "                                                  [&#x27;VendorID&#x27;,\n",
       "                                                   &#x27;passenger_count&#x27;,\n",
       "                                                   &#x27;trip_distance&#x27;,\n",
       "                                                   &#x27;RatecodeID&#x27;, &#x27;PULocationID&#x27;,\n",
       "                                                   &#x27;DOLocationID&#x27;, &#x27;extra&#x27;,\n",
       "                                                   &#x27;tip_amount&#x27;, &#x27;tolls_amount&#x27;,\n",
       "                                                   &#x27;improvement_surcharge&#x27;,\n",
       "                                                   &#x27;congestion_surcharge&#x27;,\n",
       "                                                   &#x27;Airport_fee&#x27;, &#x27;pickup_day&#x27;,\n",
       "                                                   &#x27;pickup_hour&#x27;,\n",
       "                                                   &#x27;trip_duration_minutes&#x27;]),\n",
       "                                                 (&#x27;cat&#x27;,\n",
       "                                                  Pipeline(steps=[(&#x27;imputer&#x27;,\n",
       "                                                                   SimpleImputer(strategy=&#x27;most_frequent&#x27;)),\n",
       "                                                                  (&#x27;onehot&#x27;,\n",
       "                                                                   OneHotEncoder(handle_unknown=&#x27;ignore&#x27;,\n",
       "                                                                                 sparse=False))]),\n",
       "                                                  [&#x27;store_and_fwd_flag&#x27;,\n",
       "                                                   &#x27;payment_type&#x27;])])),\n",
       "                (&#x27;regressor&#x27;,\n",
       "                 GradientBoostingRegressor(learning_rate=0.2, max_depth=5,\n",
       "                                           n_estimators=300,\n",
       "                                           random_state=48))])</pre><b>In a Jupyter environment, please rerun this cell to show the HTML representation or trust the notebook. <br />On GitHub, the HTML representation is unable to render, please try loading this page with nbviewer.org.</b></div><div class=\"sk-container\" hidden><div class=\"sk-item sk-dashed-wrapped\"><div class=\"sk-label-container\"><div class=\"sk-label sk-toggleable\"><input class=\"sk-toggleable__control sk-hidden--visually\" id=\"sk-estimator-id-55\" type=\"checkbox\" ><label for=\"sk-estimator-id-55\" class=\"sk-toggleable__label sk-toggleable__label-arrow\">Pipeline</label><div class=\"sk-toggleable__content\"><pre>Pipeline(steps=[(&#x27;preprocessor&#x27;,\n",
       "                 ColumnTransformer(transformers=[(&#x27;num&#x27;,\n",
       "                                                  Pipeline(steps=[(&#x27;imputer&#x27;,\n",
       "                                                                   SimpleImputer(strategy=&#x27;median&#x27;)),\n",
       "                                                                  (&#x27;scaler&#x27;,\n",
       "                                                                   StandardScaler())]),\n",
       "                                                  [&#x27;VendorID&#x27;,\n",
       "                                                   &#x27;passenger_count&#x27;,\n",
       "                                                   &#x27;trip_distance&#x27;,\n",
       "                                                   &#x27;RatecodeID&#x27;, &#x27;PULocationID&#x27;,\n",
       "                                                   &#x27;DOLocationID&#x27;, &#x27;extra&#x27;,\n",
       "                                                   &#x27;tip_amount&#x27;, &#x27;tolls_amount&#x27;,\n",
       "                                                   &#x27;improvement_surcharge&#x27;,\n",
       "                                                   &#x27;congestion_surcharge&#x27;,\n",
       "                                                   &#x27;Airport_fee&#x27;, &#x27;pickup_day&#x27;,\n",
       "                                                   &#x27;pickup_hour&#x27;,\n",
       "                                                   &#x27;trip_duration_minutes&#x27;]),\n",
       "                                                 (&#x27;cat&#x27;,\n",
       "                                                  Pipeline(steps=[(&#x27;imputer&#x27;,\n",
       "                                                                   SimpleImputer(strategy=&#x27;most_frequent&#x27;)),\n",
       "                                                                  (&#x27;onehot&#x27;,\n",
       "                                                                   OneHotEncoder(handle_unknown=&#x27;ignore&#x27;,\n",
       "                                                                                 sparse=False))]),\n",
       "                                                  [&#x27;store_and_fwd_flag&#x27;,\n",
       "                                                   &#x27;payment_type&#x27;])])),\n",
       "                (&#x27;regressor&#x27;,\n",
       "                 GradientBoostingRegressor(learning_rate=0.2, max_depth=5,\n",
       "                                           n_estimators=300,\n",
       "                                           random_state=48))])</pre></div></div></div><div class=\"sk-serial\"><div class=\"sk-item sk-dashed-wrapped\"><div class=\"sk-label-container\"><div class=\"sk-label sk-toggleable\"><input class=\"sk-toggleable__control sk-hidden--visually\" id=\"sk-estimator-id-56\" type=\"checkbox\" ><label for=\"sk-estimator-id-56\" class=\"sk-toggleable__label sk-toggleable__label-arrow\">preprocessor: ColumnTransformer</label><div class=\"sk-toggleable__content\"><pre>ColumnTransformer(transformers=[(&#x27;num&#x27;,\n",
       "                                 Pipeline(steps=[(&#x27;imputer&#x27;,\n",
       "                                                  SimpleImputer(strategy=&#x27;median&#x27;)),\n",
       "                                                 (&#x27;scaler&#x27;, StandardScaler())]),\n",
       "                                 [&#x27;VendorID&#x27;, &#x27;passenger_count&#x27;,\n",
       "                                  &#x27;trip_distance&#x27;, &#x27;RatecodeID&#x27;, &#x27;PULocationID&#x27;,\n",
       "                                  &#x27;DOLocationID&#x27;, &#x27;extra&#x27;, &#x27;tip_amount&#x27;,\n",
       "                                  &#x27;tolls_amount&#x27;, &#x27;improvement_surcharge&#x27;,\n",
       "                                  &#x27;congestion_surcharge&#x27;, &#x27;Airport_fee&#x27;,\n",
       "                                  &#x27;pickup_day&#x27;, &#x27;pickup_hour&#x27;,\n",
       "                                  &#x27;trip_duration_minutes&#x27;]),\n",
       "                                (&#x27;cat&#x27;,\n",
       "                                 Pipeline(steps=[(&#x27;imputer&#x27;,\n",
       "                                                  SimpleImputer(strategy=&#x27;most_frequent&#x27;)),\n",
       "                                                 (&#x27;onehot&#x27;,\n",
       "                                                  OneHotEncoder(handle_unknown=&#x27;ignore&#x27;,\n",
       "                                                                sparse=False))]),\n",
       "                                 [&#x27;store_and_fwd_flag&#x27;, &#x27;payment_type&#x27;])])</pre></div></div></div><div class=\"sk-parallel\"><div class=\"sk-parallel-item\"><div class=\"sk-item\"><div class=\"sk-label-container\"><div class=\"sk-label sk-toggleable\"><input class=\"sk-toggleable__control sk-hidden--visually\" id=\"sk-estimator-id-57\" type=\"checkbox\" ><label for=\"sk-estimator-id-57\" class=\"sk-toggleable__label sk-toggleable__label-arrow\">num</label><div class=\"sk-toggleable__content\"><pre>[&#x27;VendorID&#x27;, &#x27;passenger_count&#x27;, &#x27;trip_distance&#x27;, &#x27;RatecodeID&#x27;, &#x27;PULocationID&#x27;, &#x27;DOLocationID&#x27;, &#x27;extra&#x27;, &#x27;tip_amount&#x27;, &#x27;tolls_amount&#x27;, &#x27;improvement_surcharge&#x27;, &#x27;congestion_surcharge&#x27;, &#x27;Airport_fee&#x27;, &#x27;pickup_day&#x27;, &#x27;pickup_hour&#x27;, &#x27;trip_duration_minutes&#x27;]</pre></div></div></div><div class=\"sk-serial\"><div class=\"sk-item\"><div class=\"sk-serial\"><div class=\"sk-item\"><div class=\"sk-estimator sk-toggleable\"><input class=\"sk-toggleable__control sk-hidden--visually\" id=\"sk-estimator-id-58\" type=\"checkbox\" ><label for=\"sk-estimator-id-58\" class=\"sk-toggleable__label sk-toggleable__label-arrow\">SimpleImputer</label><div class=\"sk-toggleable__content\"><pre>SimpleImputer(strategy=&#x27;median&#x27;)</pre></div></div></div><div class=\"sk-item\"><div class=\"sk-estimator sk-toggleable\"><input class=\"sk-toggleable__control sk-hidden--visually\" id=\"sk-estimator-id-59\" type=\"checkbox\" ><label for=\"sk-estimator-id-59\" class=\"sk-toggleable__label sk-toggleable__label-arrow\">StandardScaler</label><div class=\"sk-toggleable__content\"><pre>StandardScaler()</pre></div></div></div></div></div></div></div></div><div class=\"sk-parallel-item\"><div class=\"sk-item\"><div class=\"sk-label-container\"><div class=\"sk-label sk-toggleable\"><input class=\"sk-toggleable__control sk-hidden--visually\" id=\"sk-estimator-id-60\" type=\"checkbox\" ><label for=\"sk-estimator-id-60\" class=\"sk-toggleable__label sk-toggleable__label-arrow\">cat</label><div class=\"sk-toggleable__content\"><pre>[&#x27;store_and_fwd_flag&#x27;, &#x27;payment_type&#x27;]</pre></div></div></div><div class=\"sk-serial\"><div class=\"sk-item\"><div class=\"sk-serial\"><div class=\"sk-item\"><div class=\"sk-estimator sk-toggleable\"><input class=\"sk-toggleable__control sk-hidden--visually\" id=\"sk-estimator-id-61\" type=\"checkbox\" ><label for=\"sk-estimator-id-61\" class=\"sk-toggleable__label sk-toggleable__label-arrow\">SimpleImputer</label><div class=\"sk-toggleable__content\"><pre>SimpleImputer(strategy=&#x27;most_frequent&#x27;)</pre></div></div></div><div class=\"sk-item\"><div class=\"sk-estimator sk-toggleable\"><input class=\"sk-toggleable__control sk-hidden--visually\" id=\"sk-estimator-id-62\" type=\"checkbox\" ><label for=\"sk-estimator-id-62\" class=\"sk-toggleable__label sk-toggleable__label-arrow\">OneHotEncoder</label><div class=\"sk-toggleable__content\"><pre>OneHotEncoder(handle_unknown=&#x27;ignore&#x27;, sparse=False)</pre></div></div></div></div></div></div></div></div></div></div><div class=\"sk-item\"><div class=\"sk-estimator sk-toggleable\"><input class=\"sk-toggleable__control sk-hidden--visually\" id=\"sk-estimator-id-63\" type=\"checkbox\" ><label for=\"sk-estimator-id-63\" class=\"sk-toggleable__label sk-toggleable__label-arrow\">GradientBoostingRegressor</label><div class=\"sk-toggleable__content\"><pre>GradientBoostingRegressor(learning_rate=0.2, max_depth=5, n_estimators=300,\n",
       "                          random_state=48)</pre></div></div></div></div></div></div></div>"
      ],
      "text/plain": [
       "Pipeline(steps=[('preprocessor',\n",
       "                 ColumnTransformer(transformers=[('num',\n",
       "                                                  Pipeline(steps=[('imputer',\n",
       "                                                                   SimpleImputer(strategy='median')),\n",
       "                                                                  ('scaler',\n",
       "                                                                   StandardScaler())]),\n",
       "                                                  ['VendorID',\n",
       "                                                   'passenger_count',\n",
       "                                                   'trip_distance',\n",
       "                                                   'RatecodeID', 'PULocationID',\n",
       "                                                   'DOLocationID', 'extra',\n",
       "                                                   'tip_amount', 'tolls_amount',\n",
       "                                                   'improvement_surcharge',\n",
       "                                                   'congestion_surcharge',\n",
       "                                                   'Airport_fee', 'pickup_day',\n",
       "                                                   'pickup_hour',\n",
       "                                                   'trip_duration_minutes']),\n",
       "                                                 ('cat',\n",
       "                                                  Pipeline(steps=[('imputer',\n",
       "                                                                   SimpleImputer(strategy='most_frequent')),\n",
       "                                                                  ('onehot',\n",
       "                                                                   OneHotEncoder(handle_unknown='ignore',\n",
       "                                                                                 sparse=False))]),\n",
       "                                                  ['store_and_fwd_flag',\n",
       "                                                   'payment_type'])])),\n",
       "                ('regressor',\n",
       "                 GradientBoostingRegressor(learning_rate=0.2, max_depth=5,\n",
       "                                           n_estimators=300,\n",
       "                                           random_state=48))])"
      ]
     },
     "execution_count": 45,
     "metadata": {},
     "output_type": "execute_result"
    }
   ],
   "source": [
    "#Best GradientBoosting Regressor using GridSearchCV\n",
    "best_grad_boost_reg = Pipeline(steps=[('preprocessor', preprocessor),\n",
    "                                     ('regressor', GradientBoostingRegressor(learning_rate = 0.2, max_depth = 5,\n",
    "                                                                            n_estimators = 300, random_state=48))])\n",
    "\n",
    "# Fitting the model\n",
    "best_grad_boost_reg.fit(X_train, y_train)"
   ]
  },
  {
   "cell_type": "code",
   "execution_count": 46,
   "id": "e852bb1f",
   "metadata": {
    "execution": {
     "iopub.execute_input": "2024-01-09T10:48:00.025933Z",
     "iopub.status.busy": "2024-01-09T10:48:00.025208Z",
     "iopub.status.idle": "2024-01-09T10:48:00.270110Z",
     "shell.execute_reply": "2024-01-09T10:48:00.269021Z"
    },
    "papermill": {
     "duration": 0.287607,
     "end_time": "2024-01-09T10:48:00.272724",
     "exception": false,
     "start_time": "2024-01-09T10:47:59.985117",
     "status": "completed"
    },
    "tags": []
   },
   "outputs": [
    {
     "name": "stdout",
     "output_type": "stream",
     "text": [
      "R-squared (R2) Score from Best Gradient Boosting Regressor: 0.9479296231378246\n"
     ]
    }
   ],
   "source": [
    "#Prediction on Best Estimators for Gradient Boosting Regressor\n",
    "#R2 Score on X_test\n",
    "best_y_gradient_boost = best_grad_boost_reg.predict(X_test)\n",
    "\n",
    "r_squared = r2_score(y_test, best_y_gradient_boost)\n",
    "print(f'R-squared (R2) Score from Best Gradient Boosting Regressor: {r_squared}')"
   ]
  },
  {
   "cell_type": "markdown",
   "id": "97135c5d",
   "metadata": {
    "papermill": {
     "duration": 0.040621,
     "end_time": "2024-01-09T10:48:00.354744",
     "exception": false,
     "start_time": "2024-01-09T10:48:00.314123",
     "status": "completed"
    },
    "tags": []
   },
   "source": [
    "**Model 7. AdaBoost Regression**"
   ]
  },
  {
   "cell_type": "code",
   "execution_count": 47,
   "id": "80d8761c",
   "metadata": {
    "execution": {
     "iopub.execute_input": "2024-01-09T10:48:00.434861Z",
     "iopub.status.busy": "2024-01-09T10:48:00.434040Z",
     "iopub.status.idle": "2024-01-09T10:48:09.492717Z",
     "shell.execute_reply": "2024-01-09T10:48:09.491720Z"
    },
    "papermill": {
     "duration": 9.101607,
     "end_time": "2024-01-09T10:48:09.495365",
     "exception": false,
     "start_time": "2024-01-09T10:48:00.393758",
     "status": "completed"
    },
    "tags": []
   },
   "outputs": [
    {
     "name": "stderr",
     "output_type": "stream",
     "text": [
      "/opt/conda/lib/python3.10/site-packages/sklearn/preprocessing/_encoders.py:868: FutureWarning: `sparse` was renamed to `sparse_output` in version 1.2 and will be removed in 1.4. `sparse_output` is ignored unless you leave `sparse` to its default value.\n",
      "  warnings.warn(\n"
     ]
    },
    {
     "data": {
      "text/html": [
       "<style>#sk-container-id-8 {color: black;background-color: white;}#sk-container-id-8 pre{padding: 0;}#sk-container-id-8 div.sk-toggleable {background-color: white;}#sk-container-id-8 label.sk-toggleable__label {cursor: pointer;display: block;width: 100%;margin-bottom: 0;padding: 0.3em;box-sizing: border-box;text-align: center;}#sk-container-id-8 label.sk-toggleable__label-arrow:before {content: \"▸\";float: left;margin-right: 0.25em;color: #696969;}#sk-container-id-8 label.sk-toggleable__label-arrow:hover:before {color: black;}#sk-container-id-8 div.sk-estimator:hover label.sk-toggleable__label-arrow:before {color: black;}#sk-container-id-8 div.sk-toggleable__content {max-height: 0;max-width: 0;overflow: hidden;text-align: left;background-color: #f0f8ff;}#sk-container-id-8 div.sk-toggleable__content pre {margin: 0.2em;color: black;border-radius: 0.25em;background-color: #f0f8ff;}#sk-container-id-8 input.sk-toggleable__control:checked~div.sk-toggleable__content {max-height: 200px;max-width: 100%;overflow: auto;}#sk-container-id-8 input.sk-toggleable__control:checked~label.sk-toggleable__label-arrow:before {content: \"▾\";}#sk-container-id-8 div.sk-estimator input.sk-toggleable__control:checked~label.sk-toggleable__label {background-color: #d4ebff;}#sk-container-id-8 div.sk-label input.sk-toggleable__control:checked~label.sk-toggleable__label {background-color: #d4ebff;}#sk-container-id-8 input.sk-hidden--visually {border: 0;clip: rect(1px 1px 1px 1px);clip: rect(1px, 1px, 1px, 1px);height: 1px;margin: -1px;overflow: hidden;padding: 0;position: absolute;width: 1px;}#sk-container-id-8 div.sk-estimator {font-family: monospace;background-color: #f0f8ff;border: 1px dotted black;border-radius: 0.25em;box-sizing: border-box;margin-bottom: 0.5em;}#sk-container-id-8 div.sk-estimator:hover {background-color: #d4ebff;}#sk-container-id-8 div.sk-parallel-item::after {content: \"\";width: 100%;border-bottom: 1px solid gray;flex-grow: 1;}#sk-container-id-8 div.sk-label:hover label.sk-toggleable__label {background-color: #d4ebff;}#sk-container-id-8 div.sk-serial::before {content: \"\";position: absolute;border-left: 1px solid gray;box-sizing: border-box;top: 0;bottom: 0;left: 50%;z-index: 0;}#sk-container-id-8 div.sk-serial {display: flex;flex-direction: column;align-items: center;background-color: white;padding-right: 0.2em;padding-left: 0.2em;position: relative;}#sk-container-id-8 div.sk-item {position: relative;z-index: 1;}#sk-container-id-8 div.sk-parallel {display: flex;align-items: stretch;justify-content: center;background-color: white;position: relative;}#sk-container-id-8 div.sk-item::before, #sk-container-id-8 div.sk-parallel-item::before {content: \"\";position: absolute;border-left: 1px solid gray;box-sizing: border-box;top: 0;bottom: 0;left: 50%;z-index: -1;}#sk-container-id-8 div.sk-parallel-item {display: flex;flex-direction: column;z-index: 1;position: relative;background-color: white;}#sk-container-id-8 div.sk-parallel-item:first-child::after {align-self: flex-end;width: 50%;}#sk-container-id-8 div.sk-parallel-item:last-child::after {align-self: flex-start;width: 50%;}#sk-container-id-8 div.sk-parallel-item:only-child::after {width: 0;}#sk-container-id-8 div.sk-dashed-wrapped {border: 1px dashed gray;margin: 0 0.4em 0.5em 0.4em;box-sizing: border-box;padding-bottom: 0.4em;background-color: white;}#sk-container-id-8 div.sk-label label {font-family: monospace;font-weight: bold;display: inline-block;line-height: 1.2em;}#sk-container-id-8 div.sk-label-container {text-align: center;}#sk-container-id-8 div.sk-container {/* jupyter's `normalize.less` sets `[hidden] { display: none; }` but bootstrap.min.css set `[hidden] { display: none !important; }` so we also need the `!important` here to be able to override the default hidden behavior on the sphinx rendered scikit-learn.org. See: https://github.com/scikit-learn/scikit-learn/issues/21755 */display: inline-block !important;position: relative;}#sk-container-id-8 div.sk-text-repr-fallback {display: none;}</style><div id=\"sk-container-id-8\" class=\"sk-top-container\"><div class=\"sk-text-repr-fallback\"><pre>Pipeline(steps=[(&#x27;preprocessor&#x27;,\n",
       "                 ColumnTransformer(transformers=[(&#x27;num&#x27;,\n",
       "                                                  Pipeline(steps=[(&#x27;imputer&#x27;,\n",
       "                                                                   SimpleImputer(strategy=&#x27;median&#x27;)),\n",
       "                                                                  (&#x27;scaler&#x27;,\n",
       "                                                                   StandardScaler())]),\n",
       "                                                  [&#x27;VendorID&#x27;,\n",
       "                                                   &#x27;passenger_count&#x27;,\n",
       "                                                   &#x27;trip_distance&#x27;,\n",
       "                                                   &#x27;RatecodeID&#x27;, &#x27;PULocationID&#x27;,\n",
       "                                                   &#x27;DOLocationID&#x27;, &#x27;extra&#x27;,\n",
       "                                                   &#x27;tip_amount&#x27;, &#x27;tolls_amount&#x27;,\n",
       "                                                   &#x27;improvement_surcharge&#x27;,\n",
       "                                                   &#x27;congestion_surcharge&#x27;,\n",
       "                                                   &#x27;Airport_fee&#x27;, &#x27;pickup_day&#x27;,\n",
       "                                                   &#x27;pickup_hour&#x27;,\n",
       "                                                   &#x27;trip_duration_minutes&#x27;]),\n",
       "                                                 (&#x27;cat&#x27;,\n",
       "                                                  Pipeline(steps=[(&#x27;imputer&#x27;,\n",
       "                                                                   SimpleImputer(strategy=&#x27;most_frequent&#x27;)),\n",
       "                                                                  (&#x27;onehot&#x27;,\n",
       "                                                                   OneHotEncoder(handle_unknown=&#x27;ignore&#x27;,\n",
       "                                                                                 sparse=False))]),\n",
       "                                                  [&#x27;store_and_fwd_flag&#x27;,\n",
       "                                                   &#x27;payment_type&#x27;])])),\n",
       "                (&#x27;regressor&#x27;, AdaBoostRegressor(random_state=48))])</pre><b>In a Jupyter environment, please rerun this cell to show the HTML representation or trust the notebook. <br />On GitHub, the HTML representation is unable to render, please try loading this page with nbviewer.org.</b></div><div class=\"sk-container\" hidden><div class=\"sk-item sk-dashed-wrapped\"><div class=\"sk-label-container\"><div class=\"sk-label sk-toggleable\"><input class=\"sk-toggleable__control sk-hidden--visually\" id=\"sk-estimator-id-64\" type=\"checkbox\" ><label for=\"sk-estimator-id-64\" class=\"sk-toggleable__label sk-toggleable__label-arrow\">Pipeline</label><div class=\"sk-toggleable__content\"><pre>Pipeline(steps=[(&#x27;preprocessor&#x27;,\n",
       "                 ColumnTransformer(transformers=[(&#x27;num&#x27;,\n",
       "                                                  Pipeline(steps=[(&#x27;imputer&#x27;,\n",
       "                                                                   SimpleImputer(strategy=&#x27;median&#x27;)),\n",
       "                                                                  (&#x27;scaler&#x27;,\n",
       "                                                                   StandardScaler())]),\n",
       "                                                  [&#x27;VendorID&#x27;,\n",
       "                                                   &#x27;passenger_count&#x27;,\n",
       "                                                   &#x27;trip_distance&#x27;,\n",
       "                                                   &#x27;RatecodeID&#x27;, &#x27;PULocationID&#x27;,\n",
       "                                                   &#x27;DOLocationID&#x27;, &#x27;extra&#x27;,\n",
       "                                                   &#x27;tip_amount&#x27;, &#x27;tolls_amount&#x27;,\n",
       "                                                   &#x27;improvement_surcharge&#x27;,\n",
       "                                                   &#x27;congestion_surcharge&#x27;,\n",
       "                                                   &#x27;Airport_fee&#x27;, &#x27;pickup_day&#x27;,\n",
       "                                                   &#x27;pickup_hour&#x27;,\n",
       "                                                   &#x27;trip_duration_minutes&#x27;]),\n",
       "                                                 (&#x27;cat&#x27;,\n",
       "                                                  Pipeline(steps=[(&#x27;imputer&#x27;,\n",
       "                                                                   SimpleImputer(strategy=&#x27;most_frequent&#x27;)),\n",
       "                                                                  (&#x27;onehot&#x27;,\n",
       "                                                                   OneHotEncoder(handle_unknown=&#x27;ignore&#x27;,\n",
       "                                                                                 sparse=False))]),\n",
       "                                                  [&#x27;store_and_fwd_flag&#x27;,\n",
       "                                                   &#x27;payment_type&#x27;])])),\n",
       "                (&#x27;regressor&#x27;, AdaBoostRegressor(random_state=48))])</pre></div></div></div><div class=\"sk-serial\"><div class=\"sk-item sk-dashed-wrapped\"><div class=\"sk-label-container\"><div class=\"sk-label sk-toggleable\"><input class=\"sk-toggleable__control sk-hidden--visually\" id=\"sk-estimator-id-65\" type=\"checkbox\" ><label for=\"sk-estimator-id-65\" class=\"sk-toggleable__label sk-toggleable__label-arrow\">preprocessor: ColumnTransformer</label><div class=\"sk-toggleable__content\"><pre>ColumnTransformer(transformers=[(&#x27;num&#x27;,\n",
       "                                 Pipeline(steps=[(&#x27;imputer&#x27;,\n",
       "                                                  SimpleImputer(strategy=&#x27;median&#x27;)),\n",
       "                                                 (&#x27;scaler&#x27;, StandardScaler())]),\n",
       "                                 [&#x27;VendorID&#x27;, &#x27;passenger_count&#x27;,\n",
       "                                  &#x27;trip_distance&#x27;, &#x27;RatecodeID&#x27;, &#x27;PULocationID&#x27;,\n",
       "                                  &#x27;DOLocationID&#x27;, &#x27;extra&#x27;, &#x27;tip_amount&#x27;,\n",
       "                                  &#x27;tolls_amount&#x27;, &#x27;improvement_surcharge&#x27;,\n",
       "                                  &#x27;congestion_surcharge&#x27;, &#x27;Airport_fee&#x27;,\n",
       "                                  &#x27;pickup_day&#x27;, &#x27;pickup_hour&#x27;,\n",
       "                                  &#x27;trip_duration_minutes&#x27;]),\n",
       "                                (&#x27;cat&#x27;,\n",
       "                                 Pipeline(steps=[(&#x27;imputer&#x27;,\n",
       "                                                  SimpleImputer(strategy=&#x27;most_frequent&#x27;)),\n",
       "                                                 (&#x27;onehot&#x27;,\n",
       "                                                  OneHotEncoder(handle_unknown=&#x27;ignore&#x27;,\n",
       "                                                                sparse=False))]),\n",
       "                                 [&#x27;store_and_fwd_flag&#x27;, &#x27;payment_type&#x27;])])</pre></div></div></div><div class=\"sk-parallel\"><div class=\"sk-parallel-item\"><div class=\"sk-item\"><div class=\"sk-label-container\"><div class=\"sk-label sk-toggleable\"><input class=\"sk-toggleable__control sk-hidden--visually\" id=\"sk-estimator-id-66\" type=\"checkbox\" ><label for=\"sk-estimator-id-66\" class=\"sk-toggleable__label sk-toggleable__label-arrow\">num</label><div class=\"sk-toggleable__content\"><pre>[&#x27;VendorID&#x27;, &#x27;passenger_count&#x27;, &#x27;trip_distance&#x27;, &#x27;RatecodeID&#x27;, &#x27;PULocationID&#x27;, &#x27;DOLocationID&#x27;, &#x27;extra&#x27;, &#x27;tip_amount&#x27;, &#x27;tolls_amount&#x27;, &#x27;improvement_surcharge&#x27;, &#x27;congestion_surcharge&#x27;, &#x27;Airport_fee&#x27;, &#x27;pickup_day&#x27;, &#x27;pickup_hour&#x27;, &#x27;trip_duration_minutes&#x27;]</pre></div></div></div><div class=\"sk-serial\"><div class=\"sk-item\"><div class=\"sk-serial\"><div class=\"sk-item\"><div class=\"sk-estimator sk-toggleable\"><input class=\"sk-toggleable__control sk-hidden--visually\" id=\"sk-estimator-id-67\" type=\"checkbox\" ><label for=\"sk-estimator-id-67\" class=\"sk-toggleable__label sk-toggleable__label-arrow\">SimpleImputer</label><div class=\"sk-toggleable__content\"><pre>SimpleImputer(strategy=&#x27;median&#x27;)</pre></div></div></div><div class=\"sk-item\"><div class=\"sk-estimator sk-toggleable\"><input class=\"sk-toggleable__control sk-hidden--visually\" id=\"sk-estimator-id-68\" type=\"checkbox\" ><label for=\"sk-estimator-id-68\" class=\"sk-toggleable__label sk-toggleable__label-arrow\">StandardScaler</label><div class=\"sk-toggleable__content\"><pre>StandardScaler()</pre></div></div></div></div></div></div></div></div><div class=\"sk-parallel-item\"><div class=\"sk-item\"><div class=\"sk-label-container\"><div class=\"sk-label sk-toggleable\"><input class=\"sk-toggleable__control sk-hidden--visually\" id=\"sk-estimator-id-69\" type=\"checkbox\" ><label for=\"sk-estimator-id-69\" class=\"sk-toggleable__label sk-toggleable__label-arrow\">cat</label><div class=\"sk-toggleable__content\"><pre>[&#x27;store_and_fwd_flag&#x27;, &#x27;payment_type&#x27;]</pre></div></div></div><div class=\"sk-serial\"><div class=\"sk-item\"><div class=\"sk-serial\"><div class=\"sk-item\"><div class=\"sk-estimator sk-toggleable\"><input class=\"sk-toggleable__control sk-hidden--visually\" id=\"sk-estimator-id-70\" type=\"checkbox\" ><label for=\"sk-estimator-id-70\" class=\"sk-toggleable__label sk-toggleable__label-arrow\">SimpleImputer</label><div class=\"sk-toggleable__content\"><pre>SimpleImputer(strategy=&#x27;most_frequent&#x27;)</pre></div></div></div><div class=\"sk-item\"><div class=\"sk-estimator sk-toggleable\"><input class=\"sk-toggleable__control sk-hidden--visually\" id=\"sk-estimator-id-71\" type=\"checkbox\" ><label for=\"sk-estimator-id-71\" class=\"sk-toggleable__label sk-toggleable__label-arrow\">OneHotEncoder</label><div class=\"sk-toggleable__content\"><pre>OneHotEncoder(handle_unknown=&#x27;ignore&#x27;, sparse=False)</pre></div></div></div></div></div></div></div></div></div></div><div class=\"sk-item\"><div class=\"sk-estimator sk-toggleable\"><input class=\"sk-toggleable__control sk-hidden--visually\" id=\"sk-estimator-id-72\" type=\"checkbox\" ><label for=\"sk-estimator-id-72\" class=\"sk-toggleable__label sk-toggleable__label-arrow\">AdaBoostRegressor</label><div class=\"sk-toggleable__content\"><pre>AdaBoostRegressor(random_state=48)</pre></div></div></div></div></div></div></div>"
      ],
      "text/plain": [
       "Pipeline(steps=[('preprocessor',\n",
       "                 ColumnTransformer(transformers=[('num',\n",
       "                                                  Pipeline(steps=[('imputer',\n",
       "                                                                   SimpleImputer(strategy='median')),\n",
       "                                                                  ('scaler',\n",
       "                                                                   StandardScaler())]),\n",
       "                                                  ['VendorID',\n",
       "                                                   'passenger_count',\n",
       "                                                   'trip_distance',\n",
       "                                                   'RatecodeID', 'PULocationID',\n",
       "                                                   'DOLocationID', 'extra',\n",
       "                                                   'tip_amount', 'tolls_amount',\n",
       "                                                   'improvement_surcharge',\n",
       "                                                   'congestion_surcharge',\n",
       "                                                   'Airport_fee', 'pickup_day',\n",
       "                                                   'pickup_hour',\n",
       "                                                   'trip_duration_minutes']),\n",
       "                                                 ('cat',\n",
       "                                                  Pipeline(steps=[('imputer',\n",
       "                                                                   SimpleImputer(strategy='most_frequent')),\n",
       "                                                                  ('onehot',\n",
       "                                                                   OneHotEncoder(handle_unknown='ignore',\n",
       "                                                                                 sparse=False))]),\n",
       "                                                  ['store_and_fwd_flag',\n",
       "                                                   'payment_type'])])),\n",
       "                ('regressor', AdaBoostRegressor(random_state=48))])"
      ]
     },
     "execution_count": 47,
     "metadata": {},
     "output_type": "execute_result"
    }
   ],
   "source": [
    "# AdaBoost Regressor \n",
    "adb_reg = Pipeline(steps=[('preprocessor', preprocessor),\n",
    "                            ('regressor', AdaBoostRegressor(random_state=48))])\n",
    "# Fitting the model\n",
    "adb_reg.fit(X_train, y_train)"
   ]
  },
  {
   "cell_type": "code",
   "execution_count": 48,
   "id": "c5f40cb2",
   "metadata": {
    "execution": {
     "iopub.execute_input": "2024-01-09T10:48:09.574725Z",
     "iopub.status.busy": "2024-01-09T10:48:09.573824Z",
     "iopub.status.idle": "2024-01-09T10:48:09.715035Z",
     "shell.execute_reply": "2024-01-09T10:48:09.713916Z"
    },
    "papermill": {
     "duration": 0.18312,
     "end_time": "2024-01-09T10:48:09.717449",
     "exception": false,
     "start_time": "2024-01-09T10:48:09.534329",
     "status": "completed"
    },
    "tags": []
   },
   "outputs": [
    {
     "name": "stdout",
     "output_type": "stream",
     "text": [
      "R-squared (R2) Score from AdaBoost Regressor: 0.5408625000727006\n"
     ]
    }
   ],
   "source": [
    "#R2 Score on X_test\n",
    "y_pred = adb_reg.predict(X_test)\n",
    "\n",
    "r_squared = r2_score(y_test, y_pred)\n",
    "print(f'R-squared (R2) Score from AdaBoost Regressor: {r_squared}')"
   ]
  },
  {
   "cell_type": "markdown",
   "id": "49e9f29b",
   "metadata": {
    "papermill": {
     "duration": 0.037852,
     "end_time": "2024-01-09T10:48:09.793542",
     "exception": false,
     "start_time": "2024-01-09T10:48:09.755690",
     "status": "completed"
    },
    "tags": []
   },
   "source": [
    "**Model 8. XGBoost Regressor**"
   ]
  },
  {
   "cell_type": "code",
   "execution_count": 49,
   "id": "7cf34d76",
   "metadata": {
    "execution": {
     "iopub.execute_input": "2024-01-09T10:48:09.874455Z",
     "iopub.status.busy": "2024-01-09T10:48:09.874091Z",
     "iopub.status.idle": "2024-01-09T10:48:09.879049Z",
     "shell.execute_reply": "2024-01-09T10:48:09.878030Z"
    },
    "papermill": {
     "duration": 0.049082,
     "end_time": "2024-01-09T10:48:09.881381",
     "exception": false,
     "start_time": "2024-01-09T10:48:09.832299",
     "status": "completed"
    },
    "tags": []
   },
   "outputs": [],
   "source": [
    "# # XGBoost Regressor \n",
    "# xgb_reg = Pipeline(steps=[('preprocessor', preprocessor),\n",
    "#                             ('regressor', XGBRegressor(random_state=48))])\n",
    "\n",
    "# # XGBoost with GridSearch CV\n",
    "# param_grid = {\n",
    "#     'regressor__n_estimators': [100, 200, 300],   \n",
    "#     'regressor__learning_rate': [0.01, 0.1, 0.2],  \n",
    "#     'regressor__max_depth': [3, 4, 5],          \n",
    "#     'regressor__subsample': [0.8, 0.9, 1.0],    \n",
    "#     'regressor__colsample_bytree': [0.8, 0.9, 1.0] \n",
    "# }\n",
    "\n",
    "\n",
    "# grid_search = GridSearchCV(estimator=xgb_reg, param_grid=param_grid, cv=3, n_jobs=-1, scoring='r2')\n",
    "\n",
    "\n",
    "# # Fitting the model\n",
    "# grid_search.fit(X_train, y_train)"
   ]
  },
  {
   "cell_type": "code",
   "execution_count": 50,
   "id": "de3b22c0",
   "metadata": {
    "execution": {
     "iopub.execute_input": "2024-01-09T10:48:09.959134Z",
     "iopub.status.busy": "2024-01-09T10:48:09.958554Z",
     "iopub.status.idle": "2024-01-09T10:48:09.963645Z",
     "shell.execute_reply": "2024-01-09T10:48:09.962719Z"
    },
    "papermill": {
     "duration": 0.045696,
     "end_time": "2024-01-09T10:48:09.965783",
     "exception": false,
     "start_time": "2024-01-09T10:48:09.920087",
     "status": "completed"
    },
    "tags": []
   },
   "outputs": [],
   "source": [
    "# #R2 Score on X_test\n",
    "# y_pred = best_xgb_reg.predict(X_test)\n",
    "\n",
    "# r_squared = r2_score(y_test, y_pred)\n",
    "# print(\"Best Hyperparameters:\", grid_search.best_params_)\n",
    "# print(f'R-squared (R2) Score from XGBoost Regressor: {r_squared}')"
   ]
  },
  {
   "attachments": {
    "52814b7b-b30c-41dc-9342-8caf2cadf3e4.png": {
     "image/png": "[encoded data removed]"
    }
   },
   "cell_type": "markdown",
   "id": "3d39e970",
   "metadata": {
    "papermill": {
     "duration": 0.037645,
     "end_time": "2024-01-09T10:48:10.041659",
     "exception": false,
     "start_time": "2024-01-09T10:48:10.004014",
     "status": "completed"
    },
    "tags": []
   },
   "source": [
    "**XGB MODEL TRAINING AND PREDICTION ON BEST HYPERPARAMETERS**\n",
    "\n",
    "![Screenshot 2023-11-11 001746.png](attachment:52814b7b-b30c-41dc-9342-8caf2cadf3e4.png)"
   ]
  },
  {
   "cell_type": "code",
   "execution_count": 51,
   "id": "9931b280",
   "metadata": {
    "execution": {
     "iopub.execute_input": "2024-01-09T10:48:10.117945Z",
     "iopub.status.busy": "2024-01-09T10:48:10.117586Z",
     "iopub.status.idle": "2024-01-09T10:48:34.088155Z",
     "shell.execute_reply": "2024-01-09T10:48:34.087030Z"
    },
    "papermill": {
     "duration": 24.012055,
     "end_time": "2024-01-09T10:48:34.090852",
     "exception": false,
     "start_time": "2024-01-09T10:48:10.078797",
     "status": "completed"
    },
    "tags": []
   },
   "outputs": [
    {
     "name": "stderr",
     "output_type": "stream",
     "text": [
      "/opt/conda/lib/python3.10/site-packages/sklearn/preprocessing/_encoders.py:868: FutureWarning: `sparse` was renamed to `sparse_output` in version 1.2 and will be removed in 1.4. `sparse_output` is ignored unless you leave `sparse` to its default value.\n",
      "  warnings.warn(\n"
     ]
    },
    {
     "data": {
      "text/html": [
       "<style>#sk-container-id-9 {color: black;background-color: white;}#sk-container-id-9 pre{padding: 0;}#sk-container-id-9 div.sk-toggleable {background-color: white;}#sk-container-id-9 label.sk-toggleable__label {cursor: pointer;display: block;width: 100%;margin-bottom: 0;padding: 0.3em;box-sizing: border-box;text-align: center;}#sk-container-id-9 label.sk-toggleable__label-arrow:before {content: \"▸\";float: left;margin-right: 0.25em;color: #696969;}#sk-container-id-9 label.sk-toggleable__label-arrow:hover:before {color: black;}#sk-container-id-9 div.sk-estimator:hover label.sk-toggleable__label-arrow:before {color: black;}#sk-container-id-9 div.sk-toggleable__content {max-height: 0;max-width: 0;overflow: hidden;text-align: left;background-color: #f0f8ff;}#sk-container-id-9 div.sk-toggleable__content pre {margin: 0.2em;color: black;border-radius: 0.25em;background-color: #f0f8ff;}#sk-container-id-9 input.sk-toggleable__control:checked~div.sk-toggleable__content {max-height: 200px;max-width: 100%;overflow: auto;}#sk-container-id-9 input.sk-toggleable__control:checked~label.sk-toggleable__label-arrow:before {content: \"▾\";}#sk-container-id-9 div.sk-estimator input.sk-toggleable__control:checked~label.sk-toggleable__label {background-color: #d4ebff;}#sk-container-id-9 div.sk-label input.sk-toggleable__control:checked~label.sk-toggleable__label {background-color: #d4ebff;}#sk-container-id-9 input.sk-hidden--visually {border: 0;clip: rect(1px 1px 1px 1px);clip: rect(1px, 1px, 1px, 1px);height: 1px;margin: -1px;overflow: hidden;padding: 0;position: absolute;width: 1px;}#sk-container-id-9 div.sk-estimator {font-family: monospace;background-color: #f0f8ff;border: 1px dotted black;border-radius: 0.25em;box-sizing: border-box;margin-bottom: 0.5em;}#sk-container-id-9 div.sk-estimator:hover {background-color: #d4ebff;}#sk-container-id-9 div.sk-parallel-item::after {content: \"\";width: 100%;border-bottom: 1px solid gray;flex-grow: 1;}#sk-container-id-9 div.sk-label:hover label.sk-toggleable__label {background-color: #d4ebff;}#sk-container-id-9 div.sk-serial::before {content: \"\";position: absolute;border-left: 1px solid gray;box-sizing: border-box;top: 0;bottom: 0;left: 50%;z-index: 0;}#sk-container-id-9 div.sk-serial {display: flex;flex-direction: column;align-items: center;background-color: white;padding-right: 0.2em;padding-left: 0.2em;position: relative;}#sk-container-id-9 div.sk-item {position: relative;z-index: 1;}#sk-container-id-9 div.sk-parallel {display: flex;align-items: stretch;justify-content: center;background-color: white;position: relative;}#sk-container-id-9 div.sk-item::before, #sk-container-id-9 div.sk-parallel-item::before {content: \"\";position: absolute;border-left: 1px solid gray;box-sizing: border-box;top: 0;bottom: 0;left: 50%;z-index: -1;}#sk-container-id-9 div.sk-parallel-item {display: flex;flex-direction: column;z-index: 1;position: relative;background-color: white;}#sk-container-id-9 div.sk-parallel-item:first-child::after {align-self: flex-end;width: 50%;}#sk-container-id-9 div.sk-parallel-item:last-child::after {align-self: flex-start;width: 50%;}#sk-container-id-9 div.sk-parallel-item:only-child::after {width: 0;}#sk-container-id-9 div.sk-dashed-wrapped {border: 1px dashed gray;margin: 0 0.4em 0.5em 0.4em;box-sizing: border-box;padding-bottom: 0.4em;background-color: white;}#sk-container-id-9 div.sk-label label {font-family: monospace;font-weight: bold;display: inline-block;line-height: 1.2em;}#sk-container-id-9 div.sk-label-container {text-align: center;}#sk-container-id-9 div.sk-container {/* jupyter's `normalize.less` sets `[hidden] { display: none; }` but bootstrap.min.css set `[hidden] { display: none !important; }` so we also need the `!important` here to be able to override the default hidden behavior on the sphinx rendered scikit-learn.org. See: https://github.com/scikit-learn/scikit-learn/issues/21755 */display: inline-block !important;position: relative;}#sk-container-id-9 div.sk-text-repr-fallback {display: none;}</style><div id=\"sk-container-id-9\" class=\"sk-top-container\"><div class=\"sk-text-repr-fallback\"><pre>Pipeline(steps=[(&#x27;preprocessor&#x27;,\n",
       "                 ColumnTransformer(transformers=[(&#x27;num&#x27;,\n",
       "                                                  Pipeline(steps=[(&#x27;imputer&#x27;,\n",
       "                                                                   SimpleImputer(strategy=&#x27;median&#x27;)),\n",
       "                                                                  (&#x27;scaler&#x27;,\n",
       "                                                                   StandardScaler())]),\n",
       "                                                  [&#x27;VendorID&#x27;,\n",
       "                                                   &#x27;passenger_count&#x27;,\n",
       "                                                   &#x27;trip_distance&#x27;,\n",
       "                                                   &#x27;RatecodeID&#x27;, &#x27;PULocationID&#x27;,\n",
       "                                                   &#x27;DOLocationID&#x27;, &#x27;extra&#x27;,\n",
       "                                                   &#x27;tip_amount&#x27;, &#x27;tolls_amount&#x27;,\n",
       "                                                   &#x27;improvement_surcharge&#x27;,\n",
       "                                                   &#x27;congestion_surcharge&#x27;,\n",
       "                                                   &#x27;Airport_fee&#x27;, &#x27;p...\n",
       "                              feature_types=None, gamma=None, gpu_id=None,\n",
       "                              grow_policy=None, importance_type=None,\n",
       "                              interaction_constraints=None, learning_rate=0.1,\n",
       "                              max_bin=None, max_cat_threshold=None,\n",
       "                              max_cat_to_onehot=None, max_delta_step=None,\n",
       "                              max_depth=5, max_leaves=None,\n",
       "                              min_child_weight=None, missing=nan,\n",
       "                              monotone_constraints=None, n_estimators=300,\n",
       "                              n_jobs=None, num_parallel_tree=None,\n",
       "                              predictor=None, random_state=48, ...))])</pre><b>In a Jupyter environment, please rerun this cell to show the HTML representation or trust the notebook. <br />On GitHub, the HTML representation is unable to render, please try loading this page with nbviewer.org.</b></div><div class=\"sk-container\" hidden><div class=\"sk-item sk-dashed-wrapped\"><div class=\"sk-label-container\"><div class=\"sk-label sk-toggleable\"><input class=\"sk-toggleable__control sk-hidden--visually\" id=\"sk-estimator-id-73\" type=\"checkbox\" ><label for=\"sk-estimator-id-73\" class=\"sk-toggleable__label sk-toggleable__label-arrow\">Pipeline</label><div class=\"sk-toggleable__content\"><pre>Pipeline(steps=[(&#x27;preprocessor&#x27;,\n",
       "                 ColumnTransformer(transformers=[(&#x27;num&#x27;,\n",
       "                                                  Pipeline(steps=[(&#x27;imputer&#x27;,\n",
       "                                                                   SimpleImputer(strategy=&#x27;median&#x27;)),\n",
       "                                                                  (&#x27;scaler&#x27;,\n",
       "                                                                   StandardScaler())]),\n",
       "                                                  [&#x27;VendorID&#x27;,\n",
       "                                                   &#x27;passenger_count&#x27;,\n",
       "                                                   &#x27;trip_distance&#x27;,\n",
       "                                                   &#x27;RatecodeID&#x27;, &#x27;PULocationID&#x27;,\n",
       "                                                   &#x27;DOLocationID&#x27;, &#x27;extra&#x27;,\n",
       "                                                   &#x27;tip_amount&#x27;, &#x27;tolls_amount&#x27;,\n",
       "                                                   &#x27;improvement_surcharge&#x27;,\n",
       "                                                   &#x27;congestion_surcharge&#x27;,\n",
       "                                                   &#x27;Airport_fee&#x27;, &#x27;p...\n",
       "                              feature_types=None, gamma=None, gpu_id=None,\n",
       "                              grow_policy=None, importance_type=None,\n",
       "                              interaction_constraints=None, learning_rate=0.1,\n",
       "                              max_bin=None, max_cat_threshold=None,\n",
       "                              max_cat_to_onehot=None, max_delta_step=None,\n",
       "                              max_depth=5, max_leaves=None,\n",
       "                              min_child_weight=None, missing=nan,\n",
       "                              monotone_constraints=None, n_estimators=300,\n",
       "                              n_jobs=None, num_parallel_tree=None,\n",
       "                              predictor=None, random_state=48, ...))])</pre></div></div></div><div class=\"sk-serial\"><div class=\"sk-item sk-dashed-wrapped\"><div class=\"sk-label-container\"><div class=\"sk-label sk-toggleable\"><input class=\"sk-toggleable__control sk-hidden--visually\" id=\"sk-estimator-id-74\" type=\"checkbox\" ><label for=\"sk-estimator-id-74\" class=\"sk-toggleable__label sk-toggleable__label-arrow\">preprocessor: ColumnTransformer</label><div class=\"sk-toggleable__content\"><pre>ColumnTransformer(transformers=[(&#x27;num&#x27;,\n",
       "                                 Pipeline(steps=[(&#x27;imputer&#x27;,\n",
       "                                                  SimpleImputer(strategy=&#x27;median&#x27;)),\n",
       "                                                 (&#x27;scaler&#x27;, StandardScaler())]),\n",
       "                                 [&#x27;VendorID&#x27;, &#x27;passenger_count&#x27;,\n",
       "                                  &#x27;trip_distance&#x27;, &#x27;RatecodeID&#x27;, &#x27;PULocationID&#x27;,\n",
       "                                  &#x27;DOLocationID&#x27;, &#x27;extra&#x27;, &#x27;tip_amount&#x27;,\n",
       "                                  &#x27;tolls_amount&#x27;, &#x27;improvement_surcharge&#x27;,\n",
       "                                  &#x27;congestion_surcharge&#x27;, &#x27;Airport_fee&#x27;,\n",
       "                                  &#x27;pickup_day&#x27;, &#x27;pickup_hour&#x27;,\n",
       "                                  &#x27;trip_duration_minutes&#x27;]),\n",
       "                                (&#x27;cat&#x27;,\n",
       "                                 Pipeline(steps=[(&#x27;imputer&#x27;,\n",
       "                                                  SimpleImputer(strategy=&#x27;most_frequent&#x27;)),\n",
       "                                                 (&#x27;onehot&#x27;,\n",
       "                                                  OneHotEncoder(handle_unknown=&#x27;ignore&#x27;,\n",
       "                                                                sparse=False))]),\n",
       "                                 [&#x27;store_and_fwd_flag&#x27;, &#x27;payment_type&#x27;])])</pre></div></div></div><div class=\"sk-parallel\"><div class=\"sk-parallel-item\"><div class=\"sk-item\"><div class=\"sk-label-container\"><div class=\"sk-label sk-toggleable\"><input class=\"sk-toggleable__control sk-hidden--visually\" id=\"sk-estimator-id-75\" type=\"checkbox\" ><label for=\"sk-estimator-id-75\" class=\"sk-toggleable__label sk-toggleable__label-arrow\">num</label><div class=\"sk-toggleable__content\"><pre>[&#x27;VendorID&#x27;, &#x27;passenger_count&#x27;, &#x27;trip_distance&#x27;, &#x27;RatecodeID&#x27;, &#x27;PULocationID&#x27;, &#x27;DOLocationID&#x27;, &#x27;extra&#x27;, &#x27;tip_amount&#x27;, &#x27;tolls_amount&#x27;, &#x27;improvement_surcharge&#x27;, &#x27;congestion_surcharge&#x27;, &#x27;Airport_fee&#x27;, &#x27;pickup_day&#x27;, &#x27;pickup_hour&#x27;, &#x27;trip_duration_minutes&#x27;]</pre></div></div></div><div class=\"sk-serial\"><div class=\"sk-item\"><div class=\"sk-serial\"><div class=\"sk-item\"><div class=\"sk-estimator sk-toggleable\"><input class=\"sk-toggleable__control sk-hidden--visually\" id=\"sk-estimator-id-76\" type=\"checkbox\" ><label for=\"sk-estimator-id-76\" class=\"sk-toggleable__label sk-toggleable__label-arrow\">SimpleImputer</label><div class=\"sk-toggleable__content\"><pre>SimpleImputer(strategy=&#x27;median&#x27;)</pre></div></div></div><div class=\"sk-item\"><div class=\"sk-estimator sk-toggleable\"><input class=\"sk-toggleable__control sk-hidden--visually\" id=\"sk-estimator-id-77\" type=\"checkbox\" ><label for=\"sk-estimator-id-77\" class=\"sk-toggleable__label sk-toggleable__label-arrow\">StandardScaler</label><div class=\"sk-toggleable__content\"><pre>StandardScaler()</pre></div></div></div></div></div></div></div></div><div class=\"sk-parallel-item\"><div class=\"sk-item\"><div class=\"sk-label-container\"><div class=\"sk-label sk-toggleable\"><input class=\"sk-toggleable__control sk-hidden--visually\" id=\"sk-estimator-id-78\" type=\"checkbox\" ><label for=\"sk-estimator-id-78\" class=\"sk-toggleable__label sk-toggleable__label-arrow\">cat</label><div class=\"sk-toggleable__content\"><pre>[&#x27;store_and_fwd_flag&#x27;, &#x27;payment_type&#x27;]</pre></div></div></div><div class=\"sk-serial\"><div class=\"sk-item\"><div class=\"sk-serial\"><div class=\"sk-item\"><div class=\"sk-estimator sk-toggleable\"><input class=\"sk-toggleable__control sk-hidden--visually\" id=\"sk-estimator-id-79\" type=\"checkbox\" ><label for=\"sk-estimator-id-79\" class=\"sk-toggleable__label sk-toggleable__label-arrow\">SimpleImputer</label><div class=\"sk-toggleable__content\"><pre>SimpleImputer(strategy=&#x27;most_frequent&#x27;)</pre></div></div></div><div class=\"sk-item\"><div class=\"sk-estimator sk-toggleable\"><input class=\"sk-toggleable__control sk-hidden--visually\" id=\"sk-estimator-id-80\" type=\"checkbox\" ><label for=\"sk-estimator-id-80\" class=\"sk-toggleable__label sk-toggleable__label-arrow\">OneHotEncoder</label><div class=\"sk-toggleable__content\"><pre>OneHotEncoder(handle_unknown=&#x27;ignore&#x27;, sparse=False)</pre></div></div></div></div></div></div></div></div></div></div><div class=\"sk-item\"><div class=\"sk-estimator sk-toggleable\"><input class=\"sk-toggleable__control sk-hidden--visually\" id=\"sk-estimator-id-81\" type=\"checkbox\" ><label for=\"sk-estimator-id-81\" class=\"sk-toggleable__label sk-toggleable__label-arrow\">XGBRegressor</label><div class=\"sk-toggleable__content\"><pre>XGBRegressor(base_score=None, booster=None, callbacks=None,\n",
       "             colsample_bylevel=None, colsample_bynode=None,\n",
       "             colsample_bytree=0.8, early_stopping_rounds=None,\n",
       "             enable_categorical=False, eval_metric=None, feature_types=None,\n",
       "             gamma=None, gpu_id=None, grow_policy=None, importance_type=None,\n",
       "             interaction_constraints=None, learning_rate=0.1, max_bin=None,\n",
       "             max_cat_threshold=None, max_cat_to_onehot=None,\n",
       "             max_delta_step=None, max_depth=5, max_leaves=None,\n",
       "             min_child_weight=None, missing=nan, monotone_constraints=None,\n",
       "             n_estimators=300, n_jobs=None, num_parallel_tree=None,\n",
       "             predictor=None, random_state=48, ...)</pre></div></div></div></div></div></div></div>"
      ],
      "text/plain": [
       "Pipeline(steps=[('preprocessor',\n",
       "                 ColumnTransformer(transformers=[('num',\n",
       "                                                  Pipeline(steps=[('imputer',\n",
       "                                                                   SimpleImputer(strategy='median')),\n",
       "                                                                  ('scaler',\n",
       "                                                                   StandardScaler())]),\n",
       "                                                  ['VendorID',\n",
       "                                                   'passenger_count',\n",
       "                                                   'trip_distance',\n",
       "                                                   'RatecodeID', 'PULocationID',\n",
       "                                                   'DOLocationID', 'extra',\n",
       "                                                   'tip_amount', 'tolls_amount',\n",
       "                                                   'improvement_surcharge',\n",
       "                                                   'congestion_surcharge',\n",
       "                                                   'Airport_fee', 'p...\n",
       "                              feature_types=None, gamma=None, gpu_id=None,\n",
       "                              grow_policy=None, importance_type=None,\n",
       "                              interaction_constraints=None, learning_rate=0.1,\n",
       "                              max_bin=None, max_cat_threshold=None,\n",
       "                              max_cat_to_onehot=None, max_delta_step=None,\n",
       "                              max_depth=5, max_leaves=None,\n",
       "                              min_child_weight=None, missing=nan,\n",
       "                              monotone_constraints=None, n_estimators=300,\n",
       "                              n_jobs=None, num_parallel_tree=None,\n",
       "                              predictor=None, random_state=48, ...))])"
      ]
     },
     "execution_count": 51,
     "metadata": {},
     "output_type": "execute_result"
    }
   ],
   "source": [
    "#Prediction on best hyperparameters (XGB Regressor)\n",
    "\n",
    "best_xgb_reg_gs = Pipeline(steps=[('preprocessor', preprocessor),\n",
    "                                     ('regressor', XGBRegressor(learning_rate = 0.1, max_depth = 5,\n",
    "                                                                colsample_bytree = 0.8, subsample = 1.0,\n",
    "                                                                            n_estimators = 300, random_state=48))])\n",
    "\n",
    "# Fitting the model\n",
    "best_xgb_reg_gs.fit(X_train, y_train)"
   ]
  },
  {
   "cell_type": "code",
   "execution_count": 52,
   "id": "4fc08cfb",
   "metadata": {
    "execution": {
     "iopub.execute_input": "2024-01-09T10:48:34.175546Z",
     "iopub.status.busy": "2024-01-09T10:48:34.174561Z",
     "iopub.status.idle": "2024-01-09T10:48:34.317418Z",
     "shell.execute_reply": "2024-01-09T10:48:34.316551Z"
    },
    "papermill": {
     "duration": 0.187636,
     "end_time": "2024-01-09T10:48:34.319785",
     "exception": false,
     "start_time": "2024-01-09T10:48:34.132149",
     "status": "completed"
    },
    "tags": []
   },
   "outputs": [
    {
     "name": "stdout",
     "output_type": "stream",
     "text": [
      "R-squared (R2) Score from Best XGBoost Regressor using GridSearchCV: 0.9514955825009194\n"
     ]
    }
   ],
   "source": [
    "#R2 Score on X_test\n",
    "y_pred_xgb = best_xgb_reg_gs.predict(X_test)\n",
    "\n",
    "r_squared = r2_score(y_test, y_pred_xgb)\n",
    "\n",
    "print(f'R-squared (R2) Score from Best XGBoost Regressor using GridSearchCV: {r_squared}')"
   ]
  },
  {
   "cell_type": "markdown",
   "id": "d3e77e2d",
   "metadata": {
    "papermill": {
     "duration": 0.041239,
     "end_time": "2024-01-09T10:48:34.403088",
     "exception": false,
     "start_time": "2024-01-09T10:48:34.361849",
     "status": "completed"
    },
    "tags": []
   },
   "source": [
    "**Hyperparameter Tuning for XGB Regressor using RandomizedSearchCV**"
   ]
  },
  {
   "cell_type": "code",
   "execution_count": 53,
   "id": "4283c9a3",
   "metadata": {
    "execution": {
     "iopub.execute_input": "2024-01-09T10:48:34.486021Z",
     "iopub.status.busy": "2024-01-09T10:48:34.485624Z",
     "iopub.status.idle": "2024-01-09T10:48:34.491413Z",
     "shell.execute_reply": "2024-01-09T10:48:34.490355Z"
    },
    "papermill": {
     "duration": 0.049815,
     "end_time": "2024-01-09T10:48:34.493757",
     "exception": false,
     "start_time": "2024-01-09T10:48:34.443942",
     "status": "completed"
    },
    "tags": []
   },
   "outputs": [],
   "source": [
    "# # XGB Regressor Using Randomized Search CV\n",
    "\n",
    "# from sklearn.model_selection import RandomizedSearchCV\n",
    "\n",
    "# params = {\n",
    "#     'regressor__n_estimators': np.arange(100, 1000, 50),  \n",
    "#     'regressor__learning_rate': [0.01, 0.1, 0.2],  \n",
    "#     'regressor__max_depth': np.arange(5, 10, 1),  \n",
    "#     'regressor__subsample': [0.8, 0.9, 1.0],\n",
    "#     'regressor__colsample_bytree': [0.8, 0.9, 1.0],  \n",
    "#     'regressor__reg_alpha': [0.001, 0.01, 0.1],  \n",
    "#     'regressor__reg_lambda': [0.001, 0.01, 0.1]  \n",
    "# }\n",
    "\n",
    "# xgb_reg_rscv = Pipeline(steps=[('preprocessor', preprocessor),\n",
    "#                             ('regressor', XGBRegressor(random_state=48))])\n",
    "\n",
    "\n",
    "# random_search = RandomizedSearchCV(estimator=xgb_reg_rscv, param_distributions=params, n_iter=50, verbose=2,\n",
    "#                                    cv=3, n_jobs=-1, scoring='r2', random_state=48)\n",
    "\n",
    "# # Fitting the model\n",
    "# random_search.fit(X_train, y_train)"
   ]
  },
  {
   "cell_type": "code",
   "execution_count": 54,
   "id": "63d33f82",
   "metadata": {
    "execution": {
     "iopub.execute_input": "2024-01-09T10:48:34.578005Z",
     "iopub.status.busy": "2024-01-09T10:48:34.577574Z",
     "iopub.status.idle": "2024-01-09T10:48:34.582475Z",
     "shell.execute_reply": "2024-01-09T10:48:34.581407Z"
    },
    "papermill": {
     "duration": 0.049794,
     "end_time": "2024-01-09T10:48:34.584781",
     "exception": false,
     "start_time": "2024-01-09T10:48:34.534987",
     "status": "completed"
    },
    "tags": []
   },
   "outputs": [],
   "source": [
    "# #R2 Score on X_test\n",
    "# y_pred_rscv_xgb = random_search.predict(X_test)\n",
    "\n",
    "# r_squared = r2_score(y_test, y_pred_rscv_xgb)\n",
    "# print(\"Best Hyperparameters:\", random_search.best_params_)\n",
    "# print(f'R-squared (R2) Score from XGBoost Regressor: {r_squared}')"
   ]
  },
  {
   "cell_type": "markdown",
   "id": "32a03430",
   "metadata": {
    "papermill": {
     "duration": 0.042135,
     "end_time": "2024-01-09T10:48:34.669057",
     "exception": false,
     "start_time": "2024-01-09T10:48:34.626922",
     "status": "completed"
    },
    "tags": []
   },
   "source": [
    "* R2 Score on XGB Regressor using RandomizedSearchCV = 0.9508985200053464"
   ]
  },
  {
   "attachments": {
    "a6d3b02f-fefd-4eca-abde-8c4bb0c2b805.png": {
     "image/png": "[encoded data removed]"
    }
   },
   "cell_type": "markdown",
   "id": "4241ecf1",
   "metadata": {
    "papermill": {
     "duration": 0.040741,
     "end_time": "2024-01-09T10:48:34.751380",
     "exception": false,
     "start_time": "2024-01-09T10:48:34.710639",
     "status": "completed"
    },
    "tags": []
   },
   "source": [
    "**PREDICTION ON BEST HYPERPARAMETERS (XGB USING RS CV)**\n",
    "![Screenshot 2023-11-14 223536.png](attachment:a6d3b02f-fefd-4eca-abde-8c4bb0c2b805.png)"
   ]
  },
  {
   "cell_type": "code",
   "execution_count": 55,
   "id": "65166020",
   "metadata": {
    "execution": {
     "iopub.execute_input": "2024-01-09T10:48:34.842170Z",
     "iopub.status.busy": "2024-01-09T10:48:34.840876Z",
     "iopub.status.idle": "2024-01-09T10:50:33.228927Z",
     "shell.execute_reply": "2024-01-09T10:50:33.227663Z"
    },
    "papermill": {
     "duration": 118.480548,
     "end_time": "2024-01-09T10:50:33.274986",
     "exception": false,
     "start_time": "2024-01-09T10:48:34.794438",
     "status": "completed"
    },
    "tags": []
   },
   "outputs": [
    {
     "name": "stderr",
     "output_type": "stream",
     "text": [
      "/opt/conda/lib/python3.10/site-packages/sklearn/preprocessing/_encoders.py:868: FutureWarning: `sparse` was renamed to `sparse_output` in version 1.2 and will be removed in 1.4. `sparse_output` is ignored unless you leave `sparse` to its default value.\n",
      "  warnings.warn(\n"
     ]
    },
    {
     "data": {
      "text/html": [
       "<style>#sk-container-id-10 {color: black;background-color: white;}#sk-container-id-10 pre{padding: 0;}#sk-container-id-10 div.sk-toggleable {background-color: white;}#sk-container-id-10 label.sk-toggleable__label {cursor: pointer;display: block;width: 100%;margin-bottom: 0;padding: 0.3em;box-sizing: border-box;text-align: center;}#sk-container-id-10 label.sk-toggleable__label-arrow:before {content: \"▸\";float: left;margin-right: 0.25em;color: #696969;}#sk-container-id-10 label.sk-toggleable__label-arrow:hover:before {color: black;}#sk-container-id-10 div.sk-estimator:hover label.sk-toggleable__label-arrow:before {color: black;}#sk-container-id-10 div.sk-toggleable__content {max-height: 0;max-width: 0;overflow: hidden;text-align: left;background-color: #f0f8ff;}#sk-container-id-10 div.sk-toggleable__content pre {margin: 0.2em;color: black;border-radius: 0.25em;background-color: #f0f8ff;}#sk-container-id-10 input.sk-toggleable__control:checked~div.sk-toggleable__content {max-height: 200px;max-width: 100%;overflow: auto;}#sk-container-id-10 input.sk-toggleable__control:checked~label.sk-toggleable__label-arrow:before {content: \"▾\";}#sk-container-id-10 div.sk-estimator input.sk-toggleable__control:checked~label.sk-toggleable__label {background-color: #d4ebff;}#sk-container-id-10 div.sk-label input.sk-toggleable__control:checked~label.sk-toggleable__label {background-color: #d4ebff;}#sk-container-id-10 input.sk-hidden--visually {border: 0;clip: rect(1px 1px 1px 1px);clip: rect(1px, 1px, 1px, 1px);height: 1px;margin: -1px;overflow: hidden;padding: 0;position: absolute;width: 1px;}#sk-container-id-10 div.sk-estimator {font-family: monospace;background-color: #f0f8ff;border: 1px dotted black;border-radius: 0.25em;box-sizing: border-box;margin-bottom: 0.5em;}#sk-container-id-10 div.sk-estimator:hover {background-color: #d4ebff;}#sk-container-id-10 div.sk-parallel-item::after {content: \"\";width: 100%;border-bottom: 1px solid gray;flex-grow: 1;}#sk-container-id-10 div.sk-label:hover label.sk-toggleable__label {background-color: #d4ebff;}#sk-container-id-10 div.sk-serial::before {content: \"\";position: absolute;border-left: 1px solid gray;box-sizing: border-box;top: 0;bottom: 0;left: 50%;z-index: 0;}#sk-container-id-10 div.sk-serial {display: flex;flex-direction: column;align-items: center;background-color: white;padding-right: 0.2em;padding-left: 0.2em;position: relative;}#sk-container-id-10 div.sk-item {position: relative;z-index: 1;}#sk-container-id-10 div.sk-parallel {display: flex;align-items: stretch;justify-content: center;background-color: white;position: relative;}#sk-container-id-10 div.sk-item::before, #sk-container-id-10 div.sk-parallel-item::before {content: \"\";position: absolute;border-left: 1px solid gray;box-sizing: border-box;top: 0;bottom: 0;left: 50%;z-index: -1;}#sk-container-id-10 div.sk-parallel-item {display: flex;flex-direction: column;z-index: 1;position: relative;background-color: white;}#sk-container-id-10 div.sk-parallel-item:first-child::after {align-self: flex-end;width: 50%;}#sk-container-id-10 div.sk-parallel-item:last-child::after {align-self: flex-start;width: 50%;}#sk-container-id-10 div.sk-parallel-item:only-child::after {width: 0;}#sk-container-id-10 div.sk-dashed-wrapped {border: 1px dashed gray;margin: 0 0.4em 0.5em 0.4em;box-sizing: border-box;padding-bottom: 0.4em;background-color: white;}#sk-container-id-10 div.sk-label label {font-family: monospace;font-weight: bold;display: inline-block;line-height: 1.2em;}#sk-container-id-10 div.sk-label-container {text-align: center;}#sk-container-id-10 div.sk-container {/* jupyter's `normalize.less` sets `[hidden] { display: none; }` but bootstrap.min.css set `[hidden] { display: none !important; }` so we also need the `!important` here to be able to override the default hidden behavior on the sphinx rendered scikit-learn.org. See: https://github.com/scikit-learn/scikit-learn/issues/21755 */display: inline-block !important;position: relative;}#sk-container-id-10 div.sk-text-repr-fallback {display: none;}</style><div id=\"sk-container-id-10\" class=\"sk-top-container\"><div class=\"sk-text-repr-fallback\"><pre>Pipeline(steps=[(&#x27;preprocessor&#x27;,\n",
       "                 ColumnTransformer(transformers=[(&#x27;num&#x27;,\n",
       "                                                  Pipeline(steps=[(&#x27;imputer&#x27;,\n",
       "                                                                   SimpleImputer(strategy=&#x27;median&#x27;)),\n",
       "                                                                  (&#x27;scaler&#x27;,\n",
       "                                                                   StandardScaler())]),\n",
       "                                                  [&#x27;VendorID&#x27;,\n",
       "                                                   &#x27;passenger_count&#x27;,\n",
       "                                                   &#x27;trip_distance&#x27;,\n",
       "                                                   &#x27;RatecodeID&#x27;, &#x27;PULocationID&#x27;,\n",
       "                                                   &#x27;DOLocationID&#x27;, &#x27;extra&#x27;,\n",
       "                                                   &#x27;tip_amount&#x27;, &#x27;tolls_amount&#x27;,\n",
       "                                                   &#x27;improvement_surcharge&#x27;,\n",
       "                                                   &#x27;congestion_surcharge&#x27;,\n",
       "                                                   &#x27;Airport_fee&#x27;, &#x27;p...\n",
       "                              feature_types=None, gamma=None, gpu_id=None,\n",
       "                              grow_policy=None, importance_type=None,\n",
       "                              interaction_constraints=None, learning_rate=0.01,\n",
       "                              max_bin=None, max_cat_threshold=None,\n",
       "                              max_cat_to_onehot=None, max_delta_step=None,\n",
       "                              max_depth=9, max_leaves=None,\n",
       "                              min_child_weight=None, missing=nan,\n",
       "                              monotone_constraints=None, n_estimators=650,\n",
       "                              n_jobs=None, num_parallel_tree=None,\n",
       "                              predictor=None, ...))])</pre><b>In a Jupyter environment, please rerun this cell to show the HTML representation or trust the notebook. <br />On GitHub, the HTML representation is unable to render, please try loading this page with nbviewer.org.</b></div><div class=\"sk-container\" hidden><div class=\"sk-item sk-dashed-wrapped\"><div class=\"sk-label-container\"><div class=\"sk-label sk-toggleable\"><input class=\"sk-toggleable__control sk-hidden--visually\" id=\"sk-estimator-id-82\" type=\"checkbox\" ><label for=\"sk-estimator-id-82\" class=\"sk-toggleable__label sk-toggleable__label-arrow\">Pipeline</label><div class=\"sk-toggleable__content\"><pre>Pipeline(steps=[(&#x27;preprocessor&#x27;,\n",
       "                 ColumnTransformer(transformers=[(&#x27;num&#x27;,\n",
       "                                                  Pipeline(steps=[(&#x27;imputer&#x27;,\n",
       "                                                                   SimpleImputer(strategy=&#x27;median&#x27;)),\n",
       "                                                                  (&#x27;scaler&#x27;,\n",
       "                                                                   StandardScaler())]),\n",
       "                                                  [&#x27;VendorID&#x27;,\n",
       "                                                   &#x27;passenger_count&#x27;,\n",
       "                                                   &#x27;trip_distance&#x27;,\n",
       "                                                   &#x27;RatecodeID&#x27;, &#x27;PULocationID&#x27;,\n",
       "                                                   &#x27;DOLocationID&#x27;, &#x27;extra&#x27;,\n",
       "                                                   &#x27;tip_amount&#x27;, &#x27;tolls_amount&#x27;,\n",
       "                                                   &#x27;improvement_surcharge&#x27;,\n",
       "                                                   &#x27;congestion_surcharge&#x27;,\n",
       "                                                   &#x27;Airport_fee&#x27;, &#x27;p...\n",
       "                              feature_types=None, gamma=None, gpu_id=None,\n",
       "                              grow_policy=None, importance_type=None,\n",
       "                              interaction_constraints=None, learning_rate=0.01,\n",
       "                              max_bin=None, max_cat_threshold=None,\n",
       "                              max_cat_to_onehot=None, max_delta_step=None,\n",
       "                              max_depth=9, max_leaves=None,\n",
       "                              min_child_weight=None, missing=nan,\n",
       "                              monotone_constraints=None, n_estimators=650,\n",
       "                              n_jobs=None, num_parallel_tree=None,\n",
       "                              predictor=None, ...))])</pre></div></div></div><div class=\"sk-serial\"><div class=\"sk-item sk-dashed-wrapped\"><div class=\"sk-label-container\"><div class=\"sk-label sk-toggleable\"><input class=\"sk-toggleable__control sk-hidden--visually\" id=\"sk-estimator-id-83\" type=\"checkbox\" ><label for=\"sk-estimator-id-83\" class=\"sk-toggleable__label sk-toggleable__label-arrow\">preprocessor: ColumnTransformer</label><div class=\"sk-toggleable__content\"><pre>ColumnTransformer(transformers=[(&#x27;num&#x27;,\n",
       "                                 Pipeline(steps=[(&#x27;imputer&#x27;,\n",
       "                                                  SimpleImputer(strategy=&#x27;median&#x27;)),\n",
       "                                                 (&#x27;scaler&#x27;, StandardScaler())]),\n",
       "                                 [&#x27;VendorID&#x27;, &#x27;passenger_count&#x27;,\n",
       "                                  &#x27;trip_distance&#x27;, &#x27;RatecodeID&#x27;, &#x27;PULocationID&#x27;,\n",
       "                                  &#x27;DOLocationID&#x27;, &#x27;extra&#x27;, &#x27;tip_amount&#x27;,\n",
       "                                  &#x27;tolls_amount&#x27;, &#x27;improvement_surcharge&#x27;,\n",
       "                                  &#x27;congestion_surcharge&#x27;, &#x27;Airport_fee&#x27;,\n",
       "                                  &#x27;pickup_day&#x27;, &#x27;pickup_hour&#x27;,\n",
       "                                  &#x27;trip_duration_minutes&#x27;]),\n",
       "                                (&#x27;cat&#x27;,\n",
       "                                 Pipeline(steps=[(&#x27;imputer&#x27;,\n",
       "                                                  SimpleImputer(strategy=&#x27;most_frequent&#x27;)),\n",
       "                                                 (&#x27;onehot&#x27;,\n",
       "                                                  OneHotEncoder(handle_unknown=&#x27;ignore&#x27;,\n",
       "                                                                sparse=False))]),\n",
       "                                 [&#x27;store_and_fwd_flag&#x27;, &#x27;payment_type&#x27;])])</pre></div></div></div><div class=\"sk-parallel\"><div class=\"sk-parallel-item\"><div class=\"sk-item\"><div class=\"sk-label-container\"><div class=\"sk-label sk-toggleable\"><input class=\"sk-toggleable__control sk-hidden--visually\" id=\"sk-estimator-id-84\" type=\"checkbox\" ><label for=\"sk-estimator-id-84\" class=\"sk-toggleable__label sk-toggleable__label-arrow\">num</label><div class=\"sk-toggleable__content\"><pre>[&#x27;VendorID&#x27;, &#x27;passenger_count&#x27;, &#x27;trip_distance&#x27;, &#x27;RatecodeID&#x27;, &#x27;PULocationID&#x27;, &#x27;DOLocationID&#x27;, &#x27;extra&#x27;, &#x27;tip_amount&#x27;, &#x27;tolls_amount&#x27;, &#x27;improvement_surcharge&#x27;, &#x27;congestion_surcharge&#x27;, &#x27;Airport_fee&#x27;, &#x27;pickup_day&#x27;, &#x27;pickup_hour&#x27;, &#x27;trip_duration_minutes&#x27;]</pre></div></div></div><div class=\"sk-serial\"><div class=\"sk-item\"><div class=\"sk-serial\"><div class=\"sk-item\"><div class=\"sk-estimator sk-toggleable\"><input class=\"sk-toggleable__control sk-hidden--visually\" id=\"sk-estimator-id-85\" type=\"checkbox\" ><label for=\"sk-estimator-id-85\" class=\"sk-toggleable__label sk-toggleable__label-arrow\">SimpleImputer</label><div class=\"sk-toggleable__content\"><pre>SimpleImputer(strategy=&#x27;median&#x27;)</pre></div></div></div><div class=\"sk-item\"><div class=\"sk-estimator sk-toggleable\"><input class=\"sk-toggleable__control sk-hidden--visually\" id=\"sk-estimator-id-86\" type=\"checkbox\" ><label for=\"sk-estimator-id-86\" class=\"sk-toggleable__label sk-toggleable__label-arrow\">StandardScaler</label><div class=\"sk-toggleable__content\"><pre>StandardScaler()</pre></div></div></div></div></div></div></div></div><div class=\"sk-parallel-item\"><div class=\"sk-item\"><div class=\"sk-label-container\"><div class=\"sk-label sk-toggleable\"><input class=\"sk-toggleable__control sk-hidden--visually\" id=\"sk-estimator-id-87\" type=\"checkbox\" ><label for=\"sk-estimator-id-87\" class=\"sk-toggleable__label sk-toggleable__label-arrow\">cat</label><div class=\"sk-toggleable__content\"><pre>[&#x27;store_and_fwd_flag&#x27;, &#x27;payment_type&#x27;]</pre></div></div></div><div class=\"sk-serial\"><div class=\"sk-item\"><div class=\"sk-serial\"><div class=\"sk-item\"><div class=\"sk-estimator sk-toggleable\"><input class=\"sk-toggleable__control sk-hidden--visually\" id=\"sk-estimator-id-88\" type=\"checkbox\" ><label for=\"sk-estimator-id-88\" class=\"sk-toggleable__label sk-toggleable__label-arrow\">SimpleImputer</label><div class=\"sk-toggleable__content\"><pre>SimpleImputer(strategy=&#x27;most_frequent&#x27;)</pre></div></div></div><div class=\"sk-item\"><div class=\"sk-estimator sk-toggleable\"><input class=\"sk-toggleable__control sk-hidden--visually\" id=\"sk-estimator-id-89\" type=\"checkbox\" ><label for=\"sk-estimator-id-89\" class=\"sk-toggleable__label sk-toggleable__label-arrow\">OneHotEncoder</label><div class=\"sk-toggleable__content\"><pre>OneHotEncoder(handle_unknown=&#x27;ignore&#x27;, sparse=False)</pre></div></div></div></div></div></div></div></div></div></div><div class=\"sk-item\"><div class=\"sk-estimator sk-toggleable\"><input class=\"sk-toggleable__control sk-hidden--visually\" id=\"sk-estimator-id-90\" type=\"checkbox\" ><label for=\"sk-estimator-id-90\" class=\"sk-toggleable__label sk-toggleable__label-arrow\">XGBRegressor</label><div class=\"sk-toggleable__content\"><pre>XGBRegressor(alpha=0.1, base_score=None, booster=None, callbacks=None,\n",
       "             colsample_bylevel=None, colsample_bynode=None,\n",
       "             colsample_bytree=0.9, early_stopping_rounds=None,\n",
       "             enable_categorical=False, eval_metric=None, feature_types=None,\n",
       "             gamma=None, gpu_id=None, grow_policy=None, importance_type=None,\n",
       "             interaction_constraints=None, learning_rate=0.01, max_bin=None,\n",
       "             max_cat_threshold=None, max_cat_to_onehot=None,\n",
       "             max_delta_step=None, max_depth=9, max_leaves=None,\n",
       "             min_child_weight=None, missing=nan, monotone_constraints=None,\n",
       "             n_estimators=650, n_jobs=None, num_parallel_tree=None,\n",
       "             predictor=None, ...)</pre></div></div></div></div></div></div></div>"
      ],
      "text/plain": [
       "Pipeline(steps=[('preprocessor',\n",
       "                 ColumnTransformer(transformers=[('num',\n",
       "                                                  Pipeline(steps=[('imputer',\n",
       "                                                                   SimpleImputer(strategy='median')),\n",
       "                                                                  ('scaler',\n",
       "                                                                   StandardScaler())]),\n",
       "                                                  ['VendorID',\n",
       "                                                   'passenger_count',\n",
       "                                                   'trip_distance',\n",
       "                                                   'RatecodeID', 'PULocationID',\n",
       "                                                   'DOLocationID', 'extra',\n",
       "                                                   'tip_amount', 'tolls_amount',\n",
       "                                                   'improvement_surcharge',\n",
       "                                                   'congestion_surcharge',\n",
       "                                                   'Airport_fee', 'p...\n",
       "                              feature_types=None, gamma=None, gpu_id=None,\n",
       "                              grow_policy=None, importance_type=None,\n",
       "                              interaction_constraints=None, learning_rate=0.01,\n",
       "                              max_bin=None, max_cat_threshold=None,\n",
       "                              max_cat_to_onehot=None, max_delta_step=None,\n",
       "                              max_depth=9, max_leaves=None,\n",
       "                              min_child_weight=None, missing=nan,\n",
       "                              monotone_constraints=None, n_estimators=650,\n",
       "                              n_jobs=None, num_parallel_tree=None,\n",
       "                              predictor=None, ...))])"
      ]
     },
     "execution_count": 55,
     "metadata": {},
     "output_type": "execute_result"
    }
   ],
   "source": [
    "best_xgb_rscv = Pipeline(steps = [('preprocessor', preprocessor),\n",
    "                                 ('regressor', XGBRegressor(subsample=0.9, reg_lambda=0.01, alpha=0.1, n_estimators=650, max_depth=9, learning_rate=0.01, colsample_bytree=0.9, random_state=48))])\n",
    "\n",
    "#Fitting the model\n",
    "best_xgb_rscv.fit(X_train, y_train)"
   ]
  },
  {
   "cell_type": "code",
   "execution_count": 56,
   "id": "20c510ee",
   "metadata": {
    "execution": {
     "iopub.execute_input": "2024-01-09T10:50:33.360217Z",
     "iopub.status.busy": "2024-01-09T10:50:33.359110Z",
     "iopub.status.idle": "2024-01-09T10:50:34.038591Z",
     "shell.execute_reply": "2024-01-09T10:50:34.037743Z"
    },
    "papermill": {
     "duration": 0.725527,
     "end_time": "2024-01-09T10:50:34.041623",
     "exception": false,
     "start_time": "2024-01-09T10:50:33.316096",
     "status": "completed"
    },
    "tags": []
   },
   "outputs": [
    {
     "name": "stdout",
     "output_type": "stream",
     "text": [
      "R-squared (R2) Score from Best XGBoost Regressor using RandomizedSearchCV: 0.9508985200053464\n"
     ]
    }
   ],
   "source": [
    "#Prediction\n",
    "y_pred_best_xgb_rscv = best_xgb_rscv.predict(X_test)\n",
    "\n",
    "#Scoring\n",
    "r_sq_score = r2_score(y_test, y_pred_best_xgb_rscv)\n",
    "\n",
    "# Printing Score\n",
    "print(f'R-squared (R2) Score from Best XGBoost Regressor using RandomizedSearchCV: {r_sq_score}')"
   ]
  },
  {
   "cell_type": "code",
   "execution_count": 57,
   "id": "887578e0",
   "metadata": {
    "execution": {
     "iopub.execute_input": "2024-01-09T10:50:34.128925Z",
     "iopub.status.busy": "2024-01-09T10:50:34.128491Z",
     "iopub.status.idle": "2024-01-09T10:50:34.138878Z",
     "shell.execute_reply": "2024-01-09T10:50:34.137597Z"
    },
    "papermill": {
     "duration": 0.054614,
     "end_time": "2024-01-09T10:50:34.141560",
     "exception": false,
     "start_time": "2024-01-09T10:50:34.086946",
     "status": "completed"
    },
    "tags": []
   },
   "outputs": [
    {
     "name": "stdout",
     "output_type": "stream",
     "text": [
      "Mean squared error for RandomForestRegressor is 32.4946780740581, GradientBosstingRegressor is 33.18391376826559, and XGBRegressor is 30.91136466958532\n"
     ]
    }
   ],
   "source": [
    "# Mean Squared Error comparison\n",
    "\n",
    "from sklearn.metrics import mean_squared_error\n",
    "\n",
    "# RandomForest (Best RF)\n",
    "mse_rf = mean_squared_error(y_test, best_y_pred_rf)\n",
    "\n",
    "#GradientBoosting\n",
    "mse_gb = mean_squared_error(y_test, best_y_gradient_boost)\n",
    "\n",
    "#XGBoost\n",
    "mse_xgb = mean_squared_error(y_test, y_pred_xgb)\n",
    "\n",
    "print(f\"Mean squared error for RandomForestRegressor is {mse_rf}, GradientBosstingRegressor is {mse_gb}, and XGBRegressor is {mse_xgb}\")"
   ]
  },
  {
   "cell_type": "markdown",
   "id": "05e03b0a",
   "metadata": {
    "papermill": {
     "duration": 0.040271,
     "end_time": "2024-01-09T10:50:34.226566",
     "exception": false,
     "start_time": "2024-01-09T10:50:34.186295",
     "status": "completed"
    },
    "tags": []
   },
   "source": [
    "* Mean squared error for RandomForestRegressor is 32.4946780740581, GradientBosstingRegressor is 33.18391376826559, and XGBRegressor is 30.91136466958532\n",
    "* Here we can see that evcen for the mean squarred error XGBRegressor performs better than the other two. "
   ]
  },
  {
   "cell_type": "markdown",
   "id": "e225a3f8",
   "metadata": {
    "papermill": {
     "duration": 0.041317,
     "end_time": "2024-01-09T10:50:34.309623",
     "exception": false,
     "start_time": "2024-01-09T10:50:34.268306",
     "status": "completed"
    },
    "tags": []
   },
   "source": [
    "**Comparing the best 3 models - XGBRegressor, RandomForestRegressor, GradientBoostingRegressor**\n",
    "* Here train_test_split data is being used to see the performance of models on training set."
   ]
  },
  {
   "cell_type": "code",
   "execution_count": 58,
   "id": "5c35f2b8",
   "metadata": {
    "execution": {
     "iopub.execute_input": "2024-01-09T10:50:34.394202Z",
     "iopub.status.busy": "2024-01-09T10:50:34.393692Z",
     "iopub.status.idle": "2024-01-09T10:50:36.482440Z",
     "shell.execute_reply": "2024-01-09T10:50:36.481294Z"
    },
    "papermill": {
     "duration": 2.134919,
     "end_time": "2024-01-09T10:50:36.485923",
     "exception": false,
     "start_time": "2024-01-09T10:50:34.351004",
     "status": "completed"
    },
    "tags": []
   },
   "outputs": [
    {
     "data": {
      "image/png": "[encoded data removed]",
      "text/plain": [
       "<Figure size 1200x800 with 1 Axes>"
      ]
     },
     "metadata": {},
     "output_type": "display_data"
    }
   ],
   "source": [
    "plt.figure(figsize=(12, 8))\n",
    "\n",
    "# Scatter plot for XGBoost predictions\n",
    "sns.scatterplot(x=y_test, y=y_pred_xgb, label='XGBoost Predictions', alpha=0.7)\n",
    "\n",
    "# Scatter plot for Random Forest predictions\n",
    "sns.scatterplot(x=y_test, y=best_y_pred_rf, label='Random Forest Predictions', alpha=0.7)\n",
    "\n",
    "# Scatter plot for GridSearchCV predictions \n",
    "sns.scatterplot(x=y_test, y=best_y_gradient_boost, label='GridSearchCV Predictions', alpha=0.7)\n",
    "\n",
    "# Line for perfect predictions\n",
    "sns.lineplot(x=[min(y_test), max(y_test)], y=[min(y_test), max(y_test)], linestyle='--', color='k', label='Perfect Predictions')\n",
    "\n",
    "plt.xlabel('Actual Values (y_test)')\n",
    "plt.ylabel('Predicted Values')\n",
    "plt.title('Comparison of Predicted Values of XGBoost, Random Forest, and GridSearchCV')\n",
    "plt.legend()\n",
    "plt.grid(True)\n",
    "plt.show()\n"
   ]
  },
  {
   "cell_type": "markdown",
   "id": "766e51ec",
   "metadata": {
    "papermill": {
     "duration": 0.043209,
     "end_time": "2024-01-09T10:50:36.573924",
     "exception": false,
     "start_time": "2024-01-09T10:50:36.530715",
     "status": "completed"
    },
    "tags": []
   },
   "source": [
    "# **Submission**"
   ]
  },
  {
   "cell_type": "markdown",
   "id": "17085684",
   "metadata": {
    "papermill": {
     "duration": 0.042983,
     "end_time": "2024-01-09T10:50:36.659846",
     "exception": false,
     "start_time": "2024-01-09T10:50:36.616863",
     "status": "completed"
    },
    "tags": []
   },
   "source": [
    "***Loading test.csv***"
   ]
  },
  {
   "cell_type": "code",
   "execution_count": 59,
   "id": "5cd639ce",
   "metadata": {
    "execution": {
     "iopub.execute_input": "2024-01-09T10:50:36.748020Z",
     "iopub.status.busy": "2024-01-09T10:50:36.747618Z",
     "iopub.status.idle": "2024-01-09T10:50:36.953149Z",
     "shell.execute_reply": "2024-01-09T10:50:36.952035Z"
    },
    "papermill": {
     "duration": 0.252078,
     "end_time": "2024-01-09T10:50:36.955459",
     "exception": false,
     "start_time": "2024-01-09T10:50:36.703381",
     "status": "completed"
    },
    "tags": []
   },
   "outputs": [
    {
     "data": {
      "text/plain": [
       "(50000, 16)"
      ]
     },
     "execution_count": 59,
     "metadata": {},
     "output_type": "execute_result"
    }
   ],
   "source": [
    "#LOADING test.csv file\n",
    "test_data_path='/kaggle/input/taxi-fare-guru-total-amount-prediction-challenge/test.csv'\n",
    "test_data=pd.read_csv(test_data_path) \n",
    "\n",
    "#SHAPE OF test.csv\n",
    "test_data.shape"
   ]
  },
  {
   "cell_type": "code",
   "execution_count": 60,
   "id": "72dfe3de",
   "metadata": {
    "execution": {
     "iopub.execute_input": "2024-01-09T10:50:37.045411Z",
     "iopub.status.busy": "2024-01-09T10:50:37.044471Z",
     "iopub.status.idle": "2024-01-09T10:50:37.074401Z",
     "shell.execute_reply": "2024-01-09T10:50:37.073437Z"
    },
    "papermill": {
     "duration": 0.077752,
     "end_time": "2024-01-09T10:50:37.076783",
     "exception": false,
     "start_time": "2024-01-09T10:50:36.999031",
     "status": "completed"
    },
    "tags": []
   },
   "outputs": [
    {
     "data": {
      "text/plain": [
       "VendorID                    0\n",
       "tpep_pickup_datetime        0\n",
       "tpep_dropoff_datetime       0\n",
       "passenger_count          1779\n",
       "trip_distance               0\n",
       "RatecodeID               1779\n",
       "store_and_fwd_flag       1779\n",
       "PULocationID                0\n",
       "DOLocationID                0\n",
       "payment_type                0\n",
       "extra                       0\n",
       "tip_amount                  0\n",
       "tolls_amount                0\n",
       "improvement_surcharge       0\n",
       "congestion_surcharge     1779\n",
       "Airport_fee              1779\n",
       "dtype: int64"
      ]
     },
     "execution_count": 60,
     "metadata": {},
     "output_type": "execute_result"
    }
   ],
   "source": [
    "#SEARCHING FOR NULL VALUES\n",
    "test_data.isnull().sum()"
   ]
  },
  {
   "cell_type": "code",
   "execution_count": 61,
   "id": "a203cd84",
   "metadata": {
    "execution": {
     "iopub.execute_input": "2024-01-09T10:50:37.165993Z",
     "iopub.status.busy": "2024-01-09T10:50:37.165600Z",
     "iopub.status.idle": "2024-01-09T10:50:37.238086Z",
     "shell.execute_reply": "2024-01-09T10:50:37.237026Z"
    },
    "papermill": {
     "duration": 0.120059,
     "end_time": "2024-01-09T10:50:37.240772",
     "exception": false,
     "start_time": "2024-01-09T10:50:37.120713",
     "status": "completed"
    },
    "tags": []
   },
   "outputs": [
    {
     "data": {
      "text/html": [
       "<div>\n",
       "<style scoped>\n",
       "    .dataframe tbody tr th:only-of-type {\n",
       "        vertical-align: middle;\n",
       "    }\n",
       "\n",
       "    .dataframe tbody tr th {\n",
       "        vertical-align: top;\n",
       "    }\n",
       "\n",
       "    .dataframe thead th {\n",
       "        text-align: right;\n",
       "    }\n",
       "</style>\n",
       "<table border=\"1\" class=\"dataframe\">\n",
       "  <thead>\n",
       "    <tr style=\"text-align: right;\">\n",
       "      <th></th>\n",
       "      <th>VendorID</th>\n",
       "      <th>passenger_count</th>\n",
       "      <th>trip_distance</th>\n",
       "      <th>RatecodeID</th>\n",
       "      <th>PULocationID</th>\n",
       "      <th>DOLocationID</th>\n",
       "      <th>extra</th>\n",
       "      <th>tip_amount</th>\n",
       "      <th>tolls_amount</th>\n",
       "      <th>improvement_surcharge</th>\n",
       "      <th>congestion_surcharge</th>\n",
       "      <th>Airport_fee</th>\n",
       "    </tr>\n",
       "  </thead>\n",
       "  <tbody>\n",
       "    <tr>\n",
       "      <th>count</th>\n",
       "      <td>50000.000000</td>\n",
       "      <td>48221.000000</td>\n",
       "      <td>50000.000000</td>\n",
       "      <td>48221.000000</td>\n",
       "      <td>50000.000000</td>\n",
       "      <td>50000.000000</td>\n",
       "      <td>50000.000000</td>\n",
       "      <td>50000.000000</td>\n",
       "      <td>50000.000000</td>\n",
       "      <td>50000.000000</td>\n",
       "      <td>48221.000000</td>\n",
       "      <td>48221.000000</td>\n",
       "    </tr>\n",
       "    <tr>\n",
       "      <th>mean</th>\n",
       "      <td>0.730280</td>\n",
       "      <td>1.358309</td>\n",
       "      <td>3.999013</td>\n",
       "      <td>1.567014</td>\n",
       "      <td>132.208160</td>\n",
       "      <td>132.559300</td>\n",
       "      <td>1.918050</td>\n",
       "      <td>6.107765</td>\n",
       "      <td>0.615867</td>\n",
       "      <td>0.981354</td>\n",
       "      <td>2.255345</td>\n",
       "      <td>0.152133</td>\n",
       "    </tr>\n",
       "    <tr>\n",
       "      <th>std</th>\n",
       "      <td>0.444584</td>\n",
       "      <td>0.879948</td>\n",
       "      <td>78.958759</td>\n",
       "      <td>6.875115</td>\n",
       "      <td>76.483766</td>\n",
       "      <td>76.410602</td>\n",
       "      <td>1.938568</td>\n",
       "      <td>4.408572</td>\n",
       "      <td>2.289421</td>\n",
       "      <td>0.190203</td>\n",
       "      <td>0.803190</td>\n",
       "      <td>0.502866</td>\n",
       "    </tr>\n",
       "    <tr>\n",
       "      <th>min</th>\n",
       "      <td>0.000000</td>\n",
       "      <td>0.000000</td>\n",
       "      <td>0.000000</td>\n",
       "      <td>1.000000</td>\n",
       "      <td>1.000000</td>\n",
       "      <td>1.000000</td>\n",
       "      <td>-7.500000</td>\n",
       "      <td>0.000409</td>\n",
       "      <td>-23.000000</td>\n",
       "      <td>-1.000000</td>\n",
       "      <td>-2.500000</td>\n",
       "      <td>-1.750000</td>\n",
       "    </tr>\n",
       "    <tr>\n",
       "      <th>25%</th>\n",
       "      <td>0.000000</td>\n",
       "      <td>1.000000</td>\n",
       "      <td>1.090000</td>\n",
       "      <td>1.000000</td>\n",
       "      <td>66.000000</td>\n",
       "      <td>67.000000</td>\n",
       "      <td>0.000000</td>\n",
       "      <td>3.464018</td>\n",
       "      <td>0.000000</td>\n",
       "      <td>1.000000</td>\n",
       "      <td>2.500000</td>\n",
       "      <td>0.000000</td>\n",
       "    </tr>\n",
       "    <tr>\n",
       "      <th>50%</th>\n",
       "      <td>1.000000</td>\n",
       "      <td>1.000000</td>\n",
       "      <td>1.850000</td>\n",
       "      <td>1.000000</td>\n",
       "      <td>132.000000</td>\n",
       "      <td>133.000000</td>\n",
       "      <td>1.000000</td>\n",
       "      <td>5.271687</td>\n",
       "      <td>0.000000</td>\n",
       "      <td>1.000000</td>\n",
       "      <td>2.500000</td>\n",
       "      <td>0.000000</td>\n",
       "    </tr>\n",
       "    <tr>\n",
       "      <th>75%</th>\n",
       "      <td>1.000000</td>\n",
       "      <td>1.000000</td>\n",
       "      <td>3.600000</td>\n",
       "      <td>1.000000</td>\n",
       "      <td>199.000000</td>\n",
       "      <td>199.000000</td>\n",
       "      <td>2.500000</td>\n",
       "      <td>7.504048</td>\n",
       "      <td>0.000000</td>\n",
       "      <td>1.000000</td>\n",
       "      <td>2.500000</td>\n",
       "      <td>0.000000</td>\n",
       "    </tr>\n",
       "    <tr>\n",
       "      <th>max</th>\n",
       "      <td>2.000000</td>\n",
       "      <td>8.000000</td>\n",
       "      <td>17624.430000</td>\n",
       "      <td>99.000000</td>\n",
       "      <td>264.000000</td>\n",
       "      <td>264.000000</td>\n",
       "      <td>11.750000</td>\n",
       "      <td>96.551343</td>\n",
       "      <td>47.750000</td>\n",
       "      <td>1.000000</td>\n",
       "      <td>2.500000</td>\n",
       "      <td>1.750000</td>\n",
       "    </tr>\n",
       "  </tbody>\n",
       "</table>\n",
       "</div>"
      ],
      "text/plain": [
       "           VendorID  passenger_count  trip_distance    RatecodeID  \\\n",
       "count  50000.000000     48221.000000   50000.000000  48221.000000   \n",
       "mean       0.730280         1.358309       3.999013      1.567014   \n",
       "std        0.444584         0.879948      78.958759      6.875115   \n",
       "min        0.000000         0.000000       0.000000      1.000000   \n",
       "25%        0.000000         1.000000       1.090000      1.000000   \n",
       "50%        1.000000         1.000000       1.850000      1.000000   \n",
       "75%        1.000000         1.000000       3.600000      1.000000   \n",
       "max        2.000000         8.000000   17624.430000     99.000000   \n",
       "\n",
       "       PULocationID  DOLocationID         extra    tip_amount  tolls_amount  \\\n",
       "count  50000.000000  50000.000000  50000.000000  50000.000000  50000.000000   \n",
       "mean     132.208160    132.559300      1.918050      6.107765      0.615867   \n",
       "std       76.483766     76.410602      1.938568      4.408572      2.289421   \n",
       "min        1.000000      1.000000     -7.500000      0.000409    -23.000000   \n",
       "25%       66.000000     67.000000      0.000000      3.464018      0.000000   \n",
       "50%      132.000000    133.000000      1.000000      5.271687      0.000000   \n",
       "75%      199.000000    199.000000      2.500000      7.504048      0.000000   \n",
       "max      264.000000    264.000000     11.750000     96.551343     47.750000   \n",
       "\n",
       "       improvement_surcharge  congestion_surcharge   Airport_fee  \n",
       "count           50000.000000          48221.000000  48221.000000  \n",
       "mean                0.981354              2.255345      0.152133  \n",
       "std                 0.190203              0.803190      0.502866  \n",
       "min                -1.000000             -2.500000     -1.750000  \n",
       "25%                 1.000000              2.500000      0.000000  \n",
       "50%                 1.000000              2.500000      0.000000  \n",
       "75%                 1.000000              2.500000      0.000000  \n",
       "max                 1.000000              2.500000      1.750000  "
      ]
     },
     "execution_count": 61,
     "metadata": {},
     "output_type": "execute_result"
    }
   ],
   "source": [
    "#statistics\n",
    "test_data.describe()"
   ]
  },
  {
   "cell_type": "code",
   "execution_count": 62,
   "id": "24d48610",
   "metadata": {
    "execution": {
     "iopub.execute_input": "2024-01-09T10:50:37.334472Z",
     "iopub.status.busy": "2024-01-09T10:50:37.334099Z",
     "iopub.status.idle": "2024-01-09T10:50:37.398648Z",
     "shell.execute_reply": "2024-01-09T10:50:37.397660Z"
    },
    "papermill": {
     "duration": 0.111851,
     "end_time": "2024-01-09T10:50:37.401451",
     "exception": false,
     "start_time": "2024-01-09T10:50:37.289600",
     "status": "completed"
    },
    "tags": []
   },
   "outputs": [],
   "source": [
    "#Feature Engineering\n",
    "test_data['tpep_pickup_datetime'] = pd.to_datetime(test_data['tpep_pickup_datetime'])\n",
    "test_data['tpep_dropoff_datetime'] = pd.to_datetime(test_data['tpep_dropoff_datetime'])\n",
    "\n",
    "test_data['pickup_day'] = test_data['tpep_pickup_datetime'].dt.dayofweek\n",
    "test_data['pickup_hour'] = test_data['tpep_pickup_datetime'].dt.hour\n",
    "test_data['trip_duration_minutes'] = (test_data['tpep_dropoff_datetime'] - test_data['tpep_pickup_datetime']).dt.total_seconds() / 60"
   ]
  },
  {
   "cell_type": "code",
   "execution_count": 63,
   "id": "67f19c46",
   "metadata": {
    "execution": {
     "iopub.execute_input": "2024-01-09T10:50:37.493187Z",
     "iopub.status.busy": "2024-01-09T10:50:37.492710Z",
     "iopub.status.idle": "2024-01-09T10:50:37.502001Z",
     "shell.execute_reply": "2024-01-09T10:50:37.500946Z"
    },
    "papermill": {
     "duration": 0.056707,
     "end_time": "2024-01-09T10:50:37.504346",
     "exception": false,
     "start_time": "2024-01-09T10:50:37.447639",
     "status": "completed"
    },
    "tags": []
   },
   "outputs": [],
   "source": [
    "#Dropping columns 'tpep_pickup_datetime', 'tpep_dropoff_datetime'\n",
    "test_data_2 = test_data.drop(['tpep_pickup_datetime', 'tpep_dropoff_datetime'], axis=1)"
   ]
  },
  {
   "cell_type": "markdown",
   "id": "23eb2413",
   "metadata": {
    "papermill": {
     "duration": 0.043816,
     "end_time": "2024-01-09T10:50:37.592439",
     "exception": false,
     "start_time": "2024-01-09T10:50:37.548623",
     "status": "completed"
    },
    "tags": []
   },
   "source": [
    "Identifying Categorical and numerical features for Imputation"
   ]
  },
  {
   "cell_type": "code",
   "execution_count": 64,
   "id": "8e418f6b",
   "metadata": {
    "execution": {
     "iopub.execute_input": "2024-01-09T10:50:37.682865Z",
     "iopub.status.busy": "2024-01-09T10:50:37.682197Z",
     "iopub.status.idle": "2024-01-09T10:50:37.687412Z",
     "shell.execute_reply": "2024-01-09T10:50:37.686421Z"
    },
    "papermill": {
     "duration": 0.052724,
     "end_time": "2024-01-09T10:50:37.689596",
     "exception": false,
     "start_time": "2024-01-09T10:50:37.636872",
     "status": "completed"
    },
    "tags": []
   },
   "outputs": [],
   "source": [
    "#Dividing data in categorical columns and numerical columns\n",
    "test_categorical_cols = ['store_and_fwd_flag', 'payment_type']\n",
    "test_numerical_cols = [col for col in test_data_2.columns if col not in test_categorical_cols]"
   ]
  },
  {
   "cell_type": "code",
   "execution_count": 65,
   "id": "f86ba565",
   "metadata": {
    "execution": {
     "iopub.execute_input": "2024-01-09T10:50:37.778468Z",
     "iopub.status.busy": "2024-01-09T10:50:37.777788Z",
     "iopub.status.idle": "2024-01-09T10:50:37.783993Z",
     "shell.execute_reply": "2024-01-09T10:50:37.782958Z"
    },
    "papermill": {
     "duration": 0.053053,
     "end_time": "2024-01-09T10:50:37.786180",
     "exception": false,
     "start_time": "2024-01-09T10:50:37.733127",
     "status": "completed"
    },
    "tags": []
   },
   "outputs": [],
   "source": [
    "#Transforming and preprocessing\n",
    "test_numerical_transformer = Pipeline(steps=[\n",
    "    ('imputer', SimpleImputer(strategy='median')),\n",
    "    ('scaler', StandardScaler())\n",
    "])\n",
    "\n",
    "test_categorical_transformer = Pipeline(steps=[\n",
    "    ('imputer', SimpleImputer(strategy='most_frequent')),\n",
    "    ('onehot', OneHotEncoder(sparse=False, handle_unknown='ignore'))\n",
    "])"
   ]
  },
  {
   "cell_type": "code",
   "execution_count": 66,
   "id": "995a8e39",
   "metadata": {
    "execution": {
     "iopub.execute_input": "2024-01-09T10:50:37.875995Z",
     "iopub.status.busy": "2024-01-09T10:50:37.875581Z",
     "iopub.status.idle": "2024-01-09T10:50:37.880860Z",
     "shell.execute_reply": "2024-01-09T10:50:37.879836Z"
    },
    "papermill": {
     "duration": 0.052885,
     "end_time": "2024-01-09T10:50:37.883116",
     "exception": false,
     "start_time": "2024-01-09T10:50:37.830231",
     "status": "completed"
    },
    "tags": []
   },
   "outputs": [],
   "source": [
    "# Applying transformers to columns\n",
    "preprocessor = ColumnTransformer(\n",
    "    transformers=[\n",
    "        ('num', test_numerical_transformer, test_numerical_cols),\n",
    "        ('cat', test_categorical_transformer, test_categorical_cols)\n",
    "    ])"
   ]
  },
  {
   "cell_type": "code",
   "execution_count": 67,
   "id": "b33efbad",
   "metadata": {
    "execution": {
     "iopub.execute_input": "2024-01-09T10:50:37.972339Z",
     "iopub.status.busy": "2024-01-09T10:50:37.971924Z",
     "iopub.status.idle": "2024-01-09T10:50:38.141709Z",
     "shell.execute_reply": "2024-01-09T10:50:38.140833Z"
    },
    "papermill": {
     "duration": 0.216927,
     "end_time": "2024-01-09T10:50:38.144221",
     "exception": false,
     "start_time": "2024-01-09T10:50:37.927294",
     "status": "completed"
    },
    "tags": []
   },
   "outputs": [],
   "source": [
    "#Prediction on BEST XGB Regressior With GSCV\n",
    "y_test_pred = best_xgb_reg_gs.predict(test_data_2)"
   ]
  },
  {
   "cell_type": "code",
   "execution_count": 68,
   "id": "d84c9c97",
   "metadata": {
    "execution": {
     "iopub.execute_input": "2024-01-09T10:50:38.234840Z",
     "iopub.status.busy": "2024-01-09T10:50:38.234073Z",
     "iopub.status.idle": "2024-01-09T10:50:38.409341Z",
     "shell.execute_reply": "2024-01-09T10:50:38.408421Z"
    },
    "papermill": {
     "duration": 0.222092,
     "end_time": "2024-01-09T10:50:38.411909",
     "exception": false,
     "start_time": "2024-01-09T10:50:38.189817",
     "status": "completed"
    },
    "tags": []
   },
   "outputs": [],
   "source": [
    "# Generating Submission File\n",
    "submission_df = pd.DataFrame({\n",
    "    'ID': test_data_2.index + 1, \n",
    "    'total_amount': y_test_pred\n",
    "})\n",
    "\n",
    "submission_df.to_csv('submission.csv', index=False)"
   ]
  },
  {
   "cell_type": "markdown",
   "id": "4a64e975",
   "metadata": {
    "papermill": {
     "duration": 0.043708,
     "end_time": "2024-01-09T10:50:38.498216",
     "exception": false,
     "start_time": "2024-01-09T10:50:38.454508",
     "status": "completed"
    },
    "tags": []
   },
   "source": [
    "**Best Scores**\n",
    "1. Random Forest Regressor = 0.94183.\n",
    "2. Gradient Bossting Regressor with GridSearch CV = 0.94681\n",
    "3. XGBoost with GridSearch CV = 0.94681 after HPT = 0.94857\n",
    "4. XGBoost with RandomizedSearch CV = 0.94426"
   ]
  }
 ],
 "metadata": {
  "kaggle": {
   "accelerator": "none",
   "dataSources": [
    {
     "databundleVersionId": 6604167,
     "sourceId": 61246,
     "sourceType": "competition"
    }
   ],
   "dockerImageVersionId": 30558,
   "isGpuEnabled": false,
   "isInternetEnabled": true,
   "language": "python",
   "sourceType": "notebook"
  },
  "kernelspec": {
   "display_name": "Python 3",
   "language": "python",
   "name": "python3"
  },
  "language_info": {
   "codemirror_mode": {
    "name": "ipython",
    "version": 3
   },
   "file_extension": ".py",
   "mimetype": "text/x-python",
   "name": "python",
   "nbconvert_exporter": "python",
   "pygments_lexer": "ipython3",
   "version": "3.10.12"
  },
  "papermill": {
   "default_parameters": {},
   "duration": 2130.780151,
   "end_time": "2024-01-09T10:50:39.271635",
   "environment_variables": {},
   "exception": null,
   "input_path": "__notebook__.ipynb",
   "output_path": "__notebook__.ipynb",
   "parameters": {},
   "start_time": "2024-01-09T10:15:08.491484",
   "version": "2.4.0"
  }
 },
 "nbformat": 4,
 "nbformat_minor": 5
}
